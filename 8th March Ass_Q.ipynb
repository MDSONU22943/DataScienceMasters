{
 "cells": [
  {
   "cell_type": "markdown",
   "id": "87c7bc61",
   "metadata": {},
   "source": [
    "Q1. What is the Probability density function?\n",
    "\n",
    "The probability density function (PDF) is a function that describes the relative likelihood of a continuous random variable\n",
    "taking on a given value. In other words, it is a function that represents the probability distribution of a continuous random\n",
    "variable."
   ]
  },
  {
   "cell_type": "markdown",
   "id": "3c5047c7",
   "metadata": {},
   "source": [
    "Q2. What are the types of Probability distribution?\n",
    "\n",
    "There are several types of probability distributions, including:\n",
    "\n",
    "Discrete probability distributions: These distributions describe the probabilities of discrete events, such as the number of\n",
    "heads obtained in a coin toss or the number of defects in a batch of products. Examples of discrete probability distributions \n",
    "include the Bernoulli distribution, the binomial distribution, the Poisson distribution, and the geometric distribution.\n",
    "\n",
    "Continuous probability distributions: These distributions describe the probabilities of continuous events, such as the height\n",
    "or weight of individuals in a population or the time taken for a process to complete. Examples of continuous probability \n",
    "distributions include the normal distribution, the uniform distribution, the exponential distribution, and the beta \n",
    "distribution."
   ]
  },
  {
   "cell_type": "markdown",
   "id": "c38d4c82",
   "metadata": {},
   "source": [
    "Q3. Write a Python function to calculate the probability density function of a normal distribution with\n",
    "given mean and standard deviation at a given point.\n"
   ]
  },
  {
   "cell_type": "code",
   "execution_count": 1,
   "id": "c9ae205b",
   "metadata": {},
   "outputs": [
    {
     "name": "stdout",
     "output_type": "stream",
     "text": [
      "0.12951759566589174\n"
     ]
    }
   ],
   "source": [
    "import math\n",
    "\n",
    "def normal_pdf(x, mu, sigma):\n",
    "    \"\"\"\n",
    "    Calculates the probability density function of a normal distribution\n",
    "    with the given mean (mu) and standard deviation (sigma) at the given point (x).\n",
    "    \"\"\"\n",
    "    coeff = 1 / (sigma * math.sqrt(2 * math.pi))\n",
    "    exponent = -(x - mu)**2 / (2 * sigma**2)\n",
    "    return coeff * math.exp(exponent)\n",
    "\n",
    "pdf_value = normal_pdf(1.5, 0, 1)\n",
    "print(pdf_value)\n"
   ]
  },
  {
   "cell_type": "markdown",
   "id": "1f249e0f",
   "metadata": {},
   "source": [
    "Q4. What are the properties of Binomial distribution? Give two examples of events where binomial\n",
    "distribution can be applied.\n"
   ]
  },
  {
   "cell_type": "markdown",
   "id": "1ba9e859",
   "metadata": {},
   "source": [
    "The binomial distribution is a discrete probability distribution that describes the probability of a certain number of \n",
    "successes  in a fixed number of independent trials, where each trial has only two possible outcomes, such as success or failure.\n",
    "The  properties of the binomial distribution include:\n",
    "\n",
    "Fixed number of trials: The number of trials is fixed and denoted by n.\n",
    "Independent trials: Each trial is independent of the others.\n",
    "Two outcomes: Each trial has only two possible outcomes, which are usually denoted as success and failure.\n",
    "Constant probability: The probability of success in each trial is constant and denoted by p.\n",
    "Counting variable: The number of successes in n trials is a counting variable and denoted by X.\n",
    "Probability function: The probability of X successes in n trials is given by the binomial probability function.\n",
    "Two examples of events where binomial distribution can be applied are:\n",
    "\n",
    "Flipping a coin: Suppose you flip a fair coin 10 times and want to know the probability of getting exactly 6 heads. This is an \n",
    "example of a binomial distribution with n = 10 and p = 0.5.\n",
    "Quality control: A company produces light bulbs, and 5% of them are defective. A random sample of 20 bulbs is taken. What is \n",
    "the probability that exactly 2 bulbs in the sample are defective? This is another example of a binomial distribution with n = 20\n",
    "and p = 0.05."
   ]
  },
  {
   "cell_type": "markdown",
   "id": "7a9a15cc",
   "metadata": {},
   "source": [
    "Q5. Generate a random sample of size 1000 from a binomial distribution with probability of success 0.4\n",
    "and plot a histogram of the results using matplotlib."
   ]
  },
  {
   "cell_type": "code",
   "execution_count": 2,
   "id": "c8021f39",
   "metadata": {},
   "outputs": [
    {
     "data": {
      "image/png": "[encoded data removed]",
      "text/plain": [
       "<Figure size 640x480 with 1 Axes>"
      ]
     },
     "metadata": {},
     "output_type": "display_data"
    }
   ],
   "source": [
    "import numpy as np\n",
    "import matplotlib.pyplot as plt\n",
    "\n",
    "# Set the parameters of the binomial distribution\n",
    "n = 10\n",
    "p = 0.4\n",
    "\n",
    "# Generate a random sample of size 1000 from the binomial distribution\n",
    "sample = np.random.binomial(n, p, size=1000)\n",
    "\n",
    "# Plot a histogram of the sample\n",
    "plt.hist(sample, bins=range(n+2), align='left', rwidth=0.8, density=True)\n",
    "\n",
    "# Set the x-axis label and title of the histogram\n",
    "plt.xlabel('Number of successes')\n",
    "plt.ylabel('Probability')\n",
    "plt.title('Binomial distribution with n=10, p=0.4')\n",
    "\n",
    "# Display the histogram\n",
    "plt.show()\n"
   ]
  },
  {
   "cell_type": "markdown",
   "id": "9019a54f",
   "metadata": {},
   "source": [
    "Q6. Write a Python function to calculate the cumulative distribution function of a Poisson distribution\n",
    "with given mean at a given point."
   ]
  },
  {
   "cell_type": "code",
   "execution_count": 3,
   "id": "a174bea3",
   "metadata": {},
   "outputs": [
    {
     "name": "stdout",
     "output_type": "stream",
     "text": [
      "The CDF of a Poisson distribution with mean 2.50 at point 4 is 0.8912\n"
     ]
    }
   ],
   "source": [
    "import math\n",
    "\n",
    "def poisson_cdf(mu, k):\n",
    "    \"\"\"Calculate the cumulative distribution function of a Poisson distribution with mean mu at point k.\"\"\"\n",
    "    cdf = 0.0\n",
    "    for i in range(k + 1):\n",
    "        cdf += math.exp(-mu) * (mu ** i) / math.factorial(i)\n",
    "    return cdf\n",
    "\n",
    "mu = 2.5\n",
    "k = 4\n",
    "cdf = poisson_cdf(mu, k)\n",
    "print(f\"The CDF of a Poisson distribution with mean {mu:.2f} at point {k} is {cdf:.4f}\")\n"
   ]
  },
  {
   "cell_type": "markdown",
   "id": "7aee5996",
   "metadata": {},
   "source": [
    "Q7. How Binomial distribution different from Poisson distribution?"
   ]
  },
  {
   "cell_type": "markdown",
   "id": "c503d764",
   "metadata": {},
   "source": [
    "Binomial and Poisson distributions are both discrete probability distributions, but they differ in several ways:\n",
    "\n",
    "Number of trials: The binomial distribution models the number of successes in a fixed number of independent trials, while the\n",
    "Poisson distribution models the number of events occurring in a fixed interval of time or space.\n",
    "\n",
    "Nature of events: The binomial distribution models events that have two possible outcomes (success or failure), while the\n",
    "Poisson distribution models events that can occur at any rate.\n",
    "\n",
    "Assumptions: The binomial distribution assumes that the probability of success is constant for each trial, and the trials are\n",
    "independent. The Poisson distribution assumes that the events occur randomly and independently of each other.\n",
    "\n",
    "Parameters: The binomial distribution has two parameters: the probability of success p and the number of trials n. The Poisson \n",
    "distribution has one parameter: the average rate of events λ.\n",
    "\n",
    "Shape of distribution: The binomial distribution is bell-shaped, while the Poisson distribution is skewed to the right.\n",
    "\n",
    "Limitations: The binomial distribution is limited to a finite number of trials, while the Poisson distribution can be used for \n",
    "an infinite number of events.\n",
    "\n",
    "Examples where binomial distribution can be applied are: flipping a coin, rolling a die, or testing a new drug on a group of\n",
    "patients with a binary outcome (e.g. success/failure). Examples where Poisson distribution can be applied are: counting the \n",
    "number of cars passing on a road in a fixed time interval, the number of phone calls received by a customer service center in \n",
    "a day, or the number of errors on a web page per minute."
   ]
  },
  {
   "cell_type": "markdown",
   "id": "da15334a",
   "metadata": {},
   "source": [
    "Q8. Generate a random sample of size 1000 from a Poisson distribution with mean 5 and calculate the\n",
    "sample mean and variance."
   ]
  },
  {
   "cell_type": "code",
   "execution_count": 4,
   "id": "c248e228",
   "metadata": {},
   "outputs": [
    {
     "name": "stdout",
     "output_type": "stream",
     "text": [
      "Sample Mean: 4.985\n",
      "Sample Variance: 4.9967749999999995\n"
     ]
    }
   ],
   "source": [
    "import numpy as np\n",
    "\n",
    "# Set the random seed for reproducibility\n",
    "np.random.seed(42)\n",
    "\n",
    "# Generate a random sample of size 1000 from a Poisson distribution with mean 5\n",
    "sample = np.random.poisson(5, size=1000)\n",
    "\n",
    "# Calculate the sample mean and variance\n",
    "sample_mean = np.mean(sample)\n",
    "sample_var = np.var(sample)\n",
    "\n",
    "print(\"Sample Mean:\", sample_mean)\n",
    "print(\"Sample Variance:\", sample_var)\n"
   ]
  },
  {
   "cell_type": "markdown",
   "id": "d6217073",
   "metadata": {},
   "source": [
    "Q9. How mean and variance are related in Binomial distribution and Poisson distribution?"
   ]
  },
  {
   "cell_type": "markdown",
   "id": "17048068",
   "metadata": {},
   "source": [
    "In the Binomial distribution, the mean (μ) is equal to the product of the number of trials (n) and the probability of \n",
    "success (p), i.e. μ = np. The variance (σ^2) is equal to the product of the number of trials (n), the probability of \n",
    "success (p), and the probability of failure (q = 1-p), i.e. σ^2 = npq.\n",
    "\n",
    "In the Poisson distribution, the mean (μ) is equal to the rate parameter λ. The variance (σ^2) is also equal to λ.\n",
    "\n",
    "Therefore, in both Binomial and Poisson distributions, the variance is dependent on the mean. In the Binomial distribution, the\n",
    "variance increases as the mean increases. In the Poisson distribution, the variance is equal to the mean, so the variance and\n",
    "mean are always equal.\n",
    "\n",
    "This relationship between the mean and variance is an important property of these two distributions and is used in statistical \n",
    "analysis and modeling."
   ]
  },
  {
   "cell_type": "markdown",
   "id": "d1e9d895",
   "metadata": {},
   "source": [
    "Q10. In normal distribution with respect to mean position, where does the least frequent data appear?"
   ]
  },
  {
   "cell_type": "markdown",
   "id": "bfa90277",
   "metadata": {},
   "source": [
    "In a normal distribution, the data is symmetrically distributed around the mean. This means that the least frequent data would\n",
    "appear at the tails of the distribution, farthest away from the mean position. Specifically, the data that is more than 3 \n",
    "standard deviations away from the mean (either above or below) would be considered very rare, with a probability of less than\n",
    "0.3%.\n",
    "\n",
    "Therefore, the least frequent data appears in the extreme tails of the distribution, which are located at a distance of more \n",
    "than 3 standard deviations from the mean."
   ]
  },
  {
   "cell_type": "code",
   "execution_count": null,
   "id": "a2b85770",
   "metadata": {},
   "outputs": [],
   "source": []
  }
 ],
 "metadata": {
  "kernelspec": {
   "display_name": "Python 3 (ipykernel)",
   "language": "python",
   "name": "python3"
  },
  "language_info": {
   "codemirror_mode": {
    "name": "ipython",
    "version": 3
   },
   "file_extension": ".py",
   "mimetype": "text/x-python",
   "name": "python",
   "nbconvert_exporter": "python",
   "pygments_lexer": "ipython3",
   "version": "3.9.13"
  }
 },
 "nbformat": 4,
 "nbformat_minor": 5
}
