{
 "cells": [
  {
   "cell_type": "markdown",
   "id": "1dbf62b4",
   "metadata": {},
   "source": [
    "Q1. What is Abstraction in OOps? Explain with an example."
   ]
  },
  {
   "cell_type": "markdown",
   "id": "dc8da1e5",
   "metadata": {},
   "source": [
    "Abstraction is used to hide the internal functionality of the function from the users.\n",
    "User is familiar with that \"what function does\" but they don't know \"how it does.\"\n",
    "In simple words, we all use the smartphone and very much familiar with its functions such as camera,\n",
    "voice-recorder, call-dialing, etc., but we don't know how these operations are happening in the background.\n",
    "\n",
    "In Python, abstraction can be achieved by using abstract classes and interfaces.\n"
   ]
  },
  {
   "cell_type": "code",
   "execution_count": 3,
   "id": "41cb1296",
   "metadata": {},
   "outputs": [
    {
     "name": "stdout",
     "output_type": "stream",
     "text": [
      "The mileage is 30kmph\n",
      "The mileage is 27kmph \n",
      "The mileage is 25kmph \n",
      "The mileage is 24kmph \n"
     ]
    }
   ],
   "source": [
    "from abc import ABC, abstractmethod   \n",
    "class Car(ABC):   \n",
    "    def mileage(self):   \n",
    "        pass  \n",
    "  \n",
    " \n",
    "class Tesla(Car):   \n",
    "    def mileage(self):   \n",
    "        print(\"The mileage is 30kmph\")   \n",
    "class Suzuki(Car):   \n",
    "    def mileage(self):   \n",
    "        print(\"The mileage is 25kmph \")   \n",
    "class Duster(Car):   \n",
    "     def mileage(self):   \n",
    "          print(\"The mileage is 24kmph \")   \n",
    "  \n",
    "\n",
    "class Renault(Car):   \n",
    "    def mileage(self):   \n",
    "            print(\"The mileage is 27kmph \")   \n",
    "          \n",
    "   \n",
    "t= Tesla ()   \n",
    "t.mileage()   \n",
    "  \n",
    "r = Renault()   \n",
    "r.mileage()   \n",
    "  \n",
    "s = Suzuki()   \n",
    "s.mileage() \n",
    "\n",
    "d = Duster()   \n",
    "d.mileage()  "
   ]
  },
  {
   "cell_type": "markdown",
   "id": "5dd89336",
   "metadata": {},
   "source": [
    "Q2. Differentiate between Abstraction and Encapsulation. Explain with an example."
   ]
  },
  {
   "cell_type": "markdown",
   "id": "30e350e0",
   "metadata": {},
   "source": [
    "Abstraction shows only useful data by providing the most necessary details, whereas Encapsulation wraps code and data for\n",
    "necessary information.\n",
    "\n",
    "Abstraction is focused mainly on what should be done, while Encapsulation is focused on how it should be done.\n",
    "\n",
    "Abstraction hides complexity by giving you a more abstract picture, while Encapsulation hides internal work so that\n",
    "you can change it later.\n",
    "\n",
    "Abstraction helps you to partition the program into many independent portions, whereas Encapsulation is easy to change\n",
    "with new requirements.\n",
    "\n",
    "Comparing Encapsulation vs Abstraction, Abstraction solves problems at the design level while Encapsulation solves\n",
    "problems at the implementation level.\n",
    "\n",
    "Abstraction hides the irrelevant details found in the code, whereas Encapsulation helps developers to organize the\n",
    "entire code easily."
   ]
  },
  {
   "cell_type": "markdown",
   "id": "bbb00457",
   "metadata": {},
   "source": [
    "Q3. What is abc module in python? Why is it used?"
   ]
  },
  {
   "cell_type": "markdown",
   "id": "d566dedf",
   "metadata": {},
   "source": [
    "Abstract base classes provide a way to define interfaces when other techniques like hasattr() would \n",
    "be clumsy or subtly wrong (for example with magic methods). ABCs introduce virtual subclasses,\n",
    "which are classes that don’t inherit from a class but are still recognized by isinstance() and issubclass() functions.\n",
    "There are many built-in ABCs in Python. ABCs for Data structures like Iterator, Generator, Set, mapping etc.\n",
    "are defined in collections.abc module. The numbers module defines numeric tower which is a collection of base classes\n",
    "for numeric data types. The 'abc' module in Python library provides the infrastructure for defining custom abstract base\n",
    "classes.\n",
    "\n",
    "'abc' works by marking methods of the base class as abstract.\n",
    "This is done by @absttractmethod decorator. A concrete class which is a sub class of such abstract base class then \n",
    "implements the abstract base by overriding its abstract methods.\n",
    "\n",
    "The abc module defines ABCMeta class which is a metaclass for defining abstract base class.\n",
    "It is used to make the method of the abstract class as an abstract method."
   ]
  },
  {
   "cell_type": "markdown",
   "id": "2981155d",
   "metadata": {},
   "source": [
    "Q4. How can we achieve data abstraction?"
   ]
  },
  {
   "cell_type": "markdown",
   "id": "866785f0",
   "metadata": {},
   "source": [
    "Data abstraction is the process of hiding the underlying complexity of data and presenting it in a simplified form that \n",
    "is easier to understand and use. It can be achieved in several ways:\n",
    "\n",
    "Abstraction Layers: Abstraction layers are a set of intermediate representations of data that hide the complexity of \n",
    "the underlying data and present it in a simplified form. For example, an operating system provides an abstraction layer \n",
    "between the hardware and the software, allowing software to interact with the hardware without requiring knowledge of the \n",
    "underlying complexity.\n",
    "\n",
    "Encapsulation: Encapsulation is a technique in which the internal representation of an object is hidden from the outside world,\n",
    "and the object can be manipulated only through a well-defined interface. This allows data to be abstracted and protects it \n",
    "from unintended modifications.\n",
    "\n",
    "Abstract Data Types: Abstract data types are data structures that define a set of operations that can be performed on the data,\n",
    "but hide the underlying implementation details. For example, a stack is an abstract data type that defines the \n",
    "operations \"push\" and \"pop\", but the underlying implementation of the stack could be a linked list, an array, or any other\n",
    "data structure.\n",
    "\n",
    "Interfaces: An interface is a set of rules that define how an object can interact with the outside world. Interfaces allow\n",
    "    data to be\n",
    "abstracted by defining the operations that can be performed on the data, but hiding the underlying implementation details.\n",
    "\n",
    "Modularity: Modularity is the principle of breaking down a system into smaller, more manageable parts. By dividing a system\n",
    "into smaller,\n",
    "more manageable parts, each part can be treated as a separate abstract data type, making the overall system easier to\n",
    "understand and maintain.\n",
    "\n",
    "By using these techniques, it's possible to achieve data abstraction and make data easier to use and understand,\n",
    "while hiding the underlying complexity."
   ]
  },
  {
   "cell_type": "markdown",
   "id": "440799b6",
   "metadata": {},
   "source": [
    "Q5. Can we create an instance of an abstract class? Explain your answer."
   ]
  },
  {
   "cell_type": "markdown",
   "id": "dfafc783",
   "metadata": {},
   "source": [
    "no.we can't create instace of abstract class."
   ]
  },
  {
   "cell_type": "code",
   "execution_count": null,
   "id": "a78ad5a5",
   "metadata": {},
   "outputs": [],
   "source": []
  }
 ],
 "metadata": {
  "kernelspec": {
   "display_name": "Python 3 (ipykernel)",
   "language": "python",
   "name": "python3"
  },
  "language_info": {
   "codemirror_mode": {
    "name": "ipython",
    "version": 3
   },
   "file_extension": ".py",
   "mimetype": "text/x-python",
   "name": "python",
   "nbconvert_exporter": "python",
   "pygments_lexer": "ipython3",
   "version": "3.9.13"
  }
 },
 "nbformat": 4,
 "nbformat_minor": 5
}
