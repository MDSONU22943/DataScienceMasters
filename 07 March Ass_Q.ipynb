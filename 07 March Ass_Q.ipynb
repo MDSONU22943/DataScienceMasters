{
 "cells": [
  {
   "cell_type": "code",
   "execution_count": null,
   "id": "c50ce7bb",
   "metadata": {},
   "outputs": [],
   "source": [
    "Q1. What are the three measures of central tendency?\n",
    "\n",
    "The three measures of central tendency are:\n",
    "\n",
    "Mean: The arithmetic mean, or simply the mean, is calculated by summing up all the values in a dataset and dividing by the total\n",
    "number of values. The mean is the most commonly used measure of central tendency, but it can be affected by outliers.\n",
    "\n",
    "Median: The median is the middle value in a dataset when it is ordered from smallest to largest. If the dataset contains an even\n",
    "number of values, the median is the average of the two middle values. The median is less sensitive to outliers than the mean and\n",
    "is a more appropriate measure of central tendency for skewed distributions.\n",
    "\n",
    "Mode: The mode is the most frequently occurring value in a dataset. A dataset can have multiple modes or no mode at all. The \n",
    "mode is useful for identifying the most common value in a dataset, but it may not be representative of the entire dataset."
   ]
  },
  {
   "cell_type": "code",
   "execution_count": null,
   "id": "3bebcac2",
   "metadata": {},
   "outputs": [],
   "source": [
    "Q2. What is the difference between the mean, median, and mode? How are they used to measure the\n",
    "central tendency of a dataset?\n",
    "\n",
    "The mean, median, and mode are all measures of central tendency that provide different ways of summarizing a dataset.\n",
    "\n",
    "Mean: The mean is the sum of all the values in a dataset divided by the total number of values. It represents the average value \n",
    "in the dataset and is sensitive to outliers. The mean is useful when the data is normally distributed and not skewed.\n",
    "\n",
    "Median: The median is the middle value in a dataset when it is arranged in ascending or descending order. It divides the dataset\n",
    "into two equal halves and is less sensitive to outliers than the mean. The median is useful when the data is skewed or when the\n",
    "dataset contains outliers.\n",
    "\n",
    "Mode: The mode is the most frequently occurring value in a dataset. It is useful when the dataset is categorical or when we want\n",
    "to know the most common value in a dataset.\n",
    "\n",
    "The choice of measure of central tendency depends on the nature of the data and the research question. For example, when the \n",
    "data is normally distributed, the mean is often used as the measure of central tendency because it accurately represents the \n",
    "central value of the data. However, when the data is skewed, the median may be a better measure of central tendency because it\n",
    "is less influenced by outliers.\n",
    "\n",
    "In summary, the mean, median, and mode are all measures of central tendency that provide different ways of summarizing a \n",
    "dataset.\n",
    "The mean is sensitive to outliers, the median is less sensitive to outliers, and the mode is useful for categorical data or to \n",
    "identify the most common value in a dataset."
   ]
  },
  {
   "cell_type": "markdown",
   "id": "a0f27822",
   "metadata": {},
   "source": [
    "Q3. Measure the three measures of central tendency for the given height data:\n",
    "[178,177,176,177,178.2,178,175,179,180,175,178.9,176.2,177,172.5,178,176.5]\n",
    "\n"
   ]
  },
  {
   "cell_type": "code",
   "execution_count": 8,
   "id": "c26590c6",
   "metadata": {},
   "outputs": [
    {
     "data": {
      "text/plain": [
       "177.01875"
      ]
     },
     "execution_count": 8,
     "metadata": {},
     "output_type": "execute_result"
    }
   ],
   "source": [
    "import statistics as sns\n",
    "import numpy as np\n",
    "height=[178,177,176,177,178.2,178,175,179,180,175,178.9,176.2,177,172.5,178,176.5]\n",
    "np.mean(height)\n"
   ]
  },
  {
   "cell_type": "code",
   "execution_count": 9,
   "id": "44c79bfc",
   "metadata": {},
   "outputs": [
    {
     "data": {
      "text/plain": [
       "177.0"
      ]
     },
     "execution_count": 9,
     "metadata": {},
     "output_type": "execute_result"
    }
   ],
   "source": [
    "np.median(height)"
   ]
  },
  {
   "cell_type": "code",
   "execution_count": 10,
   "id": "bd27d12e",
   "metadata": {},
   "outputs": [
    {
     "data": {
      "text/plain": [
       "178"
      ]
     },
     "execution_count": 10,
     "metadata": {},
     "output_type": "execute_result"
    }
   ],
   "source": [
    "sns.mode(height)"
   ]
  },
  {
   "cell_type": "markdown",
   "id": "714b2269",
   "metadata": {},
   "source": [
    "Q4. Find the standard deviation for the given data:\n",
    "[178,177,176,177,178.2,178,175,179,180,175,178.9,176.2,177,172.5,178,176.5]"
   ]
  },
  {
   "cell_type": "code",
   "execution_count": 11,
   "id": "d7afdeba",
   "metadata": {},
   "outputs": [
    {
     "data": {
      "text/plain": [
       "1.7885814036548633"
      ]
     },
     "execution_count": 11,
     "metadata": {},
     "output_type": "execute_result"
    }
   ],
   "source": [
    "import numpy as np\n",
    "std_height=[178,177,176,177,178.2,178,175,179,180,175,178.9,176.2,177,172.5,178,176.5]\n",
    "np.std(std_height)"
   ]
  },
  {
   "cell_type": "markdown",
   "id": "f8c0c70a",
   "metadata": {},
   "source": [
    "Q5. How are measures of dispersion such as range, variance, and standard deviation used to describe\n",
    "the spread of a dataset? Provide an example."
   ]
  },
  {
   "cell_type": "code",
   "execution_count": null,
   "id": "40b064ed",
   "metadata": {},
   "outputs": [],
   "source": [
    "Measures of dispersion such as range, variance, and standard deviation are used to describe the spread or variability of a \n",
    "dataset. These measures give us an idea of how much the data values deviate from the central tendency (mean, median, or mode).\n",
    "\n",
    "Range: The range is the difference between the maximum and minimum values in a dataset. It provides a simple measure of the \n",
    "spread of the data, but is sensitive to outliers.\n",
    "\n",
    "Variance: The variance is the average of the squared differences from the mean. It provides a measure of how much the data \n",
    "values vary from the mean. A high variance indicates that the data is spread out over a wide range of values, while a low \n",
    "variance indicates that the data is clustered around the mean.\n",
    "\n",
    "Standard deviation: The standard deviation is the square root of the variance. It provides a measure of the spread of the data\n",
    "in the same units as the original data. A high standard deviation indicates that the data is spread out over a wide range of \n",
    "values, while a low standard deviation indicates that the data is clustered around the mean.\n",
    "\n",
    "For example, let's say we have a dataset of exam scores for a class of 20 students. The scores are as follows:\n",
    "[65, 70, 72, 73, 74, 75, 76, 78, 80, 81, 82, 83, 85, 86, 87, 89, 90, 91, 93, 98]\n",
    "\n",
    "Range: The range of the data is 98 - 65 = 33.\n",
    "\n",
    "Variance: To find the variance, we first calculate the mean:\n",
    "(65 + 70 + 72 + 73 + 74 + 75 + 76 + 78 + 80 + 81 + 82 + 83 + 85 + 86 + 87 + 89 + 90 + 91 + 93 + 98) / 20 = 81.4\n",
    "\n",
    "Next, we calculate the squared differences from the mean for each data point:\n",
    "(65 - 81.4)^2, (70 - 81.4)^2, (72 - 81.4)^2, ..., (98 - 81.4)^2\n",
    "\n",
    "We add up these squared differences and divide by the number of data points:\n",
    "(65 - 81.4)^2 + (70 - 81.4)^2 + (72 - 81.4)^2 + ... + (98 - 81.4)^2 / 20 = 145.24\n",
    "\n",
    "Therefore, the variance of the data is 145.24.\n",
    "\n",
    "Standard deviation: The standard deviation is the square root of the variance:\n",
    "sqrt(145.24) = 12.05\n",
    "Therefore, the standard deviation of the data is 12.05.\n",
    "\n",
    "In summary, the measures of dispersion such as range, variance, and standard deviation are used to describe the spread or \n",
    "variability of a dataset. The range is a simple measure of spread, while the variance and standard deviation provide more \n",
    "detailed information about how much the data values deviate from the mean."
   ]
  },
  {
   "cell_type": "markdown",
   "id": "392db94b",
   "metadata": {},
   "source": [
    "Q6. What is a Venn diagram?"
   ]
  },
  {
   "cell_type": "code",
   "execution_count": null,
   "id": "de3e8f15",
   "metadata": {},
   "outputs": [],
   "source": [
    "A Venn diagram is a visual tool that is used to represent relationships between sets of data. It is a graphical representation\n",
    "of set theory, in which each set is represented by a circle, and the overlap between the circles represents the elements that\n",
    "are common to the sets.\n",
    "\n",
    "The Venn diagram consists of overlapping circles that represent sets. The elements or members of the sets are placed inside the\n",
    "circles or outside the circles, depending on whether they belong to the sets or not. The area where the circles overlap \n",
    "represents the elements that belong to both sets.\n",
    "\n",
    "Venn diagrams are commonly used in mathematics, statistics, and logic to represent the relationships between sets of data. They\n",
    "are also used in business, science, and other fields to visualize and analyze data. Venn diagrams can be used to solve problems\n",
    "related to probability, logic, and set theory. They are a useful tool for organizing and comparing data, and for identifying \n",
    "similarities and differences between sets"
   ]
  },
  {
   "cell_type": "markdown",
   "id": "3a82314c",
   "metadata": {},
   "source": [
    "Q7. For the two given sets A = (2,3,4,5,6,7) & B = (0,2,6,8,10). Find:\n",
    "(i) A intersection B\n",
    "(ii) A ⋃ B"
   ]
  },
  {
   "cell_type": "code",
   "execution_count": 12,
   "id": "277d6e67",
   "metadata": {},
   "outputs": [
    {
     "name": "stdout",
     "output_type": "stream",
     "text": [
      "Intersection of A and B: {2, 6}\n",
      "Union of A and B: {0, 2, 3, 4, 5, 6, 7, 8, 10}\n"
     ]
    }
   ],
   "source": [
    "A = {2, 3, 4, 5, 6, 7}\n",
    "B = {0, 2, 6, 8, 10}\n",
    "\n",
    "intersection = A.intersection(B)\n",
    "print(\"Intersection of A and B:\", intersection)\n",
    "\n",
    "union = A.union(B)\n",
    "print(\"Union of A and B:\", union)"
   ]
  },
  {
   "cell_type": "markdown",
   "id": "c93a3834",
   "metadata": {},
   "source": [
    "Q8. What do you understand about skewness in data?"
   ]
  },
  {
   "cell_type": "code",
   "execution_count": null,
   "id": "89b37740",
   "metadata": {},
   "outputs": [],
   "source": [
    "Skewness is a measure of the asymmetry of a probability distribution. In statistics, it refers to the extent to which a \n",
    "distribution is not symmetrical.\n",
    "\n",
    "If a distribution is symmetric, it has equal amounts of data on both sides of the mean, and the skewness is zero. However, if \n",
    "the distribution is skewed, it means that the data is not evenly distributed around the mean, and the skewness value will be\n",
    "greater than zero.\n",
    "\n",
    "There are two types of skewness: positive skewness and negative skewness. A distribution is positively skewed if the tail on the\n",
    "right-hand side of the distribution is longer or fatter than the left-hand side. In other words, the mean is greater than the\n",
    "median. A distribution is negatively skewed if the tail on the left-hand side of the distribution is longer or fatter than the\n",
    "right-hand side. In this case, the mean is less than the median.\n",
    "\n",
    "Skewness is an important concept in statistics because it can affect the interpretation of data. For example, if a data set is \n",
    "positively skewed, the mean will be higher than the median, which can make it appear that the data is clustered around the \n",
    "higher values. Conversely, if a data set is negatively skewed, the mean will be lower than the median, which can make it appear \n",
    "that the data is clustered around the lower values. Understanding skewness can help in selecting appropriate statistical methods\n",
    "for analyzing the data, and in drawing accurate conclusions from the data."
   ]
  },
  {
   "cell_type": "markdown",
   "id": "7e9f6c74",
   "metadata": {},
   "source": [
    "Q9. If a data is right skewed then what will be the position of median with respect to mean?"
   ]
  },
  {
   "cell_type": "code",
   "execution_count": null,
   "id": "8f0d2352",
   "metadata": {},
   "outputs": [],
   "source": [
    "If a data set is right-skewed, it means that there are more values on the left-hand side of the distribution and the tail of the\n",
    "distribution is longer on the right-hand side. In such a case, the mean will be greater than the median.\n",
    "\n",
    "This happens because the mean is sensitive to outliers or extreme values on the right-hand side of the distribution, which pull\n",
    "the mean towards the right. The median, on the other hand, is less sensitive to outliers and is based only on the central values\n",
    "of the distribution.\n",
    "\n",
    "Therefore, if a data set is right-skewed, the median will be smaller than the mean. The exact position of the median with \n",
    "respect to the mean will depend on the degree of skewness and the shape of the distribution. However, in general, the median\n",
    "will be closer to the left-hand side of the distribution, while the mean will be closer to the right-hand side."
   ]
  },
  {
   "cell_type": "markdown",
   "id": "de70df91",
   "metadata": {},
   "source": [
    "Q10. Explain the difference between covariance and correlation. How are these measures used in\n",
    "statistical analysis?"
   ]
  },
  {
   "cell_type": "code",
   "execution_count": null,
   "id": "b595a56d",
   "metadata": {},
   "outputs": [],
   "source": [
    "Covariance and correlation are two measures used to describe the relationship between two variables. While they are related, \n",
    "there are some important differences between them.\n",
    "\n",
    "Covariance measures the direction and strength of the linear relationship between two variables. It is a measure of how much \n",
    "two variables vary together. It is calculated by taking the sum of the products of the deviations of each variable from its \n",
    "mean, divided by the number of observations. A positive covariance indicates that the two variables move together, while a\n",
    "negative covariance indicates that they move in opposite directions.\n",
    "\n",
    "Correlation, on the other hand, measures the strength and direction of the linear relationship between two variables, but it is\n",
    "normalized to always lie between -1 and 1. Correlation is calculated by dividing the covariance by the product of the standard \n",
    "deviations of the two variables. A correlation of 1 indicates a perfect positive relationship, while a correlation of -1 \n",
    "indicates a perfect negative relationship. A correlation of 0 indicates no relationship between the variables.\n",
    "\n",
    "The main difference between covariance and correlation is that covariance is an absolute measure of the strength of the\n",
    "relationship, while correlation is a relative measure that takes into account the variability of the variables.\n",
    "\n",
    "Covariance and correlation are used in statistical analysis to study the relationship between two variables. They are used to \n",
    "identify patterns, make predictions, and test hypotheses. They are also used in machine learning and data science to build\n",
    "predictive models and make data-driven decisions."
   ]
  },
  {
   "cell_type": "markdown",
   "id": "66b662ea",
   "metadata": {},
   "source": [
    "Q11. What is the formula for calculating the sample mean? Provide an example calculation for a\n",
    "dataset."
   ]
  },
  {
   "cell_type": "code",
   "execution_count": null,
   "id": "3f5d7b5d",
   "metadata": {},
   "outputs": [],
   "source": [
    "The formula for calculating the sample mean is:\n",
    "\n",
    "sample mean = (sum of all values in the sample) / (number of values in the sample)\n",
    "\n",
    "For example, let's say we have a sample of heights of 5 people: 165 cm, 170 cm, 172 cm, 168 cm, and 175 cm. We can calculate\n",
    "the sample mean as follows:\n",
    "\n",
    "sample mean = (165 + 170 + 172 + 168 + 175) / 5\n",
    "sample mean = 850 / 5\n",
    "sample mean = 170 cm\n",
    "\n",
    "Therefore, the sample mean height of the 5 people in our sample is 170 cm."
   ]
  },
  {
   "cell_type": "markdown",
   "id": "886564bf",
   "metadata": {},
   "source": [
    "Q12. For a normal distribution data what is the relationship between its measure of central tendency?"
   ]
  },
  {
   "cell_type": "code",
   "execution_count": null,
   "id": "01fe5a53",
   "metadata": {},
   "outputs": [],
   "source": [
    "For a normal distribution, the mean, median, and mode are all equal. In other words, the measure of central tendency is the same\n",
    "regardless of which method is used to calculate it. This is because a normal distribution is a symmetric distribution, where the\n",
    "values are evenly distributed around the central point, and there are no extreme values that would affect the central tendency.\n",
    "\n",
    "In fact, the normal distribution is sometimes referred to as the \"bell curve\" because it has a characteristic bell-shaped curve\n",
    "that is symmetric around the mean. The median and mode of a normal distribution also lie at the same point on the curve as the\n",
    "mean.\n",
    "\n",
    "This property of the normal distribution makes it a useful model for many real-world phenomena where the data is symmetrically\n",
    "distributed, such as heights or weights of a population, test scores, and many other variables."
   ]
  },
  {
   "cell_type": "markdown",
   "id": "4a8de4dd",
   "metadata": {},
   "source": [
    "Q13. How is covariance different from correlation?"
   ]
  },
  {
   "cell_type": "code",
   "execution_count": null,
   "id": "a81cf6e5",
   "metadata": {},
   "outputs": [],
   "source": [
    "Covariance and correlation are both measures of the relationship between two variables, but they have some key differences:\n",
    "\n",
    "Definition: Covariance measures the degree to which two variables vary together, while correlation measures the degree to which\n",
    "they vary together relative to their individual standard deviations.\n",
    "\n",
    "Range of values: Covariance can take on any value, positive or negative, depending on the direction and strength of the \n",
    "relationship between the two variables. Correlation, on the other hand, is always between -1 and +1, where -1 indicates a \n",
    "perfect negative correlation, +1 indicates a perfect positive correlation, and 0 indicates no correlation.\n",
    "\n",
    "Unit of measurement: Covariance has units that are the product of the units of the two variables being measured \n",
    "(e.g., square meters, cubic dollars), while correlation is a unitless measure.\n",
    "\n",
    "Interpretation: Covariance is difficult to interpret because it is sensitive to the scale of the variables being measured. \n",
    "Correlation, on the other hand, is standardized and allows for easier interpretation of the strength and direction of the \n",
    "relationship between the two variables.\n",
    "\n",
    "In summary, covariance measures the degree to which two variables vary together, while correlation measures the strength and \n",
    "direction of the relationship between the two variables in a standardized way."
   ]
  },
  {
   "cell_type": "markdown",
   "id": "ca631d6e",
   "metadata": {},
   "source": [
    "Q14. How do outliers affect measures of central tendency and dispersion? Provide an example."
   ]
  },
  {
   "cell_type": "code",
   "execution_count": null,
   "id": "6e55b3d3",
   "metadata": {},
   "outputs": [],
   "source": [
    "Outliers are data points that are significantly different from the other data points in a dataset. Outliers can have a \n",
    "significant impact on both measures of central tendency and measures of dispersion.\n",
    "\n",
    "For measures of central tendency like the mean and median, outliers can skew the results in one direction or another. For\n",
    "example, if a dataset of salaries has a few very high earners, the mean salary will be higher than the median salary. In this \n",
    "case, the mean is affected more than the median because the mean takes into account the magnitude of the values, whereas the \n",
    "median only looks at the relative position of the values.\n",
    "\n",
    "For measures of dispersion like the range, variance, and standard deviation, outliers can also have a significant impact. In\n",
    "particular, they can increase the size of the range, variance, or standard deviation, making it appear that the data is more\n",
    "spread out than it actually is. For example, if a dataset of test scores has one very low score, the range and standard\n",
    "deviation will be higher than they would be without the outlier.\n",
    "\n",
    "In summary, outliers can significantly affect measures of central tendency and dispersion, and it is important to identify and \n",
    "handle them appropriately in statistical analysis.\n",
    "\n",
    "\n",
    "\n"
   ]
  }
 ],
 "metadata": {
  "kernelspec": {
   "display_name": "Python 3 (ipykernel)",
   "language": "python",
   "name": "python3"
  },
  "language_info": {
   "codemirror_mode": {
    "name": "ipython",
    "version": 3
   },
   "file_extension": ".py",
   "mimetype": "text/x-python",
   "name": "python",
   "nbconvert_exporter": "python",
   "pygments_lexer": "ipython3",
   "version": "3.9.13"
  }
 },
 "nbformat": 4,
 "nbformat_minor": 5
}
