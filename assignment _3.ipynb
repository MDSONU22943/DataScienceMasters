{
 "cells": [
  {
   "cell_type": "code",
   "execution_count": 1,
   "id": "0142ccf5",
   "metadata": {},
   "outputs": [
    {
     "name": "stdout",
     "output_type": "stream",
     "text": [
      "10\n",
      "20\n",
      "30\n",
      "40\n",
      "50\n",
      "1\n",
      "2\n",
      "3\n",
      "4\n"
     ]
    }
   ],
   "source": [
    "# 1. Explain with an example each when to use a for loopand a while loop.\n",
    "# for -> iterate a predefined number of times.this is also known as a definite iteration.\n",
    "# while -> keep on iterating until the condition is false.this ia known as indefinite iterarion.\n",
    "\n",
    "l=[10,20,30,40,50]\n",
    "for i in l:\n",
    "    print(i)\n",
    "    \n",
    "i=1\n",
    "while i<5:\n",
    "    print(i)\n",
    "    i=i+1"
   ]
  },
  {
   "cell_type": "code",
   "execution_count": 3,
   "id": "4e08b438",
   "metadata": {},
   "outputs": [
    {
     "name": "stdout",
     "output_type": "stream",
     "text": [
      "sum: 55\n",
      "product: 3628800\n"
     ]
    }
   ],
   "source": [
    "# 2. write a python program to print the sum and product of the first 10 natural number using for and while loop\n",
    "sum=0\n",
    "product=1\n",
    "# using for loop\n",
    "for i in range(1,11):\n",
    "    sum=sum+i\n",
    "    product=product*i\n",
    "print(\"sum:\",sum)\n",
    "print(\"product:\",product)\n",
    "    "
   ]
  },
  {
   "cell_type": "code",
   "execution_count": 3,
   "id": "7cce1834",
   "metadata": {},
   "outputs": [
    {
     "name": "stdout",
     "output_type": "stream",
     "text": [
      "sum: 55\n",
      "product: 3628800\n"
     ]
    }
   ],
   "source": [
    "# using while loop\n",
    "sum=0\n",
    "product=1\n",
    "i=1\n",
    "while i<=10:\n",
    "    sum=sum+i\n",
    "    product=product*i\n",
    "    i=i+1\n",
    "print(\"sum:\",sum) \n",
    "print(\"product:\",product)"
   ]
  },
  {
   "cell_type": "code",
   "execution_count": 8,
   "id": "d9cf6bfb",
   "metadata": {},
   "outputs": [
    {
     "name": "stdout",
     "output_type": "stream",
     "text": [
      "[8, 64, 125, 216, 512, 1000, 1728, 2744, 3375, 4096, 5832, 8000, 10648, 13824, 15625, 17576, 21952, 27000, 32768, 39304, 42875, 46656, 54872, 64000, 74088, 85184, 91125, 97336, 110592, 125000, 140608, 157464, 166375, 175616, 195112, 216000, 238328, 262144, 274625, 287496, 314432, 343000, 373248, 405224, 421875, 438976, 474552, 512000, 551368, 592704, 614125, 636056, 681472, 729000, 778688, 830584, 857375, 884736, 941192, 1000000]\n"
     ]
    }
   ],
   "source": [
    "# 3. create a list of numbers from 1 to 100.use for loop and while loop to calculate a cube of each number abd if the cube of\n",
    "#      that number is divisible by 4 or 5 then append that number in a list and print that list.\n",
    "l=list(range(1,101))\n",
    "l2=[]\n",
    "# using for loop\n",
    "for i in l:\n",
    "    cube=i*i*i\n",
    "    if cube%4==0 or cube%5==0:\n",
    "        l2.append(cube)\n",
    "print(l2)        "
   ]
  },
  {
   "cell_type": "code",
   "execution_count": 1,
   "id": "fe204bae",
   "metadata": {},
   "outputs": [
    {
     "name": "stdout",
     "output_type": "stream",
     "text": [
      "[8, 64, 125, 216, 512, 1000, 1728, 2744, 3375, 4096, 5832, 8000, 10648, 13824, 15625, 17576, 21952, 27000, 32768, 39304, 42875, 46656, 54872, 64000, 74088, 85184, 91125, 97336, 110592, 125000, 140608, 157464, 166375, 175616, 195112, 216000, 238328, 262144, 274625, 287496, 314432, 343000, 373248, 405224, 421875, 438976, 474552, 512000, 551368, 592704, 614125, 636056, 681472, 729000, 778688, 830584, 857375, 884736, 941192, 1000000]\n"
     ]
    }
   ],
   "source": [
    "i=1\n",
    "l3=[]\n",
    "# using while loop\n",
    "while i<=100:\n",
    "    cube=i*i*i\n",
    "    if cube%4==0 or cube%5==0:\n",
    "        l3.append(cube)\n",
    "    i=i+1\n",
    "print(l3)    \n",
    "    "
   ]
  },
  {
   "cell_type": "code",
   "execution_count": 1,
   "id": "2f88de85",
   "metadata": {},
   "outputs": [
    {
     "name": "stdout",
     "output_type": "stream",
     "text": [
      "Enter the units of electricity consumed: 150\n",
      "The total electricity bill is: Rs. 750.0\n"
     ]
    }
   ],
   "source": [
    "# 4. Create a list of numbers from 1 to 100. Use for loop and while loop to calculate the cube of each\n",
    "# number and if the cube of that number is divisible by 4 or 5 then append that number in a list and print\n",
    "# that list.\n",
    "# The per-unit charges in rupees are as follows: For the first 100 units, the user will be charged Rs. 4.5 per\n",
    "# unit, for the next 100 units, the user will be charged Rs. 6 per unit, and for the next 100 units, the user will\n",
    "# be charged Rs. 10 per unit, After 300 units and above the user will be charged Rs. 20 per unit.\n",
    "# You are required to take the units of electricity consumed in a month from the user as input.\n",
    "\n",
    "units = int(input(\"Enter the units of electricity consumed: \"))\n",
    "\n",
    "if units <= 100:\n",
    "    bill = units * 4.5\n",
    "elif units <= 200:\n",
    "    bill = 100 * 4.5 + (units - 100) * 6\n",
    "elif units <= 300:\n",
    "    bill = 100 * 4.5 + 100 * 6 + (units - 200) * 10\n",
    "else:\n",
    "    bill = 100 * 4.5 + 100 * 6 + 100 * 10 + (units - 300) * 20\n",
    "\n",
    "print(\"The total electricity bill is: Rs.\", bill)"
   ]
  },
  {
   "cell_type": "code",
   "execution_count": 6,
   "id": "54681c0f",
   "metadata": {},
   "outputs": [
    {
     "name": "stdout",
     "output_type": "stream",
     "text": [
      "number of vowel is: 11\n"
     ]
    }
   ],
   "source": [
    "# 5.write a program to filter count vowels in the below given string\n",
    "string=\"I want to become a data scientist\"\n",
    "count=0\n",
    "for i in range(len(string)):\n",
    "               if string[i] in [\"a\",\"e\",\"i\",\"o\",\"u\"]:\n",
    "                     count=count+1\n",
    "print(\"number of vowel is:\",count)  "
   ]
  },
  {
   "cell_type": "code",
   "execution_count": null,
   "id": "ef6a169d",
   "metadata": {},
   "outputs": [],
   "source": []
  }
 ],
 "metadata": {
  "kernelspec": {
   "display_name": "Python 3 (ipykernel)",
   "language": "python",
   "name": "python3"
  },
  "language_info": {
   "codemirror_mode": {
    "name": "ipython",
    "version": 3
   },
   "file_extension": ".py",
   "mimetype": "text/x-python",
   "name": "python",
   "nbconvert_exporter": "python",
   "pygments_lexer": "ipython3",
   "version": "3.9.13"
  }
 },
 "nbformat": 4,
 "nbformat_minor": 5
}
