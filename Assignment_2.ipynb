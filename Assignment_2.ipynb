{
 "cells": [
  {
   "cell_type": "code",
   "execution_count": 1,
   "id": "91a1cfd4",
   "metadata": {},
   "outputs": [
    {
     "name": "stdout",
     "output_type": "stream",
     "text": [
      "Enter the percentage:84\n",
      "Grade B\n"
     ]
    }
   ],
   "source": [
    "# 1. write a program to accept percentage from user and display the grade \n",
    "percent=int(input(\"Enter the percentage:\"))\n",
    "if percent<=100 and percent>90:\n",
    "    print(\"Grade A\")\n",
    "elif percent<=90 and percent>80:\n",
    "    print(\"Grade B\")\n",
    "elif percent>=60 and percent<=80:\n",
    "    print(\"Grade C\")\n",
    "else:\n",
    "    print(\"Grade D\")\n",
    "    \n",
    "    "
   ]
  },
  {
   "cell_type": "code",
   "execution_count": 2,
   "id": "eb2c8200",
   "metadata": {},
   "outputs": [
    {
     "name": "stdout",
     "output_type": "stream",
     "text": [
      "Enter Bike price:100000\n",
      "your payable road tax is: 10000.0\n"
     ]
    }
   ],
   "source": [
    "# 2. write a program to accept the cost price of bike and display the road tax to be paid  \n",
    "bike_price=int(input(\"Enter Bike price:\"))\n",
    "if bike_price>100000:\n",
    "    tax=(15/100)*bike_price\n",
    "    print(\"your payable road tax is:\",tax)\n",
    "elif bike_price>50000 and bike_price<=100000:\n",
    "    tax=(10/100)*bike_price\n",
    "    print(\"your payable road tax is:\",tax)\n",
    "else:\n",
    "    tax=(5/100)*bike_price\n",
    "    print(\"your payable road tax is:\",tax)"
   ]
  },
  {
   "cell_type": "code",
   "execution_count": 4,
   "id": "b77f2ee4",
   "metadata": {},
   "outputs": [
    {
     "name": "stdout",
     "output_type": "stream",
     "text": [
      "Enter your city name:delhi\n",
      "Red Fort\n"
     ]
    }
   ],
   "source": [
    "# 3. Accept any city from the user and display monuments of that city \n",
    "city=input(\"Enter your city name:\")\n",
    "if city.capitalize()==\"Delhi\":\n",
    "    print(\"Red Fort\")\n",
    "elif city.capitalize()==\"Agra\":\n",
    "    print(\"Taj Mahal\")\n",
    "elif city.capitalize()==\"Jaipur\":\n",
    "    print(\"Jal Mahal\")\n",
    "else:\n",
    "    print(\"sorry,Your city is not in our list\")\n",
    "    \n",
    "    "
   ]
  },
  {
   "cell_type": "code",
   "execution_count": 1,
   "id": "30906196",
   "metadata": {},
   "outputs": [
    {
     "name": "stdout",
     "output_type": "stream",
     "text": [
      "0\n",
      "1\n",
      "2\n",
      "4\n",
      "3\n",
      "2\n",
      "1\n"
     ]
    }
   ],
   "source": [
    "# 5. why and when to use while loop in python give a detailed description with example,\n",
    "# Ans -> python while loop is used to execute bloack of statements repeatedly until a given condition is satisfied.\n",
    "#        and when the condition becomes false,the line immmediately after the loop in the is executed.\n",
    "\n",
    "count =0\n",
    "while count<3:\n",
    "    print(count)\n",
    "    count=count+1\n",
    "\n",
    "# while loop with list\n",
    "a=[1,2,3,4]\n",
    "while a:\n",
    "    print(a.pop())"
   ]
  },
  {
   "cell_type": "code",
   "execution_count": 5,
   "id": "0ee5fa7e",
   "metadata": {},
   "outputs": [
    {
     "name": "stdout",
     "output_type": "stream",
     "text": [
      "Enter numbers of rows:4\n",
      "1 \n",
      "2 3 \n",
      "4 5 6 \n",
      "7 8 9 10 \n"
     ]
    }
   ],
   "source": [
    "# 5. use nested while loop to print 3 different pattern.\n",
    "\n",
    "\n",
    "# pattern-1\n",
    "n = int(input(\"Enter numbers of rows:\"))\n",
    "i=1\n",
    "# while i<=n:\n",
    "#     j=1\n",
    "#     while j<=i:\n",
    "#         print(\"*\",end=\" \")\n",
    "#         j=j+1\n",
    "#     print()\n",
    "#     i=i+1\n",
    "    \n",
    "\n",
    "    \n",
    "# pattern-2\n",
    "# while i<=n:\n",
    "#     j=n\n",
    "#     while j>=i:\n",
    "#         print(\"*\",end=\" \")\n",
    "#         j=j-1\n",
    "#     print()\n",
    "#     i=i+1\n",
    "\n",
    "\n",
    "# pattern-3\n",
    "k=1\n",
    "while i<=n:\n",
    "    j=1\n",
    "    while j<=i:\n",
    "        print(k,end=\" \")\n",
    "        j=j+1\n",
    "        k=k+1\n",
    "    print()\n",
    "    i=i+1\n"
   ]
  },
  {
   "cell_type": "code",
   "execution_count": 13,
   "id": "9e052e8b",
   "metadata": {},
   "outputs": [
    {
     "name": "stdout",
     "output_type": "stream",
     "text": [
      "Enter the Number:1000\n",
      "The count is: 5\n"
     ]
    }
   ],
   "source": [
    "#4. check how many times a given number can be divided by 3 before it is less than or equal to 10\n",
    "number=int(input(\"Enter the Number:\"))\n",
    "count=0\n",
    "while(number>10):\n",
    "    number=number//3\n",
    "    count=count+1\n",
    "print(\"The count is:\",count)    \n",
    "    "
   ]
  },
  {
   "cell_type": "code",
   "execution_count": 1,
   "id": "03a91ae6",
   "metadata": {},
   "outputs": [
    {
     "name": "stdout",
     "output_type": "stream",
     "text": [
      "10\n",
      "9\n",
      "8\n",
      "7\n",
      "6\n",
      "5\n",
      "4\n",
      "3\n",
      "2\n",
      "1\n"
     ]
    }
   ],
   "source": [
    "# 7.Reverse a while loop to display a number from 10 to 1. \n",
    "n=10\n",
    "while(n>0):\n",
    "    print(n)\n",
    "    n=n-1"
   ]
  }
 ],
 "metadata": {
  "kernelspec": {
   "display_name": "Python 3 (ipykernel)",
   "language": "python",
   "name": "python3"
  },
  "language_info": {
   "codemirror_mode": {
    "name": "ipython",
    "version": 3
   },
   "file_extension": ".py",
   "mimetype": "text/x-python",
   "name": "python",
   "nbconvert_exporter": "python",
   "pygments_lexer": "ipython3",
   "version": "3.9.13"
  }
 },
 "nbformat": 4,
 "nbformat_minor": 5
}
