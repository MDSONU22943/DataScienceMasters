{
 "cells": [
  {
   "cell_type": "markdown",
   "id": "c9e989da",
   "metadata": {},
   "source": [
    "Q1. What is the mathematical formula for a linear SVM?\n",
    "\n",
    "The mathematical formula for a linear Support Vector Machine (SVM) can be defined as follows:\n",
    "\n",
    "Given a training dataset with N samples, where each sample is represented by a feature vector xᵢ of dimension D, and its corresponding class label yᵢ, where yᵢ ∈ {-1, +1}, the goal of a linear SVM is to find the optimal hyperplane that separates the data into two classes.\n",
    "\n",
    "The decision function of a linear SVM can be written as:\n",
    "\n",
    "f(x) = sign(w · x + b)\n",
    "\n",
    "Here:\n",
    "- x represents the input feature vector,\n",
    "- w is the weight vector perpendicular to the hyperplane,\n",
    "- b is the bias term, and\n",
    "- · denotes the dot product between two vectors.\n",
    "\n",
    "The sign function returns +1 if the argument is positive, and -1 if it is negative. Thus, the decision function assigns the class label based on the sign of the expression w · x + b.\n",
    "\n",
    "During the training process, the SVM aims to find the optimal values of w and b that maximize the margin between the hyperplane and the nearest samples from each class. This optimization problem can be formulated as a quadratic programming problem, but the details of the formulation are beyond the scope of this explanation."
   ]
  },
  {
   "cell_type": "code",
   "execution_count": null,
   "id": "d2332c16",
   "metadata": {},
   "outputs": [],
   "source": []
  },
  {
   "cell_type": "markdown",
   "id": "19187134",
   "metadata": {},
   "source": [
    "Q2. What is the objective function of a linear SVM?\n",
    "\n",
    "The objective function of a linear Support Vector Machine (SVM) is formulated to maximize the margin between the hyperplane and the nearest samples from each class while minimizing the classification error. This is achieved through the minimization of a regularization term and the maximization of the margin.\n",
    "\n",
    "The objective function of a linear SVM can be written as:\n",
    "\n",
    "minimize  ½ ||w||² + C ∑ ξᵢ\n",
    "\n",
    "subject to  yᵢ(w · xᵢ + b) ≥ 1 - ξᵢ   for all training samples (xᵢ, yᵢ)\n",
    "\n",
    "Here:\n",
    "- ||w||² is the squared Euclidean norm of the weight vector w, which represents the regularization term. It controls the complexity of the decision function to prevent overfitting.\n",
    "- C is a parameter that balances the trade-off between maximizing the margin and minimizing the classification error. It is a hyperparameter that needs to be tuned.\n",
    "- ξᵢ represents slack variables that allow for the possibility of misclassification. They measure the extent to which a training sample violates the margin or falls on the wrong side of the hyperplane.\n",
    "- yᵢ is the class label of the training sample xᵢ.\n",
    "- (w · xᵢ + b) is the decision function, which assigns a class label based on the sign of the expression.\n",
    "- The inequality constraint ensures that each training sample is correctly classified or lies within the margin.\n",
    "\n",
    "The objective function aims to find the optimal values of w and b that simultaneously minimize the norm of the weight vector (to maximize the margin) and control the misclassification error. Solving this optimization problem leads to finding the optimal hyperplane that separates the data into two classes with the maximum margin."
   ]
  },
  {
   "cell_type": "code",
   "execution_count": null,
   "id": "bf3d6146",
   "metadata": {},
   "outputs": [],
   "source": []
  },
  {
   "cell_type": "markdown",
   "id": "c491897a",
   "metadata": {},
   "source": [
    "Q3. What is the kernel trick in SVM?\n",
    "\n",
    "The kernel trick is a technique used in Support Vector Machines (SVM) to implicitly map the input data into a higher-dimensional feature space without explicitly calculating the transformed feature vectors. It allows SVMs to efficiently handle non-linearly separable data by using a kernel function.\n",
    "\n",
    "In a traditional SVM, the decision boundary is a hyperplane in the original input feature space. However, in some cases, the data may not be linearly separable in the original feature space. The kernel trick provides a way to overcome this limitation by mapping the input data into a higher-dimensional feature space where it may become linearly separable.\n",
    "\n",
    "The kernel trick works by introducing a kernel function K(xᵢ, xⱼ) that calculates the similarity or inner product between two feature vectors xᵢ and xⱼ in the higher-dimensional feature space. Instead of explicitly computing the transformed feature vectors, the kernel function allows the SVM to operate in the original input space, using the kernel function to implicitly compute the inner products.\n",
    "\n",
    "Mathematically, the decision function of a kernelized SVM can be written as:\n",
    "\n",
    "f(x) = sign(∑ αᵢyᵢK(xᵢ, x) + b)\n",
    "\n",
    "Here:\n",
    "- αᵢ is the Lagrange multiplier associated with each training sample.\n",
    "- yᵢ is the class label of the training sample.\n",
    "- K(xᵢ, x) is the kernel function that calculates the similarity between xᵢ and x in the higher-dimensional feature space.\n",
    "\n",
    "The choice of kernel function is crucial in the kernel trick. Commonly used kernel functions include the linear kernel, polynomial kernel, Gaussian (RBF) kernel, and sigmoid kernel, among others. Each kernel function has its own characteristics and is suitable for different types of data and problem domains.\n",
    "\n",
    "By using the kernel trick, SVMs can effectively handle non-linearly separable data without explicitly calculating the transformed feature vectors, making them a powerful tool in machine learning for classification tasks."
   ]
  },
  {
   "cell_type": "code",
   "execution_count": null,
   "id": "b4331023",
   "metadata": {},
   "outputs": [],
   "source": []
  },
  {
   "cell_type": "markdown",
   "id": "91d4a51e",
   "metadata": {},
   "source": [
    "Q4. What is the role of support vectors in SVM Explain with example\n",
    "\n",
    "In Support Vector Machines (SVM), support vectors play a crucial role in defining the decision boundary or hyperplane that separates different classes in a classification problem. Support vectors are the data points from the training dataset that lie closest to the decision boundary.\n",
    "\n",
    "The main idea behind SVM is to find the hyperplane that maximally separates the classes while maintaining the largest possible margin. The margin is the region between the decision boundary and the nearest data points from each class. By maximizing the margin, SVM aims to achieve better generalization and robustness in classification.\n",
    "\n",
    "Support vectors are the data points that define the margin. These points are the ones that are closest to the decision boundary and have the most influence on its position. The decision boundary is determined by a subset of support vectors, called the \"support vector set,\" which are the data points lying on the margin or within the margin.\n",
    "\n",
    "Support vectors are essential because they represent the critical instances that determine the optimal hyperplane. They capture the most informative and discriminative characteristics of the data, allowing SVM to generalize well to unseen examples.\n",
    "\n",
    "Let's illustrate this with a simple example. Suppose we have a two-dimensional dataset with two classes, labeled as red and blue, as shown below:\n",
    "\n",
    "```\n",
    "   |    B      |\n",
    "---|-----------|---\n",
    "   |     R     |\n",
    "```\n",
    "\n",
    "We want to find a decision boundary to separate the two classes. In this case, the support vectors would be the data points that lie on or closest to the decision boundary, as indicated by the crosses below:\n",
    "\n",
    "```\n",
    "   |    B   x  |\n",
    "---|-----------|---\n",
    "   |  x  R  x  |\n",
    "```\n",
    "\n",
    "In this example, the support vectors are the two crosses (one from each class). These support vectors define the decision boundary or hyperplane, which is the line passing through them. The other data points in the dataset are not directly involved in determining the decision boundary and are not considered support vectors.\n",
    "\n",
    "The SVM algorithm optimizes the position of the decision boundary based on these support vectors, aiming to maximize the margin between the classes. The resulting model can then be used to classify new, unseen examples.\n",
    "\n",
    "In summary, support vectors are the critical data points in SVM that determine the position and orientation of the decision boundary. They help define the optimal hyperplane that maximizes the margin between classes, leading to effective classification."
   ]
  },
  {
   "cell_type": "code",
   "execution_count": null,
   "id": "6cb25d75",
   "metadata": {},
   "outputs": [],
   "source": []
  },
  {
   "cell_type": "markdown",
   "id": "a526bacd",
   "metadata": {},
   "source": [
    "Q5. Illustrate with examples and graphs of Hyperplane, Marginal plane, Soft margin and Hard margin in\n",
    "SVM?\n",
    "\n",
    "To illustrate the concepts of hyperplane, marginal plane, soft margin, and hard margin in SVM, let's consider a simple example with a two-dimensional dataset.\n",
    "\n",
    "Suppose we have a dataset with two classes, labeled as red and blue, as shown below:\n",
    "\n",
    "```\n",
    "   |    B      |\n",
    "---|-----------|---\n",
    "   |     R     |\n",
    "```\n",
    "\n",
    "We want to find a decision boundary to separate these two classes using SVM.\n",
    "\n",
    "1. Hyperplane:\n",
    "The hyperplane is the decision boundary that separates the classes. In a two-dimensional space, the hyperplane is a line. The goal of SVM is to find the optimal hyperplane that maximizes the margin between classes. The hyperplane is represented by the equation: w^T * x + b = 0, where w is the weight vector and b is the bias term.\n",
    "\n",
    "Let's assume the optimal hyperplane is a line separating the classes as shown below:\n",
    "\n",
    "```\n",
    "   |    B      |\n",
    "---|-----x-----|---\n",
    "   |  x  R  x  |\n",
    "```\n",
    "\n",
    "2. Marginal Plane:\n",
    "The marginal plane refers to the two parallel lines that are equidistant from the hyperplane. The distance between the marginal planes and the hyperplane is known as the margin. The goal of SVM is to maximize this margin to improve generalization.\n",
    "\n",
    "The marginal plane is represented by the equations: w^T * x + b = +1 (upper marginal plane) and w^T * x + b = -1 (lower marginal plane), as shown below:\n",
    "\n",
    "```\n",
    "   |    B      |\n",
    "---|-----x-----|---\n",
    "   |  x  R  x  |\n",
    "---|-----x-----|---\n",
    "   |    B      |\n",
    "```\n",
    "\n",
    "3. Hard Margin:\n",
    "In a hard margin SVM, the goal is to find a hyperplane that perfectly separates the classes, where all the data points are correctly classified and lie on the correct side of the hyperplane. However, hard margin SVMs can be sensitive to outliers and may not always be feasible in real-world datasets.\n",
    "\n",
    "In the example below, we have a hard margin SVM where the hyperplane perfectly separates the classes:\n",
    "\n",
    "```\n",
    "   |    B      |\n",
    "---|-----------|---\n",
    "   |     R     |\n",
    "```\n",
    "\n",
    "4. Soft Margin:\n",
    "In contrast to a hard margin SVM, a soft margin SVM allows for some misclassifications and errors. It introduces a regularization parameter (C) that controls the trade-off between maximizing the margin and allowing misclassifications. A higher value of C allows more misclassifications, while a lower value of C enforces a stricter margin.\n",
    "\n",
    "In the example below, we have a soft margin SVM with a margin that allows for a few misclassifications:\n",
    "\n",
    "```\n",
    "   |    B      |\n",
    "---|-----x-----|---\n",
    "   |  x  R  x  |\n",
    "---|-----x-----|---\n",
    "   |    B      |\n",
    "```\n",
    "\n",
    "The misclassified points within the margin are called support vectors and have an impact on determining the optimal hyperplane.\n",
    "\n",
    "These illustrations demonstrate the concepts of hyperplane, marginal plane, soft margin, and hard margin in SVM. The choice between using a hard or soft margin depends on the dataset's characteristics and the desired trade-off between maximizing the margin and allowing misclassifications."
   ]
  },
  {
   "cell_type": "code",
   "execution_count": null,
   "id": "887e9c69",
   "metadata": {},
   "outputs": [],
   "source": []
  },
  {
   "cell_type": "markdown",
   "id": "ee817c6e",
   "metadata": {},
   "source": [
    "Q6. SVM Implementation through Iris dataset.\n",
    "\n",
    "Bonus task: Implement a linear SVM classifier from scratch using Python and compare its\n",
    "performance with the scikit-learn implementation.\n",
    "~ Load the iris dataset from the scikit-learn library and split it into a training set and a testing setl\n",
    "~ Train a linear SVM classifier on the training set and predict the labels for the testing setl\n",
    "~ Compute the accuracy of the model on the testing setl\n",
    "~ Plot the decision boundaries of the trained model using two of the featuresl\n",
    "~ Try different values of the regularisation parameter C and see how it affects the performance of\n",
    "the model."
   ]
  },
  {
   "cell_type": "code",
   "execution_count": 1,
   "id": "05ad415a",
   "metadata": {},
   "outputs": [],
   "source": [
    "import numpy as np\n",
    "import matplotlib.pyplot as plt\n",
    "from sklearn import datasets\n",
    "from sklearn.model_selection import train_test_split\n",
    "from sklearn.svm import SVC\n",
    "from sklearn.metrics import accuracy_score\n",
    "\n",
    "# Load the Iris dataset\n",
    "iris = datasets.load_iris()\n",
    "X = iris.data[:, :2]  # Take the first two features for simplicity\n",
    "y = iris.target\n",
    "\n",
    "# Split the dataset into training and testing sets\n",
    "X_train, X_test, y_train, y_test = train_test_split(X, y, test_size=0.2, random_state=42)\n"
   ]
  },
  {
   "cell_type": "code",
   "execution_count": 2,
   "id": "652c590c",
   "metadata": {},
   "outputs": [],
   "source": [
    "# Train a linear SVM classifier\n",
    "svm = SVC(kernel='linear')\n",
    "svm.fit(X_train, y_train)\n",
    "\n",
    "# Make predictions on the testing set\n",
    "y_pred = svm.predict(X_test)\n"
   ]
  },
  {
   "cell_type": "code",
   "execution_count": 3,
   "id": "f9cbb76e",
   "metadata": {},
   "outputs": [
    {
     "name": "stdout",
     "output_type": "stream",
     "text": [
      "Accuracy: 0.9\n"
     ]
    }
   ],
   "source": [
    "# Compute the accuracy of the model\n",
    "accuracy = accuracy_score(y_test, y_pred)\n",
    "print(\"Accuracy:\", accuracy)\n"
   ]
  },
  {
   "cell_type": "code",
   "execution_count": 4,
   "id": "8ba5a289",
   "metadata": {},
   "outputs": [
    {
     "data": {
      "image/png": "[encoded data removed]",
      "text/plain": [
       "<Figure size 640x480 with 1 Axes>"
      ]
     },
     "metadata": {},
     "output_type": "display_data"
    }
   ],
   "source": [
    "# Create a meshgrid of feature values\n",
    "x_min, x_max = X[:, 0].min() - 1, X[:, 0].max() + 1\n",
    "y_min, y_max = X[:, 1].min() - 1, X[:, 1].max() + 1\n",
    "xx, yy = np.meshgrid(np.arange(x_min, x_max, 0.02),\n",
    "                     np.arange(y_min, y_max, 0.02))\n",
    "\n",
    "# Plot the decision boundaries\n",
    "Z = svm.predict(np.c_[xx.ravel(), yy.ravel()])\n",
    "Z = Z.reshape(xx.shape)\n",
    "plt.contourf(xx, yy, Z, alpha=0.8)\n",
    "plt.scatter(X[:, 0], X[:, 1], c=y, cmap=plt.cm.Set1)\n",
    "plt.xlabel('Sepal length')\n",
    "plt.ylabel('Sepal width')\n",
    "plt.title('Linear SVM Decision Boundaries')\n",
    "plt.show()\n"
   ]
  },
  {
   "cell_type": "code",
   "execution_count": 5,
   "id": "fa1f79d3",
   "metadata": {},
   "outputs": [
    {
     "name": "stdout",
     "output_type": "stream",
     "text": [
      "C = 0.1 - Accuracy: 0.8333333333333334\n",
      "C = 1 - Accuracy: 0.9\n",
      "C = 10 - Accuracy: 0.9\n"
     ]
    }
   ],
   "source": [
    "C_values = [0.1, 1, 10]  # Different values of C to try\n",
    "\n",
    "for C in C_values:\n",
    "    svm = SVC(kernel='linear', C=C)\n",
    "    svm.fit(X_train, y_train)\n",
    "    y_pred = svm.predict(X_test)\n",
    "    accuracy = accuracy_score(y_test, y_pred)\n",
    "    print(\"C =\", C, \"- Accuracy:\", accuracy)\n"
   ]
  },
  {
   "cell_type": "code",
   "execution_count": null,
   "id": "2f24cbfa",
   "metadata": {},
   "outputs": [],
   "source": []
  },
  {
   "cell_type": "code",
   "execution_count": null,
   "id": "2c085c09",
   "metadata": {},
   "outputs": [],
   "source": []
  },
  {
   "cell_type": "code",
   "execution_count": null,
   "id": "cc84ba2f",
   "metadata": {},
   "outputs": [],
   "source": []
  },
  {
   "cell_type": "code",
   "execution_count": null,
   "id": "9e2553a3",
   "metadata": {},
   "outputs": [],
   "source": []
  },
  {
   "cell_type": "code",
   "execution_count": null,
   "id": "ed3126a4",
   "metadata": {},
   "outputs": [],
   "source": []
  }
 ],
 "metadata": {
  "kernelspec": {
   "display_name": "Python 3 (ipykernel)",
   "language": "python",
   "name": "python3"
  },
  "language_info": {
   "codemirror_mode": {
    "name": "ipython",
    "version": 3
   },
   "file_extension": ".py",
   "mimetype": "text/x-python",
   "name": "python",
   "nbconvert_exporter": "python",
   "pygments_lexer": "ipython3",
   "version": "3.11.3"
  }
 },
 "nbformat": 4,
 "nbformat_minor": 5
}
