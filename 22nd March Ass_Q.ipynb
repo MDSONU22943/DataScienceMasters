{
 "cells": [
  {
   "cell_type": "markdown",
   "id": "fceb7f13",
   "metadata": {},
   "source": [
    "Q1. Pearson correlation coefficient is a measure of the linear relationship between two variables. Suppose\n",
    "you have collected data on the amount of time students spend studying for an exam and their final exam\n",
    "scores. Calculate the Pearson correlation coefficient between these two variables and interpret the result.\n",
    "\n",
    "To calculate the Pearson correlation coefficient, we need to compute the covariance between the two variables and their standard deviations. Let's assume that we have n data points for studying time and final exam scores, denoted by x and y respectively. Then, the formula for the Pearson correlation coefficient, denoted by r, is:\n",
    "\n",
    "r = (1/n) * Σ[(xᵢ - ȳ) * (yᵢ - ȳ)] / (sx * sy)\n",
    "\n",
    "where Σ is the sum over all i, xᵢ and yᵢ are the i-th values of x and y, respectively, ȳ is the mean of y, and sx and sy are the standard deviations of x and y, respectively.\n",
    "\n",
    "Interpretation of the result:\n",
    "\n",
    "The Pearson correlation coefficient is a value between -1 and 1. A value of 1 indicates a perfect positive linear relationship between the two variables, while a value of -1 indicates a perfect negative linear relationship. A value of 0 indicates no linear relationship between the variables.\n",
    "\n",
    "If the Pearson correlation coefficient between the amount of time students spend studying for an exam and their final exam scores is positive, it means that there is a positive linear relationship between the two variables. In other words, as the amount of time students spend studying increases, their final exam scores also tend to increase. A value close to 1 indicates a strong positive correlation, while a value close to 0 indicates a weak positive correlation.\n",
    "\n",
    "On the other hand, if the Pearson correlation coefficient is negative, it means that there is a negative linear relationship between the two variables. In other words, as the amount of time students spend studying increases, their final exam scores tend to decrease. A value close to -1 indicates a strong negative correlation, while a value close to 0 indicates a weak negative correlation.\n",
    "\n",
    "In summary, the Pearson correlation coefficient allows us to quantify the strength and direction of the linear relationship between two variables. In the context of studying time and final exam scores, a positive correlation would suggest that students who study more tend to perform better on the exam, while a negative correlation would suggest the opposite."
   ]
  },
  {
   "cell_type": "markdown",
   "id": "9ddbf81d",
   "metadata": {},
   "source": [
    "Q2. Spearman's rank correlation is a measure of the monotonic relationship between two variables.\n",
    "Suppose you have collected data on the amount of sleep individuals get each night and their overall job\n",
    "satisfaction level on a scale of 1 to 10. Calculate the Spearman's rank correlation between these two\n",
    "variables and interpret the result.\n",
    "\n",
    "To calculate the Spearman's rank correlation, we need to convert the original data into ranks and then compute the Pearson correlation coefficient on the ranks. The Spearman's rank correlation, denoted by ρ, ranges between -1 and 1, where a value of 1 indicates a perfect monotonic increasing relationship between the two variables, a value of -1 indicates a perfect monotonic decreasing relationship, and a value of 0 indicates no monotonic relationship.\n",
    "\n",
    "To compute the Spearman's rank correlation between the amount of sleep individuals get each night and their overall job satisfaction level, we need to:\n",
    "\n",
    "Rank the values of each variable separately, from lowest to highest.\n",
    "Calculate the differences between the ranks of each pair of observations.\n",
    "Compute the Pearson correlation coefficient on the ranks.\n",
    "Interpretation of the result:\n",
    "\n",
    "If the Spearman's rank correlation is positive, it means that there is a monotonic increasing relationship between the two variables. In other words, as the amount of sleep individuals get each night increases, their overall job satisfaction level tends to increase as well. A value close to 1 indicates a strong positive rank correlation, while a value close to 0 indicates a weak positive rank correlation.\n",
    "\n",
    "On the other hand, if the Spearman's rank correlation is negative, it means that there is a monotonic decreasing relationship between the two variables. In other words, as the amount of sleep individuals get each night increases, their overall job satisfaction level tends to decrease. A value close to -1 indicates a strong negative rank correlation, while a value close to 0 indicates a weak negative rank correlation.\n",
    "\n",
    "If the Spearman's rank correlation is close to 0, it means that there is no monotonic relationship between the two variables. This could happen if there is a nonlinear relationship or if there are outliers that affect the correlation.\n",
    "\n",
    "In summary, the Spearman's rank correlation allows us to measure the strength and direction of the monotonic relationship between two variables, in this case, the amount of sleep individuals get each night and their overall job satisfaction level. A positive correlation would suggest that individuals who get more sleep tend to have higher job satisfaction levels, while a negative correlation would suggest the opposite."
   ]
  },
  {
   "cell_type": "markdown",
   "id": "afeaffcf",
   "metadata": {},
   "source": [
    "Q3. Suppose you are conducting a study to examine the relationship between the number of hours of\n",
    "exercise per week and body mass index (BMI) in a sample of adults. You collected data on both variables\n",
    "for 50 participants. Calculate the Pearson correlation coefficient and the Spearman's rank correlation\n",
    "between these two variables and compare the results."
   ]
  },
  {
   "cell_type": "code",
   "execution_count": 2,
   "id": "09a294e7",
   "metadata": {},
   "outputs": [
    {
     "name": "stdout",
     "output_type": "stream",
     "text": [
      "Pearson correlation coefficient: 0.8268106308031116\n",
      "Spearman rank correlation: 0.7999999999999999\n"
     ]
    }
   ],
   "source": [
    "import pandas as pd\n",
    "from scipy.stats import pearsonr, spearmanr\n",
    "\n",
    "# Create a DataFrame with the data\n",
    "df = pd.DataFrame({\n",
    "    'hours_of_exercise': [5, 8, 2, 4],\n",
    "    'bmi': [22, 25, 20, 24]\n",
    "})\n",
    "\n",
    "# Calculate the Pearson correlation coefficient\n",
    "pearson_corr, _ = pearsonr(df['hours_of_exercise'], df['bmi'])\n",
    "print('Pearson correlation coefficient:', pearson_corr)\n",
    "\n",
    "# Calculate the Spearman's rank correlation\n",
    "spearman_corr, _ = spearmanr(df['hours_of_exercise'], df['bmi'])\n",
    "print('Spearman rank correlation:', spearman_corr)\n"
   ]
  },
  {
   "cell_type": "markdown",
   "id": "da7446ff",
   "metadata": {},
   "source": [
    "Q4. A researcher is interested in examining the relationship between the number of hours individuals\n",
    "spend watching television per day and their level of physical activity. The researcher collected data on\n",
    "both variables from a sample of 50 participants. Calculate the Pearson correlation coefficient between\n",
    "these two variables."
   ]
  },
  {
   "cell_type": "code",
   "execution_count": 3,
   "id": "a726dc38",
   "metadata": {},
   "outputs": [
    {
     "name": "stdout",
     "output_type": "stream",
     "text": [
      "Pearson correlation coefficient: -0.7985836518841365\n"
     ]
    }
   ],
   "source": [
    "import pandas as pd\n",
    "from scipy.stats import pearsonr\n",
    "\n",
    "# Create a DataFrame with the data\n",
    "df = pd.DataFrame({\n",
    "    'hours_of_tv': [2, 3, 1, 4],\n",
    "    'physical_activity': [20, 15, 25,18]\n",
    "})\n",
    "\n",
    "# Calculate the Pearson correlation coefficient\n",
    "corr, _ = pearsonr(df['hours_of_tv'], df['physical_activity'])\n",
    "print('Pearson correlation coefficient:', corr)\n"
   ]
  },
  {
   "cell_type": "markdown",
   "id": "025a5d69",
   "metadata": {},
   "source": [
    "Q6. A company is interested in examining the relationship between the number of sales calls made per day\n",
    "and the number of sales made per week. The company collected data on both variables from a sample of\n",
    "30 sales representatives. Calculate the Pearson correlation coefficient between these two variables.\n",
    "\n"
   ]
  },
  {
   "cell_type": "code",
   "execution_count": 4,
   "id": "2fbdf76e",
   "metadata": {},
   "outputs": [
    {
     "name": "stdout",
     "output_type": "stream",
     "text": [
      "Pearson correlation coefficient: 0.9943767126843689\n"
     ]
    }
   ],
   "source": [
    "import pandas as pd\n",
    "from scipy.stats import pearsonr\n",
    "\n",
    "# Create a DataFrame with the data\n",
    "df = pd.DataFrame({\n",
    "    'sales_calls_per_day': [20, 25, 30,  15],\n",
    "    'sales_per_week': [10, 12, 15,  8]\n",
    "})\n",
    "\n",
    "# Calculate the Pearson correlation coefficient\n",
    "corr, _ = pearsonr(df['sales_calls_per_day'], df['sales_per_week'])\n",
    "print('Pearson correlation coefficient:', corr)\n"
   ]
  },
  {
   "cell_type": "code",
   "execution_count": null,
   "id": "0c8a33a6",
   "metadata": {},
   "outputs": [],
   "source": []
  }
 ],
 "metadata": {
  "kernelspec": {
   "display_name": "Python 3 (ipykernel)",
   "language": "python",
   "name": "python3"
  },
  "language_info": {
   "codemirror_mode": {
    "name": "ipython",
    "version": 3
   },
   "file_extension": ".py",
   "mimetype": "text/x-python",
   "name": "python",
   "nbconvert_exporter": "python",
   "pygments_lexer": "ipython3",
   "version": "3.9.13"
  }
 },
 "nbformat": 4,
 "nbformat_minor": 5
}
