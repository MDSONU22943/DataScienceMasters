{
 "cells": [
  {
   "cell_type": "markdown",
   "id": "b4a96833",
   "metadata": {},
   "source": [
    "Q1. What is an Exception in python? Write the difference between Exceptions and syntax errors."
   ]
  },
  {
   "cell_type": "markdown",
   "id": "c02e2072",
   "metadata": {},
   "source": [
    "An exception is an event, which occurs during the execution of a program that disrupts the normal flow of the program's\n",
    "instructions."
   ]
  },
  {
   "cell_type": "markdown",
   "id": "2007ecb7",
   "metadata": {},
   "source": [
    "Error in Python can be of two types i.e. Syntax errors and Exceptions. Errors are the problems in a program due to which\n",
    "the program will stop the execution. On the other hand, exceptions are raised when some internal events occur which\n",
    "changes the normal flow of the program. "
   ]
  },
  {
   "cell_type": "markdown",
   "id": "12b7c9ce",
   "metadata": {},
   "source": [
    "Syntax Error: As the name suggests this error is caused by the wrong syntax in the code. It leads to the termination of\n",
    "             the program. \n",
    "Exceptions: Exceptions are raised when the program is syntactically correct, but the code resulted in an error.\n",
    "            This error does not stop the execution of the program, however, it changes the normal flow of the program.\n"
   ]
  },
  {
   "cell_type": "markdown",
   "id": "c3c5be88",
   "metadata": {},
   "source": [
    "Q2. What happens when an exception is not handled? Explain with an example"
   ]
  },
  {
   "cell_type": "markdown",
   "id": "dee0b828",
   "metadata": {},
   "source": [
    "when we will not handled the the exception cast our program is crashed.\n",
    "\n",
    "\n",
    "    numerator = 10\n",
    "    denominator = 0\n",
    "\n",
    "    result = numerator/denominator\n",
    "\n",
    "    print(result)"
   ]
  },
  {
   "cell_type": "markdown",
   "id": "257921f1",
   "metadata": {},
   "source": [
    "Q3. Which Python statements are used to catch and handle exceptions? Explain withan example"
   ]
  },
  {
   "cell_type": "markdown",
   "id": "ab7b0cc5",
   "metadata": {},
   "source": [
    "Try and except statements are used to catch and handle exceptions in Python. Statements that can raise exceptions are kept\n",
    "inside the try clause and the statements that handle the exception are written inside except clause."
   ]
  },
  {
   "cell_type": "code",
   "execution_count": 1,
   "id": "b55c5f17",
   "metadata": {},
   "outputs": [
    {
     "name": "stdout",
     "output_type": "stream",
     "text": [
      "You have divided a number by zero, which is not allowed.\n"
     ]
    }
   ],
   "source": [
    "try:\n",
    "    a = 10\n",
    "    b = 0\n",
    "    print(\"Result of Division: \" + str(a/b))\n",
    "except:\n",
    "    print(\"You have divided a number by zero, which is not allowed.\")"
   ]
  },
  {
   "cell_type": "markdown",
   "id": "ee7c8a35",
   "metadata": {},
   "source": [
    "Q4. Explain with an example\n"
   ]
  },
  {
   "cell_type": "code",
   "execution_count": 2,
   "id": "44390d7b",
   "metadata": {},
   "outputs": [
    {
     "name": "stdout",
     "output_type": "stream",
     "text": [
      "file not present in this directory [Errno 2] No such file or directory: 'random1.txt'\n",
      "finally will execute itself in any situation\n"
     ]
    }
   ],
   "source": [
    "try:\n",
    "    f=open(\"random1.txt\",'r')\n",
    "except Exception as e:\n",
    "    print(\"file not present in this directory\",e)\n",
    "else:\n",
    "    f.close()\n",
    "    print(\"this is my else block\")\n",
    "finally:\n",
    "    print(\"finally will execute itself in any situation\")"
   ]
  },
  {
   "cell_type": "markdown",
   "id": "20838c75",
   "metadata": {},
   "source": [
    "Q5. What are custom exception in python?Why do we need custom exception?explain with an example."
   ]
  },
  {
   "cell_type": "markdown",
   "id": "a0cc5fb2",
   "metadata": {},
   "source": [
    "custom exception is an user-defined exception,in which user can defined exception according to him/her requirement.\n",
    "\n",
    "We can create a custom Exception class to define the new Exception. Again, the idea behind using a Class is because Python\n",
    "treats everything as a Class. So it doesn’t seem that outlandish that an Exception can be a class as well!"
   ]
  },
  {
   "cell_type": "code",
   "execution_count": 6,
   "id": "e54cbc0e",
   "metadata": {},
   "outputs": [
    {
     "name": "stdout",
     "output_type": "stream",
     "text": [
      "Printing Errors:\n",
      "Custom Error\n"
     ]
    },
    {
     "ename": "MyException",
     "evalue": "Custom Message",
     "output_type": "error",
     "traceback": [
      "\u001b[1;31m---------------------------------------------------------------------------\u001b[0m",
      "\u001b[1;31mMyException\u001b[0m                               Traceback (most recent call last)",
      "\u001b[1;32m~\\AppData\\Local\\Temp\\ipykernel_13180\\2605287133.py\u001b[0m in \u001b[0;36m<module>\u001b[1;34m\u001b[0m\n\u001b[0;32m     16\u001b[0m \u001b[1;33m\u001b[0m\u001b[0m\n\u001b[0;32m     17\u001b[0m \u001b[1;31m# MyException will be raised\u001b[0m\u001b[1;33m\u001b[0m\u001b[1;33m\u001b[0m\u001b[0m\n\u001b[1;32m---> 18\u001b[1;33m \u001b[0mlist_check\u001b[0m\u001b[1;33m(\u001b[0m\u001b[1;33m[\u001b[0m\u001b[1;36m1\u001b[0m\u001b[1;33m,\u001b[0m \u001b[1;36m3\u001b[0m\u001b[1;33m,\u001b[0m \u001b[1;36m5\u001b[0m\u001b[1;33m]\u001b[0m\u001b[1;33m)\u001b[0m\u001b[1;33m\u001b[0m\u001b[1;33m\u001b[0m\u001b[0m\n\u001b[0m",
      "\u001b[1;32m~\\AppData\\Local\\Temp\\ipykernel_13180\\2605287133.py\u001b[0m in \u001b[0;36mlist_check\u001b[1;34m(lst)\u001b[0m\n\u001b[0;32m     10\u001b[0m \u001b[1;32mdef\u001b[0m \u001b[0mlist_check\u001b[0m\u001b[1;33m(\u001b[0m\u001b[0mlst\u001b[0m\u001b[1;33m)\u001b[0m\u001b[1;33m:\u001b[0m\u001b[1;33m\u001b[0m\u001b[1;33m\u001b[0m\u001b[0m\n\u001b[0;32m     11\u001b[0m     \u001b[1;32mif\u001b[0m \u001b[0mlen\u001b[0m\u001b[1;33m(\u001b[0m\u001b[0mlst\u001b[0m\u001b[1;33m)\u001b[0m \u001b[1;33m%\u001b[0m \u001b[1;36m2\u001b[0m \u001b[1;33m!=\u001b[0m \u001b[1;36m0\u001b[0m\u001b[1;33m:\u001b[0m\u001b[1;33m\u001b[0m\u001b[1;33m\u001b[0m\u001b[0m\n\u001b[1;32m---> 12\u001b[1;33m         \u001b[1;32mraise\u001b[0m \u001b[0mMyException\u001b[0m\u001b[1;33m(\u001b[0m\u001b[1;34m'Custom Message'\u001b[0m\u001b[1;33m,\u001b[0m \u001b[1;34m'Custom Error'\u001b[0m\u001b[1;33m)\u001b[0m\u001b[1;33m\u001b[0m\u001b[1;33m\u001b[0m\u001b[0m\n\u001b[0m\u001b[0;32m     13\u001b[0m \u001b[1;33m\u001b[0m\u001b[0m\n\u001b[0;32m     14\u001b[0m \u001b[1;31m# MyException will not be raised\u001b[0m\u001b[1;33m\u001b[0m\u001b[1;33m\u001b[0m\u001b[0m\n",
      "\u001b[1;31mMyException\u001b[0m: Custom Message"
     ]
    }
   ],
   "source": [
    "class MyException(Exception):\n",
    "    def __init__(self, message, errors):\n",
    "        \n",
    "        super().__init__(message)\n",
    "        self.errors = errors\n",
    "        # Display the errors\n",
    "        print('Printing Errors:')\n",
    "        print(errors)\n",
    " \n",
    "def list_check(lst):\n",
    "    if len(lst) % 2 != 0:\n",
    "        raise MyException('Custom Message', 'Custom Error')\n",
    " \n",
    "# MyException will not be raised\n",
    "# list_check([1, 2, 3, 4])\n",
    " \n",
    "# MyException will be raised\n",
    "list_check([1, 3, 5])"
   ]
  },
  {
   "cell_type": "markdown",
   "id": "2279a116",
   "metadata": {},
   "source": [
    "Q6. Create custom exception class. Use this class to handle an exception."
   ]
  },
  {
   "cell_type": "code",
   "execution_count": 7,
   "id": "ac0abd2e",
   "metadata": {},
   "outputs": [
    {
     "name": "stdout",
     "output_type": "stream",
     "text": [
      "Enter a number: 45\n",
      "Eligible to Vote\n"
     ]
    }
   ],
   "source": [
    "# define Python user-defined exceptions\n",
    "class InvalidAgeException(Exception):\n",
    "    \"Raised when the input value is less than 18\"\n",
    "    pass\n",
    "\n",
    "# you need to guess this number\n",
    "number = 18\n",
    "\n",
    "try:\n",
    "    input_num = int(input(\"Enter a number: \"))\n",
    "    if input_num < number:\n",
    "        raise InvalidAgeException\n",
    "    else:\n",
    "        print(\"Eligible to Vote\")\n",
    "        \n",
    "except InvalidAgeException:\n",
    "    print(\"Exception occurred: Invalid Age\")"
   ]
  },
  {
   "cell_type": "code",
   "execution_count": null,
   "id": "60e69b9d",
   "metadata": {},
   "outputs": [],
   "source": []
  }
 ],
 "metadata": {
  "kernelspec": {
   "display_name": "Python 3 (ipykernel)",
   "language": "python",
   "name": "python3"
  },
  "language_info": {
   "codemirror_mode": {
    "name": "ipython",
    "version": 3
   },
   "file_extension": ".py",
   "mimetype": "text/x-python",
   "name": "python",
   "nbconvert_exporter": "python",
   "pygments_lexer": "ipython3",
   "version": "3.9.13"
  }
 },
 "nbformat": 4,
 "nbformat_minor": 5
}
