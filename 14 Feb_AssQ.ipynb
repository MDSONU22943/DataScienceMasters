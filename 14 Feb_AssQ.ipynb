{
 "cells": [
  {
   "cell_type": "markdown",
   "id": "0b922679",
   "metadata": {},
   "source": [
    "Q1. what is multithreading in python?why it is used ? Name the module used to handle threads in python."
   ]
  },
  {
   "cell_type": "markdown",
   "id": "7afa3ede",
   "metadata": {},
   "source": [
    "Multithreading is a technique in python programming to run multiple threads concurrently by rapidly switching between threads\n",
    "with the cpu help.\n",
    "\n",
    "It is use to perform multiple tasks simultaneously,which increase performances,speed,and improves the rendering of the\n",
    "application.\n",
    "\n",
    "There are two module for multithreading\n",
    "1.thread module\n",
    "2. threading module"
   ]
  },
  {
   "cell_type": "markdown",
   "id": "63ab7a4e",
   "metadata": {},
   "source": [
    "Q2.Why threading module used?Write the use of following functions: \n",
    "    1.activeCount()\n",
    "    2.currentThread()\n",
    "    3.enumerate()\n",
    "    "
   ]
  },
  {
   "cell_type": "markdown",
   "id": "83c0f57f",
   "metadata": {},
   "source": [
    "threading is used to speed the program."
   ]
  },
  {
   "cell_type": "markdown",
   "id": "54a2360f",
   "metadata": {},
   "source": [
    "1.activeCount()-> returns thenumber of thread object that are active.\n",
    "2.currentThread()-> return the number of thread object in the caller thread control\n",
    "3.enumerate()-> return a list of thread objects that are currently active."
   ]
  },
  {
   "cell_type": "markdown",
   "id": "27fd58f7",
   "metadata": {},
   "source": [
    "Q3.Write the use of following functions:\n",
    "    1.run()\n",
    "    2.start()\n",
    "    3.join()\n",
    "    4.isAlive()"
   ]
  },
  {
   "cell_type": "markdown",
   "id": "f4e6315a",
   "metadata": {},
   "source": [
    "\n",
    "\n",
    "run()-> the run() method is the entry point of thread.\n",
    "start()-> the start() method starts a thread by calling the run method.\n",
    "join()-> the join() waits for threads to terminate.\n",
    "isAlive()-> the isAlive() method checks whether a thread is still executing."
   ]
  },
  {
   "cell_type": "markdown",
   "id": "3da6a2d5",
   "metadata": {},
   "source": [
    "Q4.write a python program to create two threads .Thread one must print the list of squres and thread two must print the list of\n",
    "   cube."
   ]
  },
  {
   "cell_type": "code",
   "execution_count": 8,
   "id": "c0f5b2dc",
   "metadata": {},
   "outputs": [
    {
     "name": "stderr",
     "output_type": "stream",
     "text": [
      "Exception in thread Exception in thread Thread-14:\n",
      "Traceback (most recent call last):\n",
      "  File \"D:\\anaconda3\\lib\\threading.py\", line 980, in _bootstrap_inner\n",
      "Thread-13:\n",
      "Traceback (most recent call last):\n",
      "  File \"D:\\anaconda3\\lib\\threading.py\", line 980, in _bootstrap_inner\n",
      "    self.run()\n",
      "  File \"D:\\anaconda3\\lib\\threading.py\", line 917, in run\n",
      "    self.run()\n",
      "  File \"D:\\anaconda3\\lib\\threading.py\", line 917, in run\n",
      "    self._target(*self._args, **self._kwargs)\n",
      "  File \"C:\\Users\\MD SONU\\AppData\\Local\\Temp\\ipykernel_2460\\1048152339.py\", line 3, in print_cube\n",
      "    self._target(*self._args, **self._kwargs)\n",
      "  File \"C:\\Users\\MD SONU\\AppData\\Local\\Temp\\ipykernel_2460\\1048152339.py\", line 7, in print_square\n",
      "TypeError: 'int' object is not iterable\n",
      "TypeError: can't multiply sequence by non-int of type 'list'\n"
     ]
    }
   ],
   "source": [
    "import threading \n",
    "def print_cube(num):\n",
    "    for i in num:\n",
    "        print(\"cube:\",i*i*i)\n",
    "    \n",
    "def print_square(num):\n",
    "    print(\"square:\",num*num)\n",
    "    \n",
    "if __name__==\"__main__\":\n",
    "    l=[1,2,3,4,5]\n",
    "    t1=threading.Thread(target=print_square,args=(l,))\n",
    "    t2=threading.Thread(target=print_cube,args=(10,))\n",
    "    \n",
    "    t1.start()\n",
    "    t2.start()\n",
    "    \n",
    "    t1.join()\n",
    "    t2.join()"
   ]
  },
  {
   "cell_type": "code",
   "execution_count": null,
   "id": "41f1d96e",
   "metadata": {},
   "outputs": [],
   "source": [
    "5. State advantages and disadvantages of multithreading\n",
    "\n",
    "the disadvantages are as follows:\n",
    "\n",
    "It needs more careful synchronization.\n",
    "It can consume a large space of stocks of blocked threads.\n",
    "It needs support for thread or process.\n",
    "If a parent process has several threads for proper process functioning, the child processes should also be multithreaded\n",
    "because they may be required.\n",
    "It imposes context switching overhead.\n",
    "\n",
    "\n",
    " advantages of multithreading:\n",
    "\n",
    "Enhanced performance by decreased development time\n",
    "Simplified and streamlined program coding\n",
    "Improvised GUI responsiveness\n",
    "Simultaneous and parallelized occurrence of tasks\n",
    "Better use of cache storage by utilization of resources\n",
    "Decreased cost of maintenance\n",
    "Better use of CPU resource"
   ]
  },
  {
   "cell_type": "code",
   "execution_count": null,
   "id": "1f2096db",
   "metadata": {},
   "outputs": [],
   "source": [
    "6. Explain deadlocks and race conditions.\n",
    "\n",
    "Deadlock is a situation where a set of processes are blocked because each process is holding a resource and waiting for another\n",
    "resource acquired by some other process. \n",
    "\n",
    "Deadlock can arise if the following four conditions hold simultaneously (Necessary Conditions) \n",
    "\n",
    "Mutual Exclusion: Two or more resources are non-shareable (Only one process can use at a time) \n",
    "Hold and Wait: A process is holding at least one resource and waiting for resources. \n",
    "No Preemption: A resource cannot be taken from a process unless the process releases the resource. \n",
    "Circular Wait: A set of processes are waiting for each other in circular form. \n",
    "    \n",
    "    \n",
    "    \n",
    "\n",
    "\n"
   ]
  }
 ],
 "metadata": {
  "kernelspec": {
   "display_name": "Python 3 (ipykernel)",
   "language": "python",
   "name": "python3"
  },
  "language_info": {
   "codemirror_mode": {
    "name": "ipython",
    "version": 3
   },
   "file_extension": ".py",
   "mimetype": "text/x-python",
   "name": "python",
   "nbconvert_exporter": "python",
   "pygments_lexer": "ipython3",
   "version": "3.9.13"
  }
 },
 "nbformat": 4,
 "nbformat_minor": 5
}
