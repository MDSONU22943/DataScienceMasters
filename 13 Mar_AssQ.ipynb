{
 "cells": [
  {
   "cell_type": "markdown",
   "id": "677ffc4c-efea-4e6f-a593-fdb3d9f3a792",
   "metadata": {},
   "source": [
    "Q1. Explain the assumptions required to use ANOVA and provide examples of violations that could impact\n",
    "the validity of the results."
   ]
  },
  {
   "cell_type": "raw",
   "id": "2726f6ac-5e9f-43ca-87f9-770344162842",
   "metadata": {},
   "source": [
    "Assumptions of ANOVA and Potential Violations\n",
    "ANOVA (Analysis of Variance) is a statistical technique used to compare the means of multiple groups. It's based on several key assumptions. If these assumptions are violated, the validity of the results can be compromised.\n",
    "\n",
    "Assumptions of ANOVA\n",
    "Normality: Each group's data should follow a normal distribution.\n",
    "Homogeneity of Variance: The variance (spread) of data should be equal across all groups.\n",
    "Independence: Observations within each group should be independent of each other.\n",
    "Random Sampling: The data should be drawn from randomly selected samples.\n",
    "Potential Violations and Their Impact\n",
    "1. Normality Violation\n",
    "\n",
    "Impact: If data is severely skewed or has outliers, it can lead to inaccurate F-test results.\n",
    "Example: A group with a few extremely large values can skew the distribution, violating the normality assumption.\n",
    "\n",
    "2. Homogeneity of Variance Violation\n",
    "\n",
    "Impact: If variances are significantly different, the F-test may be biased.\n",
    "Example: One group with a much larger variance than others can inflate the F-statistic, leading to a false conclusion.\n",
    "\n",
    "3. Independence Violation\n",
    "\n",
    "Impact: If observations are correlated, the degrees of freedom may be underestimated, leading to an inflated F-statistic.\n",
    "Example: Repeated measures data (e.g., measuring the same individuals over time) can violate independence.\n",
    "\n",
    "4. Random Sampling Violation\n",
    "\n",
    "Impact: If the sample is not representative of the population, the results may not generalize to the larger population.\n",
    "Example: A convenience sample (e.g., selecting participants based on availability) may not be representative."
   ]
  },
  {
   "cell_type": "markdown",
   "id": "24d7122e-664e-4b52-ae0a-5040ae78de19",
   "metadata": {},
   "source": [
    "Q2. What are the three types of ANOVA, and in what situations would each be used?"
   ]
  },
  {
   "cell_type": "markdown",
   "id": "ff5c6bce-6248-4990-8f6b-2d0dd17053bd",
   "metadata": {},
   "source": [
    "There are three main types of ANOVA, each used depending on the experimental design and the research question being addressed. These types are:\n",
    "\n",
    "1. One-Way ANOVA\n",
    "Description: One-way ANOVA is used to compare the means of three or more independent groups based on a single factor (independent variable). It tests whether there is a statistically significant difference between the group means.\n",
    "\n",
    "When to Use:\n",
    "When you have one categorical independent variable (factor) with multiple levels (groups) and one continuous dependent variable.\n",
    "Example: Comparing the average exam scores of students across three different teaching methods (Group A, Group B, Group C). The independent variable is the \"teaching method\" (with three levels), and the dependent variable is the \"exam score\".\n",
    "\n",
    "2. Two-Way ANOVA\n",
    "Description: Two-way ANOVA is used to evaluate the effect of two independent variables (factors) simultaneously on a dependent variable. It also assesses whether there is an interaction effect between the two factors.\n",
    "\n",
    "When to Use:\n",
    "When you have two categorical independent variables, each with multiple levels, and one continuous dependent variable.\n",
    "Example: Analyzing the effect of both \"teaching method\" (three levels: A, B, C) and \"student gender\" (two levels: male, female) on exam scores. Here, you are interested in the main effects of each factor (teaching method and gender) as well as any interaction effect between the two.\n",
    "\n",
    "3. Repeated Measures ANOVA\n",
    "Description: Repeated measures ANOVA is used when the same subjects are measured multiple times under different conditions or over time. It accounts for the correlation between repeated measurements on the same subjects.\n",
    "When to Use:\n",
    "When you have one group of subjects measured multiple times (e.g., at different time points) or under different conditions.\n",
    "Example: Measuring the blood pressure of a group of participants before, during, and after a treatment. The dependent variable is \"blood pressure,\" and the repeated measurements allow for analyzing changes over time."
   ]
  },
  {
   "cell_type": "markdown",
   "id": "96c3286c-2a54-4af0-b544-72ceda99b5ee",
   "metadata": {},
   "source": [
    "Q3. What is the partitioning of variance in ANOVA, and why is it important to understand this concept?"
   ]
  },
  {
   "cell_type": "markdown",
   "id": "49e0bb3f-59a5-4377-90b7-b7290aca16a8",
   "metadata": {},
   "source": [
    "Partitioning of Variance in ANOVA\n",
    "ANOVA (Analysis of Variance) is a statistical technique that partitions the total variance in a dataset into two components: between-group variance and within-group variance.\n",
    "\n",
    "Between-group variance: This measures the variability between the means of different groups. It reflects how much the means of the groups differ from each other.\n",
    "\n",
    "Within-group variance: This measures the variability within each group. It reflects how much the individual data points within a group differ from the group's mean.\n",
    "\n",
    "Why is Partitioning of Variance Important?\n",
    "\n",
    "Hypothesis Testing: ANOVA's primary goal is to determine if there are significant differences between the means of multiple groups. By partitioning the variance, we can compare the between-group variance to the within-group variance. If the between-group variance is significantly larger than the within-group variance, it suggests that the differences between the means are not due to chance.\n",
    "\n",
    "Effect Size: Understanding the partitioning of variance helps us assess the magnitude of the differences between the groups. A large between-group variance relative to the within-group variance indicates a substantial effect size.\n",
    "\n",
    "Understanding Variation: Partitioning variance provides insight into the sources of variability in the data. This can help researchers identify factors that are driving the differences between groups."
   ]
  },
  {
   "cell_type": "markdown",
   "id": "36fbac57-674c-4a95-956f-79e64ff553c3",
   "metadata": {},
   "source": [
    "Q4. How would you calculate the total sum of squares (SST), explained sum of squares (SSE), and residual\n",
    "sum of squares (SSR) in a one-way ANOVA using Python?"
   ]
  },
  {
   "cell_type": "code",
   "execution_count": 1,
   "id": "ce3239c0-905f-4295-95a9-c468743d30e7",
   "metadata": {},
   "outputs": [
    {
     "name": "stdout",
     "output_type": "stream",
     "text": [
      "Total Sum of Squares (SST): 182.0\n",
      "Explained Sum of Squares (SSE): 158.0\n",
      "Residual Sum of Squares (SSR): 24.0\n"
     ]
    }
   ],
   "source": [
    "import numpy as np\n",
    "import pandas as pd\n",
    "\n",
    "# Example dataset\n",
    "data = {\n",
    "    'Group': ['A', 'A', 'A', 'B', 'B', 'B', 'C', 'C', 'C'],\n",
    "    'Value': [5, 7, 9, 8, 10, 12, 15, 17, 19]\n",
    "}\n",
    "\n",
    "# Convert to a DataFrame\n",
    "df = pd.DataFrame(data)\n",
    "\n",
    "# Calculate overall mean\n",
    "overall_mean = df['Value'].mean()\n",
    "\n",
    "# Calculate group means\n",
    "group_means = df.groupby('Group')['Value'].mean()\n",
    "\n",
    "# Total Sum of Squares (SST)\n",
    "sst = sum((df['Value'] - overall_mean) ** 2)\n",
    "\n",
    "# Explained Sum of Squares (SSE)\n",
    "sse = sum(df.groupby('Group').size() * (group_means - overall_mean) ** 2)\n",
    "\n",
    "# Residual Sum of Squares (SSR)\n",
    "ssr = sum((df['Value'] - df['Group'].map(group_means)) ** 2)\n",
    "\n",
    "# Print the results\n",
    "print(f\"Total Sum of Squares (SST): {sst}\")\n",
    "print(f\"Explained Sum of Squares (SSE): {sse}\")\n",
    "print(f\"Residual Sum of Squares (SSR): {ssr}\")\n"
   ]
  },
  {
   "cell_type": "markdown",
   "id": "aa49956e-7bf5-46bc-b809-2f5a6941e597",
   "metadata": {},
   "source": [
    "Q5. In a two-way ANOVA, how would you calculate the main effects and interaction effects using Python?"
   ]
  },
  {
   "cell_type": "code",
   "execution_count": 4,
   "id": "7df1fadd-a77c-40e1-b9e3-99f04549d026",
   "metadata": {},
   "outputs": [
    {
     "name": "stdout",
     "output_type": "stream",
     "text": [
      "                               sum_sq   df             F    PR(>F)\n",
      "C(Factor_A)              4.320000e+02  1.0  1.080000e+02  0.000006\n",
      "C(Factor_B)              3.000000e+00  1.0  7.500000e-01  0.411694\n",
      "C(Factor_A):C(Factor_B)  8.998931e-28  1.0  2.249733e-28  1.000000\n",
      "Residual                 3.200000e+01  8.0           NaN       NaN\n"
     ]
    }
   ],
   "source": [
    "import pandas as pd\n",
    "import statsmodels.api as sm\n",
    "from statsmodels.formula.api import ols\n",
    "\n",
    "# Example dataset\n",
    "data = {\n",
    "    'Factor_A': ['Low', 'Low', 'Low', 'High', 'High', 'High', 'Low', 'Low', 'Low', 'High', 'High', 'High'],\n",
    "    'Factor_B': ['Type1', 'Type1', 'Type1', 'Type1', 'Type1', 'Type1', 'Type2', 'Type2', 'Type2', 'Type2', 'Type2', 'Type2'],\n",
    "    'Value': [10, 12, 14, 22, 24, 26, 9, 11, 13, 21, 23, 25]\n",
    "}\n",
    "\n",
    "# Convert to DataFrame\n",
    "df = pd.DataFrame(data)\n",
    "\n",
    "# Fit the two-way ANOVA model\n",
    "model = ols('Value ~ C(Factor_A) + C(Factor_B) + C(Factor_A):C(Factor_B)', data=df).fit()\n",
    "\n",
    "# Perform the ANOVA\n",
    "anova_table = sm.stats.anova_lm(model, typ=2)\n",
    "\n",
    "# Display the ANOVA table\n",
    "print(anova_table)\n"
   ]
  },
  {
   "cell_type": "markdown",
   "id": "414c21e4-4ce6-4297-a16e-a38657daabce",
   "metadata": {},
   "source": [
    "Q6. Suppose you conducted a one-way ANOVA and obtained an F-statistic of 5.23 and a p-value of 0.02.\n",
    "What can you conclude about the differences between the groups, and how would you interpret these\n",
    "results?"
   ]
  },
  {
   "cell_type": "markdown",
   "id": "616ac1f2-fb1d-4ea3-be99-46fd1a27ae29",
   "metadata": {},
   "source": [
    "nterpreting ANOVA Results: F-Statistic and p-value\n",
    "Understanding the Results:\n",
    "\n",
    "F-Statistic (5.23): This value represents the ratio of between-group variance to within-group variance. A higher F-statistic suggests that the differences between group means are more pronounced relative to the variability within the groups.\n",
    "p-value (0.02): This value indicates the probability of observing an F-statistic as extreme or more extreme than the one obtained, assuming there are no true differences between the group means. A lower p-value suggests that the observed differences are less likely to be due to chance.\n",
    "\n",
    "Conclusion:\n",
    "Given an F-statistic of 5.23 and a p-value of 0.02, we can conclude that there are statistically significant differences between the group means. The p-value is less than the commonly used alpha level of 0.05, indicating that the observed differences are unlikely to be due to chance.\n",
    "\n",
    "Interpretation:\n",
    "\n",
    "Reject the null hypothesis: The null hypothesis states that there is no difference between the group means. Since the p-value is less than 0.05, we can reject this null hypothesis.\n",
    "There are significant differences: This means that at least one group's mean is significantly different from the others.\n",
    "Further analysis: To pinpoint which specific groups differ, post-hoc tests like Tukey's HSD or Bonferroni correction can be used."
   ]
  },
  {
   "cell_type": "markdown",
   "id": "79177881-875f-48bc-b9b5-20259114e5e7",
   "metadata": {},
   "source": [
    "Q7. In a repeated measures ANOVA, how would you handle missing data, and what are the potential\n",
    "consequences of using different methods to handle missing data?"
   ]
  },
  {
   "cell_type": "markdown",
   "id": "88b2513f-6ded-4d11-bbec-85c3f7f5ca01",
   "metadata": {},
   "source": [
    "Handling Missing Data in Repeated Measures ANOVA\n",
    "Repeated measures ANOVA is a statistical technique used to analyze data collected from the same individuals over multiple time points or conditions. When dealing with missing data in this context, it's crucial to handle it appropriately to maintain the integrity of the analysis.\n",
    "\n",
    "Common Methods to Handle Missing Data\n",
    "Listwise Deletion: This method involves excluding any participant with missing data from the analysis. While straightforward, it can lead to a significant reduction in sample size, especially if many participants have missing values.\n",
    "\n",
    "Pairwise Deletion: In this approach, only participants with complete data for a particular pair of time points are included in the analysis for that pair. This can result in different sample sizes for different comparisons, making interpretation more complex.\n",
    "\n",
    "Mean Imputation: This involves replacing missing values with the mean of the available data for that participant. However, it can underestimate the variance and bias the results if the missing values are not missing at random.\n",
    "\n",
    "Last Observation Carried Forward (LOCF): This method assumes that a participant's last observed value remains constant until the next measurement. LOCF can introduce bias if the missing values represent a systematic pattern.\n",
    "\n",
    "Multiple Imputation: This technique involves creating multiple plausible datasets by imputing missing values using statistical models. It provides more accurate estimates but can be computationally intensive.\n",
    "\n",
    "Potential Consequences of Different Methods\n",
    "\n",
    "Bias: Different methods can introduce bias into the results. For example, listwise deletion and mean imputation can bias estimates if missing values are not missing at random.\n",
    "\n",
    "Loss of Power: Excluding participants with missing data (listwise deletion) can reduce statistical power, making it harder to detect significant effects.\n",
    "\n",
    "Type I Error Rate: The choice of method can affect the Type I error rate (the probability of falsely rejecting the null hypothesis). Some methods may inflate or deflate the Type I error rate.\n",
    "\n",
    "Interpretation: The choice of method can influence the interpretation of the results. For instance, LOCF may mask true changes over time if missing values represent a systematic pattern."
   ]
  },
  {
   "cell_type": "markdown",
   "id": "1f3f403d-6f40-4a90-ac0d-c1b466a6f98b",
   "metadata": {},
   "source": [
    "Q8. What are some common post-hoc tests used after ANOVA, and when would you use each one? Provide\n",
    "an example of a situation where a post-hoc test might be necessary."
   ]
  },
  {
   "cell_type": "markdown",
   "id": "7017e820-af8b-4f9a-af32-0ef992395fcb",
   "metadata": {},
   "source": [
    "Common Post-Hoc Tests in ANOVA\n",
    "Post-hoc tests are used to identify which specific groups differ significantly from each other after a significant ANOVA result. Here are some common post-hoc tests:\n",
    "\n",
    "Tukey's Honestly Significant Difference (HSD)\n",
    "When to use: When you want to compare all possible pairs of group means.\n",
    "Advantages: Controls the family-wise error rate (FWER), making it suitable for multiple comparisons.\n",
    "Disadvantages: Can be overly conservative, especially with unequal sample sizes.\n",
    "\n",
    "Bonferroni Correction\n",
    "When to use: When you want to compare all possible pairs of group means.\n",
    "Advantages: Controls the FWER.\n",
    "Disadvantages: Can be overly conservative, especially with many comparisons.\n",
    "\n",
    "Sidak Correction\n",
    "When to use: When you want to compare all possible pairs of group means.\n",
    "Advantages: Controls the FWER, but it's generally less conservative than Bonferroni.\n",
    "Disadvantages: Can still be conservative in some cases.\n",
    "\n",
    "Dunnett's Test\n",
    "When to use: When you want to compare all groups to a control group.\n",
    "Advantages: More powerful than Tukey's HSD for comparing to a control group.\n",
    "Disadvantages: Less powerful for comparing non-control groups.\n",
    "\n",
    "Fisher's Least Significant Difference (LSD)\n",
    "When to use: When you have equal sample sizes and are willing to accept a higher FWER.\n",
    "Advantages: More powerful than other post-hoc tests.\n",
    "Disadvantages: Can be overly liberal, increasing the risk of Type I errors.\n",
    "\n",
    "Example:\n",
    "Scenario: A researcher conducted a study to investigate the effects of three different teaching methods (Method A, Method B, and Method C) on student test scores. After performing an ANOVA, the researcher found a significant difference between the means of the three groups. To determine which specific methods resulted in significantly different scores, a post-hoc test would be necessary.\n",
    "\n",
    "Choosing a post-hoc test:\n",
    "\n",
    "If the researcher wants to compare all possible pairs of methods, Tukey's HSD, Bonferroni, or Sidak correction could be used.\n",
    "If there's a control group (e.g., traditional teaching method), Dunnett's test could be appropriate.\n",
    "If the researcher is willing to accept a higher FWER, Fisher's LSD could be used."
   ]
  },
  {
   "cell_type": "markdown",
   "id": "d91c1566-db71-4e40-b61a-ef2d57284d9d",
   "metadata": {},
   "source": [
    "Q9. A researcher wants to compare the mean weight loss of three diets: A, B, and C. They collect data from\n",
    "50 participants who were randomly assigned to one of the diets. Conduct a one-way ANOVA using Python\n",
    "to determine if there are any significant differences between the mean weight loss of the three diets.\n",
    "Report the F-statistic and p-value, and interpret the results."
   ]
  },
  {
   "cell_type": "code",
   "execution_count": 6,
   "id": "4ca8360f-94b1-4b16-bd9c-02789b0a2848",
   "metadata": {},
   "outputs": [
    {
     "name": "stdout",
     "output_type": "stream",
     "text": [
      "F-statistic: 8.76\n",
      "P-value: 0.0006\n"
     ]
    }
   ],
   "source": [
    "import numpy as np\n",
    "import pandas as pd\n",
    "from scipy import stats\n",
    "\n",
    "# Simulate weight loss data for three diets\n",
    "np.random.seed(42)  # For reproducibility\n",
    "\n",
    "# Example data: 50 participants, randomly assigned to Diet A, B, or C\n",
    "data = {\n",
    "    'Diet': ['A'] * 17 + ['B'] * 17 + ['C'] * 16,  # 17 participants in Diet A, 17 in B, 16 in C\n",
    "    'Weight_Loss': np.concatenate([\n",
    "        np.random.normal(5, 1.5, 17),  # Diet A\n",
    "        np.random.normal(7, 1.2, 17),  # Diet B\n",
    "        np.random.normal(6, 1.4, 16)   # Diet C\n",
    "    ])\n",
    "}\n",
    "\n",
    "# Convert to DataFrame\n",
    "df = pd.DataFrame(data)\n",
    "\n",
    "# Perform one-way ANOVA\n",
    "f_statistic, p_value = stats.f_oneway(\n",
    "    df[df['Diet'] == 'A']['Weight_Loss'],\n",
    "    df[df['Diet'] == 'B']['Weight_Loss'],\n",
    "    df[df['Diet'] == 'C']['Weight_Loss']\n",
    ")\n",
    "\n",
    "# Print the results\n",
    "print(f\"F-statistic: {f_statistic:.2f}\")\n",
    "print(f\"P-value: {p_value:.4f}\")\n"
   ]
  },
  {
   "cell_type": "markdown",
   "id": "cf773092-e022-47dc-9229-bcbd82c250cd",
   "metadata": {},
   "source": [
    "Q10. A company wants to know if there are any significant differences in the average time it takes to\n",
    "complete a task using three different software programs: Program A, Program B, and Program C. They\n",
    "randomly assign 30 employees to one of the programs and record the time it takes each employee to\n",
    "complete the task. Conduct a two-way ANOVA using Python to determine if there are any main effects or\n",
    "interaction effects between the software programs and employee experience level (novice vs.\n",
    "experienced). Report the F-statistics and p-values, and interpret the results."
   ]
  },
  {
   "cell_type": "code",
   "execution_count": 7,
   "id": "e60ab792-9976-4ac9-a048-f54f0cc64571",
   "metadata": {},
   "outputs": [
    {
     "name": "stdout",
     "output_type": "stream",
     "text": [
      "                               sum_sq    df          F        PR(>F)\n",
      "C(Software)                350.500394   2.0  34.874203  7.924432e-08\n",
      "C(Experience)                0.036619   1.0   0.007287  9.326795e-01\n",
      "C(Software):C(Experience)    0.532895   2.0   0.053022  9.484697e-01\n",
      "Residual                   120.605041  24.0        NaN           NaN\n"
     ]
    }
   ],
   "source": [
    "import pandas as pd\n",
    "import numpy as np\n",
    "import statsmodels.api as sm\n",
    "from statsmodels.formula.api import ols\n",
    "\n",
    "# Simulate data\n",
    "np.random.seed(42)  # For reproducibility\n",
    "\n",
    "# Create a dataset with 30 employees\n",
    "data = {\n",
    "    'Software': np.repeat(['A', 'B', 'C'], 10),\n",
    "    'Experience': np.tile(['Novice', 'Experienced'], 15),\n",
    "    'Time': np.concatenate([\n",
    "        np.random.normal(25, 3, 10),  # Program A\n",
    "        np.random.normal(20, 2.5, 10),  # Program B\n",
    "        np.random.normal(22, 2.8, 10)   # Program C\n",
    "    ])\n",
    "}\n",
    "\n",
    "df = pd.DataFrame(data)\n",
    "\n",
    "# Fit the two-way ANOVA model\n",
    "model = ols('Time ~ C(Software) + C(Experience) + C(Software):C(Experience)', data=df).fit()\n",
    "\n",
    "# Perform the ANOVA\n",
    "anova_table = sm.stats.anova_lm(model, typ=2)  # Type II ANOVA\n",
    "\n",
    "# Display the ANOVA table\n",
    "print(anova_table)\n"
   ]
  },
  {
   "cell_type": "markdown",
   "id": "3f6706c1-4053-4d04-8900-5b518dd03406",
   "metadata": {},
   "source": [
    "Q11. An educational researcher is interested in whether a new teaching method improves student test\n",
    "scores. They randomly assign 100 students to either the control group (traditional teaching method) or the\n",
    "experimental group (new teaching method) and administer a test at the end of the semester. Conduct a\n",
    "two-sample t-test using Python to determine if there are any significant differences in test scores\n",
    "between the two groups. If the results are significant, follow up with a post-hoc test to determine which\n",
    "group(s) differ significantly from each other."
   ]
  },
  {
   "cell_type": "code",
   "execution_count": 8,
   "id": "3ceee2b4-5846-4a08-a8d9-1c4160c89036",
   "metadata": {},
   "outputs": [
    {
     "name": "stdout",
     "output_type": "stream",
     "text": [
      "T-statistic: -4.11\n",
      "P-value: 0.0001\n",
      "There is a significant difference between the test scores of the two groups.\n"
     ]
    }
   ],
   "source": [
    "import numpy as np\n",
    "import pandas as pd\n",
    "from scipy import stats\n",
    "\n",
    "# Simulate test score data\n",
    "np.random.seed(42)  # For reproducibility\n",
    "\n",
    "# Generate test scores for control and experimental groups\n",
    "control_scores = np.random.normal(75, 10, 50)  # Control group\n",
    "experimental_scores = np.random.normal(80, 10, 50)  # Experimental group\n",
    "\n",
    "# Perform two-sample t-test\n",
    "t_statistic, p_value = stats.ttest_ind(control_scores, experimental_scores)\n",
    "\n",
    "# Print results\n",
    "print(f\"T-statistic: {t_statistic:.2f}\")\n",
    "print(f\"P-value: {p_value:.4f}\")\n",
    "\n",
    "# Interpret the results\n",
    "if p_value < 0.05:\n",
    "    print(\"There is a significant difference between the test scores of the two groups.\")\n",
    "else:\n",
    "    print(\"There is no significant difference between the test scores of the two groups.\")\n"
   ]
  },
  {
   "cell_type": "code",
   "execution_count": 9,
   "id": "a39c5fc4-885b-4656-9ab0-bc0df3766ef9",
   "metadata": {},
   "outputs": [
    {
     "name": "stdout",
     "output_type": "stream",
     "text": [
      "Cohen's d: 0.82\n"
     ]
    }
   ],
   "source": [
    "# Calculate Cohen's d\n",
    "mean_control = np.mean(control_scores)\n",
    "mean_experimental = np.mean(experimental_scores)\n",
    "std_control = np.std(control_scores, ddof=1)\n",
    "std_experimental = np.std(experimental_scores, ddof=1)\n",
    "\n",
    "# Pooled standard deviation\n",
    "pooled_std = np.sqrt(((std_control**2 + std_experimental**2) / 2))\n",
    "\n",
    "# Cohen's d\n",
    "cohens_d = (mean_experimental - mean_control) / pooled_std\n",
    "print(f\"Cohen's d: {cohens_d:.2f}\")\n"
   ]
  },
  {
   "cell_type": "markdown",
   "id": "876cf5ee-cfc9-479a-a61f-289d6f0be4d0",
   "metadata": {},
   "source": [
    "Q12. A researcher wants to know if there are any significant differences in the average daily sales of three\n",
    "retail stores: Store A, Store B, and Store C. They randomly select 30 days and record the sales for each store\n",
    "on those days. Conduct a repeated measures ANOVA using Python to determine if there are any\n",
    "\n",
    "significant differences in sales between the three stores. If the results are significant, follow up with a post-\n",
    "hoc test to determine which store(s) differ significantly from each other."
   ]
  },
  {
   "cell_type": "code",
   "execution_count": 14,
   "id": "17434977-b755-4ba5-9819-b930f5b30be5",
   "metadata": {},
   "outputs": [
    {
     "name": "stdout",
     "output_type": "stream",
     "text": [
      "Repeated Measures ANOVA Results:\n",
      "               Anova\n",
      "===================================\n",
      "      F Value Num DF  Den DF Pr > F\n",
      "-----------------------------------\n",
      "Store  6.5881 2.0000 58.0000 0.0026\n",
      "===================================\n",
      "\n",
      "\n",
      "Post-Hoc Test Results:\n",
      " Multiple Comparison of Means - Tukey HSD, FWER=0.05 \n",
      "=====================================================\n",
      "group1 group2 meandiff p-adj   lower    upper  reject\n",
      "-----------------------------------------------------\n",
      "     A      B  21.0688 0.0025   6.4988 35.6388   True\n",
      "     A      C  14.9614 0.0428   0.3914 29.5313   True\n",
      "     B      C  -6.1074 0.5791 -20.6774  8.4625  False\n",
      "-----------------------------------------------------\n"
     ]
    }
   ],
   "source": [
    "import numpy as np\n",
    "import pandas as pd\n",
    "import statsmodels.api as sm\n",
    "from statsmodels.formula.api import ols\n",
    "from statsmodels.stats.anova import AnovaRM\n",
    "from statsmodels.stats.multicomp import pairwise_tukeyhsd\n",
    "\n",
    "# Simulate sales data for three stores over 30 days\n",
    "np.random.seed(42)  # For reproducibility\n",
    "\n",
    "# Generate daily sales data\n",
    "store_A_sales = np.random.normal(200, 25, 30)\n",
    "store_B_sales = np.random.normal(220, 30, 30)\n",
    "store_C_sales = np.random.normal(210, 20, 30)\n",
    "\n",
    "# Create a DataFrame\n",
    "data = {\n",
    "    'Day': np.tile(np.arange(1, 31), 3),\n",
    "    'Store': np.repeat(['A', 'B', 'C'], 30),\n",
    "    'Sales': np.concatenate([store_A_sales, store_B_sales, store_C_sales])\n",
    "}\n",
    "df = pd.DataFrame(data)\n",
    "\n",
    "# Perform repeated measures ANOVA\n",
    "anova = AnovaRM(df, 'Sales', 'Day', within=['Store'])\n",
    "anova_results = anova.fit()\n",
    "print(\"Repeated Measures ANOVA Results:\")\n",
    "print(anova_results)\n",
    "\n",
    "# Post-hoc test: Tukey's HSD\n",
    "# Prepare the data for Tukey's HSD test\n",
    "df_posthoc = df.copy()\n",
    "df_posthoc['Store'] = df_posthoc['Store'].astype('category')\n",
    "\n",
    "# Perform Tukey's HSD test\n",
    "tukey = pairwise_tukeyhsd(endog=df_posthoc['Sales'], groups=df_posthoc['Store'], alpha=0.05)\n",
    "print(\"\\nPost-Hoc Test Results:\")\n",
    "print(tukey)\n"
   ]
  },
  {
   "cell_type": "code",
   "execution_count": null,
   "id": "90ca7d92-60a5-49dd-bbb4-15f664f6cc0e",
   "metadata": {},
   "outputs": [],
   "source": []
  }
 ],
 "metadata": {
  "kernelspec": {
   "display_name": "Python 3 (ipykernel)",
   "language": "python",
   "name": "python3"
  },
  "language_info": {
   "codemirror_mode": {
    "name": "ipython",
    "version": 3
   },
   "file_extension": ".py",
   "mimetype": "text/x-python",
   "name": "python",
   "nbconvert_exporter": "python",
   "pygments_lexer": "ipython3",
   "version": "3.12.3"
  }
 },
 "nbformat": 4,
 "nbformat_minor": 5
}
