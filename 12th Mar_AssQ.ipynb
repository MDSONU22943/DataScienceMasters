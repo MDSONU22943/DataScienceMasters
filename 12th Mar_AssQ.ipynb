{
 "cells": [
  {
   "cell_type": "markdown",
   "id": "4f2fb716-01db-469f-a961-141ff47ac947",
   "metadata": {},
   "source": [
    "Q1. Calculate the 95% confidence interval for a sample of data with a mean of 50 and a standard deviation\n",
    "of 5 using Python. Interpret the results."
   ]
  },
  {
   "cell_type": "code",
   "execution_count": 1,
   "id": "cb03af6a-9536-499d-b198-02a89d76431f",
   "metadata": {},
   "outputs": [
    {
     "data": {
      "text/plain": [
       "(48.210805856282846, 51.789194143717154)"
      ]
     },
     "execution_count": 1,
     "metadata": {},
     "output_type": "execute_result"
    }
   ],
   "source": [
    "import scipy.stats as stats\n",
    "\n",
    "# Given data\n",
    "mean = 50\n",
    "std_dev = 5\n",
    "confidence_level = 0.95\n",
    "sample_size = 30  # assumed sample size for the calculation\n",
    "\n",
    "# Z-score for 95% confidence interval\n",
    "z_score = stats.norm.ppf(1 - (1 - confidence_level) / 2)\n",
    "\n",
    "# Standard error\n",
    "standard_error = std_dev / (sample_size ** 0.5)\n",
    "\n",
    "# Confidence interval calculation\n",
    "margin_of_error = z_score * standard_error\n",
    "confidence_interval = (mean - margin_of_error, mean + margin_of_error)\n",
    "\n",
    "confidence_interval\n"
   ]
  },
  {
   "cell_type": "markdown",
   "id": "10ef240c-f1da-4bd3-99c5-0f19fc7132d2",
   "metadata": {},
   "source": [
    "Interpretation:\n",
    "This interval suggests that we are 95% confident that the true population mean lies between 48.21 and 51.79. In other words, if you were to take multiple samples and calculate the confidence interval for each, approximately 95% of those intervals would contain the true population mean."
   ]
  },
  {
   "cell_type": "markdown",
   "id": "1c0598c1-84c5-40b5-a01d-64ce391d13d2",
   "metadata": {},
   "source": [
    "Q2. Conduct a chi-square goodness of fit test to determine if the distribution of colors of M&Ms in a bag\n",
    "matches the expected distribution of 20% blue, 20% orange, 20% green, 10% yellow, 10% red, and 20%\n",
    "brown. Use Python to perform the test with a significance level of 0.05."
   ]
  },
  {
   "cell_type": "code",
   "execution_count": 3,
   "id": "891fa745-92ef-4e80-9c5d-e2a9e2b8e4fa",
   "metadata": {},
   "outputs": [
    {
     "data": {
      "text/plain": [
       "(1.8, 0.87606840032466)"
      ]
     },
     "execution_count": 3,
     "metadata": {},
     "output_type": "execute_result"
    }
   ],
   "source": [
    "from scipy.stats import chisquare\n",
    "\n",
    "#observed frequencies\n",
    "observed = [22,18,24,8,10,18]\n",
    "\n",
    "#expected proportions\n",
    "expected_proportions= [0.2,0.2,0.2,0.1,0.1,0.2]\n",
    "total_observed = sum(observed)\n",
    "\n",
    "#convert expected proportions to expected frequencies\n",
    "expected =[p*total_observed for p in expected_proportions]\n",
    "\n",
    "#perform cgi-square goodness of fit test\n",
    "chi2_stat,p_value =chisquare(f_obs=observed,f_exp=expected)\n",
    "\n",
    "chi2_stat, p_value"
   ]
  },
  {
   "cell_type": "markdown",
   "id": "c202531d-d2d6-4ee8-b64f-39ea3fd5bc04",
   "metadata": {},
   "source": [
    "Interpretation:\n",
    "With a significance level of 𝛼=0.05\n",
    "\n",
    "\n",
    "Since the p-value (0.876) is much larger than 0.05, we fail to reject the null hypothesis."
   ]
  },
  {
   "cell_type": "markdown",
   "id": "8385cd9d-bfa1-44b7-9479-790f8adbb44f",
   "metadata": {},
   "source": [
    "Q4. A study of the prevalence of smoking in a population of 500 individuals found that 60 individuals\n",
    "smoked. Use Python code to calculate the 95% confidence interval for the true proportion of individuals in the\n",
    "population who smoke."
   ]
  },
  {
   "cell_type": "code",
   "execution_count": 5,
   "id": "50560b2e-302e-40a8-83eb-6f794efaea7c",
   "metadata": {},
   "outputs": [
    {
     "name": "stdout",
     "output_type": "stream",
     "text": [
      "95% Confidence interval: (-14.121805564346461, 14.36180556434646)\n"
     ]
    }
   ],
   "source": [
    "import scipy.stats as stats\n",
    "\n",
    "#Sample size\n",
    "n=500\n",
    "\n",
    "#Number of individuals who smoke\n",
    "x=60\n",
    "\n",
    "#Calculate the sample proportion\n",
    "p_hat = x/n\n",
    "\n",
    "# Calculate the standard error\n",
    "se = stats.binom.std(n,p_hat)\n",
    "\n",
    "#Calculate the z-score for a 95% confidence interval\n",
    "z_score = stats.norm.ppf(0.975)\n",
    "\n",
    "#calculate the margin of error\n",
    "margin_of_error = z_score * se\n",
    "\n",
    "#calculate the confidence interval\n",
    "lower_bound = p_hat - margin_of_error\n",
    "upper_bound = p_hat + margin_of_error\n",
    "\n",
    "print(\"95% Confidence interval:\", (lower_bound,upper_bound))"
   ]
  },
  {
   "cell_type": "markdown",
   "id": "0b91c568-ef76-4d08-8b7d-7b53aefb3136",
   "metadata": {},
   "source": [
    "Q5. Calculate the 90% confidence interval for a sample of data with a mean of 75 and a standard deviation\n",
    "of 12 using Python. Interpret the results."
   ]
  },
  {
   "cell_type": "code",
   "execution_count": 8,
   "id": "c10ad7d1-001f-4216-9292-4a1fc48eab95",
   "metadata": {},
   "outputs": [
    {
     "name": "stdout",
     "output_type": "stream",
     "text": [
      "90% Confidence Interval: (73.02617564765823, 76.97382435234177)\n"
     ]
    }
   ],
   "source": [
    "import scipy.stats as stats\n",
    "import math\n",
    "\n",
    "# Sample mean\n",
    "x_bar = 75\n",
    "\n",
    "# Sample standard deviation\n",
    "s = 12\n",
    "\n",
    "# Sample size (assumed to be large enough for z-distribution)\n",
    "n = 100  # Adjust this if you have the actual sample size\n",
    "\n",
    "# Calculate the z-score for a 90% confidence interval\n",
    "z_score = stats.norm.ppf(0.95)\n",
    "\n",
    "# Calculate the standard error\n",
    "se = s / math.sqrt(n)\n",
    "\n",
    "# Calculate the margin of error\n",
    "margin_of_error = z_score * se\n",
    "\n",
    "# Calculate the confidence interval\n",
    "lower_bound = x_bar - margin_of_error\n",
    "upper_bound = x_bar + margin_of_error\n",
    "\n",
    "print(\"90% Confidence Interval:\", (lower_bound, upper_bound))"
   ]
  },
  {
   "cell_type": "markdown",
   "id": "e51c2b85-523f-406d-939a-c33ef8fbd71b",
   "metadata": {},
   "source": [
    "Interpretation:\n",
    "\n",
    "We are 90% confident that the true population mean lies between the lower bound and upper bound calculated in the confidence interval. This means that if we were to repeat this sampling process many times, 90% of the calculated confidence intervals would contain the true population mean."
   ]
  },
  {
   "cell_type": "markdown",
   "id": "2dd3ed12-de8c-4456-992b-5f8b9c92e120",
   "metadata": {},
   "source": [
    "Q6. Use Python to plot the chi-square distribution with 10 degrees of freedom. Label the axes and shade the\n",
    "area corresponding to a chi-square statistic of 15."
   ]
  },
  {
   "cell_type": "code",
   "execution_count": 11,
   "id": "f21de591-cb59-499b-83c2-568489f635dc",
   "metadata": {},
   "outputs": [
    {
     "data": {
      "image/png": "[encoded data removed]",
      "text/plain": [
       "<Figure size 640x480 with 1 Axes>"
      ]
     },
     "metadata": {},
     "output_type": "display_data"
    }
   ],
   "source": [
    "import numpy as np\n",
    "import matplotlib.pyplot as plt\n",
    "from scipy.stats import chi2\n",
    "\n",
    "#degree of freedom\n",
    "df=10\n",
    "\n",
    "#generate x values \n",
    "x= np.linspace(0,30,500)\n",
    "\n",
    "#generate the chi-square distribution for 10 degree of freedom\n",
    "y=chi2.pdf(x,df)\n",
    "\n",
    "#plot the chi-square distribution\n",
    "plt.plot(x,y, label=f'cho-square distribution (df={df})')\n",
    "\n",
    "#shade the area uder the curve for chi-square statistic of 15\n",
    "x_shade = np.linspace(0,15,300)\n",
    "y_shade = chi2.pdf(x_shade,df)\n",
    "plt.fill_between(x_shade,y_shade, color='skyblue',alpha=0.5, label='Shaded Area (chi-square <=15)')\n",
    "\n",
    "\n",
    "#Label the axes\n",
    "plt.xlabel('chi-square value')\n",
    "plt.ylabel('Probability Density')\n",
    "plt.title('Chi-Square Distribution with 10 Degrees of Freedom')\n",
    "\n",
    "#Add a legend\n",
    "plt.legend()\n",
    "\n",
    "#Display the plot\n",
    "plt.show()"
   ]
  },
  {
   "cell_type": "markdown",
   "id": "6a2207ac-b1fd-4a5c-99dd-d70f76b2985f",
   "metadata": {},
   "source": [
    "Q7. A random sample of 1000 people was asked if they preferred Coke or Pepsi. Of the sample, 520\n",
    "preferred Coke. Calculate a 99% confidence interval for the true proportion of people in the population who\n",
    "prefer Coke."
   ]
  },
  {
   "cell_type": "code",
   "execution_count": 12,
   "id": "fcfbb070-c6e5-4d01-a98f-4192631b23d6",
   "metadata": {},
   "outputs": [
    {
     "name": "stdout",
     "output_type": "stream",
     "text": [
      "99% Confidence Interval: (0.4793, 0.5607)\n"
     ]
    }
   ],
   "source": [
    "import math\n",
    "from scipy import stats\n",
    "\n",
    "# Sample data\n",
    "n = 1000\n",
    "x = 520\n",
    "sample_proportion = x / n\n",
    "\n",
    "# Standard error\n",
    "standard_error = math.sqrt((sample_proportion * (1 - sample_proportion)) / n)\n",
    "\n",
    "# Z-score for 99% confidence level\n",
    "z_score = stats.norm.ppf(0.995)  # 0.995 because it's two-tailed\n",
    "\n",
    "# Margin of error\n",
    "margin_of_error = z_score * standard_error\n",
    "\n",
    "# Confidence interval\n",
    "lower_bound = sample_proportion - margin_of_error\n",
    "upper_bound = sample_proportion + margin_of_error\n",
    "\n",
    "print(f\"99% Confidence Interval: ({lower_bound:.4f}, {upper_bound:.4f})\")\n"
   ]
  },
  {
   "cell_type": "markdown",
   "id": "0d3b9a2d-3f8f-4921-bdcf-2fb42ea8ac52",
   "metadata": {},
   "source": [
    "Q8. A researcher hypothesizes that a coin is biased towards tails. They flip the coin 100 times and observe\n",
    "45 tails. Conduct a chi-square goodness of fit test to determine if the observed frequencies match the\n",
    "expected frequencies of a fair coin. Use a significance level of 0.05."
   ]
  },
  {
   "cell_type": "code",
   "execution_count": 13,
   "id": "c5673b95-ddc2-40cc-be8c-b2cdca87dabb",
   "metadata": {},
   "outputs": [
    {
     "name": "stdout",
     "output_type": "stream",
     "text": [
      "Chi-Square Statistic: 1.0000\n",
      "Critical Value: 3.8415\n",
      "P-Value: 0.3173\n",
      "Fail to reject the null hypothesis: The coin is not biased.\n"
     ]
    }
   ],
   "source": [
    "import scipy.stats as stats\n",
    "\n",
    "# Observed frequencies\n",
    "observed_tails = 45\n",
    "observed_heads = 100 - observed_tails\n",
    "\n",
    "# Expected frequencies for a fair coin\n",
    "expected_tails = 50\n",
    "expected_heads = 50\n",
    "\n",
    "# Chi-square test statistic\n",
    "chi2_statistic = ((observed_tails - expected_tails)**2 / expected_tails) + \\\n",
    "                  ((observed_heads - expected_heads)**2 / expected_heads)\n",
    "\n",
    "# Degrees of freedom\n",
    "df = 1\n",
    "\n",
    "# Critical value for chi-square at alpha = 0.05\n",
    "alpha = 0.05\n",
    "critical_value = stats.chi2.ppf(1 - alpha, df)\n",
    "\n",
    "# p-value\n",
    "p_value = 1 - stats.chi2.cdf(chi2_statistic, df)\n",
    "\n",
    "# Output results\n",
    "print(f\"Chi-Square Statistic: {chi2_statistic:.4f}\")\n",
    "print(f\"Critical Value: {critical_value:.4f}\")\n",
    "print(f\"P-Value: {p_value:.4f}\")\n",
    "\n",
    "# Conclusion\n",
    "if chi2_statistic > critical_value:\n",
    "    print(\"Reject the null hypothesis: The coin is biased towards tails.\")\n",
    "else:\n",
    "    print(\"Fail to reject the null hypothesis: The coin is not biased.\")\n"
   ]
  },
  {
   "cell_type": "markdown",
   "id": "1e34d9d4-1b13-42d5-b220-910fe49b1ce9",
   "metadata": {},
   "source": [
    "Q9. A study was conducted to determine if there is an association between smoking status (smoker or\n",
    "non-smoker) and lung cancer diagnosis (yes or no). The results are shown in the contingency table below.\n",
    "Conduct a chi-square test for independence to determine if there is a significant association between\n",
    "smoking status and lung cancer diagnosis.\n",
    "\n",
    "Use a significance level of 0.05.\n",
    "Group A\n",
    "\n",
    "Outcome 1 20 15\n",
    "Outcome 2 10 25\n",
    "Outcome 3 15 20\n",
    "Group B\n",
    "\n",
    "Lung Cancer: Yes\n",
    "\n",
    "Smoker 60 140\n",
    "Non-smoker 30 170"
   ]
  },
  {
   "cell_type": "code",
   "execution_count": 15,
   "id": "c804a698-6c6b-4155-8329-f7a555473e2c",
   "metadata": {},
   "outputs": [
    {
     "name": "stdout",
     "output_type": "stream",
     "text": [
      "Chi-Square Statistic: 12.0573\n",
      "Critical Value: 3.8415\n",
      "P-Value: 0.0005\n",
      "Reject the null hypothesis: There is a significant association between smoking status and lung cancer diagnosis.\n"
     ]
    }
   ],
   "source": [
    "import scipy.stats as stats\n",
    "import numpy as np\n",
    "\n",
    "# Observed frequencies\n",
    "observed = np.array([[60, 140],\n",
    "                     [30, 170]])\n",
    "\n",
    "# Perform the chi-square test\n",
    "chi2_statistic, p_value, _, _ = stats.chi2_contingency(observed)\n",
    "\n",
    "# Degrees of freedom\n",
    "df = (observed.shape[0] - 1) * (observed.shape[1] - 1)\n",
    "\n",
    "# Critical value for chi-square at alpha = 0.05\n",
    "alpha = 0.05\n",
    "critical_value = stats.chi2.ppf(1 - alpha, df)\n",
    "\n",
    "# Output results\n",
    "print(f\"Chi-Square Statistic: {chi2_statistic:.4f}\")\n",
    "print(f\"Critical Value: {critical_value:.4f}\")\n",
    "print(f\"P-Value: {p_value:.4f}\")\n",
    "\n",
    "# Conclusion\n",
    "if chi2_statistic > critical_value:\n",
    "    print(\"Reject the null hypothesis: There is a significant association between smoking status and lung cancer diagnosis.\")\n",
    "else:\n",
    "    print(\"Fail to reject the null hypothesis: There is no significant association between smoking status and lung cancer diagnosis.\")\n"
   ]
  },
  {
   "cell_type": "code",
   "execution_count": null,
   "id": "59e18e69-8a39-48a5-bde4-89559baa1176",
   "metadata": {},
   "outputs": [],
   "source": []
  },
  {
   "cell_type": "markdown",
   "id": "f1a51f17-3f2b-43e8-978b-3b51aeec367f",
   "metadata": {},
   "source": [
    "Q11. A random sample of 30 people was selected from a population with an unknown mean and standard\n",
    "deviation. The sample mean was found to be 72 and the sample standard deviation was found to be 10.\n",
    "Conduct a hypothesis test to determine if the population mean is significantly different from 70. Use a\n",
    "significance level of 0.05."
   ]
  },
  {
   "cell_type": "code",
   "execution_count": 14,
   "id": "2ff317f6-a08e-41be-904f-df3f40dcf3cd",
   "metadata": {},
   "outputs": [
    {
     "name": "stdout",
     "output_type": "stream",
     "text": [
      "T-Statistic: 1.0954\n",
      "Critical Value: 2.0452\n",
      "P-Value: 0.2823\n",
      "Fail to reject the null hypothesis: The population mean is not significantly different from 70.\n"
     ]
    }
   ],
   "source": [
    "import scipy.stats as stats\n",
    "import math\n",
    "\n",
    "# Sample data\n",
    "sample_mean = 72\n",
    "sample_std_dev = 10\n",
    "sample_size = 30\n",
    "hypothesized_mean = 70\n",
    "\n",
    "# Calculate the test statistic\n",
    "t_statistic = (sample_mean - hypothesized_mean) / (sample_std_dev / math.sqrt(sample_size))\n",
    "\n",
    "# Degrees of freedom\n",
    "df = sample_size - 1\n",
    "\n",
    "# Critical value for two-tailed test at alpha = 0.05\n",
    "alpha = 0.05\n",
    "critical_value = stats.t.ppf(1 - alpha / 2, df)\n",
    "\n",
    "# p-value\n",
    "p_value = 2 * (1 - stats.t.cdf(abs(t_statistic), df))\n",
    "\n",
    "# Output results\n",
    "print(f\"T-Statistic: {t_statistic:.4f}\")\n",
    "print(f\"Critical Value: {critical_value:.4f}\")\n",
    "print(f\"P-Value: {p_value:.4f}\")\n",
    "\n",
    "# Conclusion\n",
    "if abs(t_statistic) > critical_value:\n",
    "    print(\"Reject the null hypothesis: The population mean is significantly different from 70.\")\n",
    "else:\n",
    "    print(\"Fail to reject the null hypothesis: The population mean is not significantly different from 70.\")\n"
   ]
  },
  {
   "cell_type": "code",
   "execution_count": null,
   "id": "926ee385-9e7d-4e3e-b51c-e6c05dd6db7a",
   "metadata": {},
   "outputs": [],
   "source": []
  }
 ],
 "metadata": {
  "kernelspec": {
   "display_name": "Python 3 (ipykernel)",
   "language": "python",
   "name": "python3"
  },
  "language_info": {
   "codemirror_mode": {
    "name": "ipython",
    "version": 3
   },
   "file_extension": ".py",
   "mimetype": "text/x-python",
   "name": "python",
   "nbconvert_exporter": "python",
   "pygments_lexer": "ipython3",
   "version": "3.12.3"
  }
 },
 "nbformat": 4,
 "nbformat_minor": 5
}
