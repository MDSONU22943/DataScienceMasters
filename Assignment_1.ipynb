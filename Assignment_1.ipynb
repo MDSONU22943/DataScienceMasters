{
 "cells": [
  {
   "cell_type": "code",
   "execution_count": null,
   "id": "2f559310-1fd9-4b85-babc-dee59706852b",
   "metadata": {},
   "outputs": [],
   "source": [
    "1.Who developed python programming language?\n",
    "Ans.Guido Van Rossum "
   ]
  },
  {
   "cell_type": "code",
   "execution_count": null,
   "id": "b730e11a-22f2-4e63-bd69-d1804f7e3389",
   "metadata": {},
   "outputs": [],
   "source": [
    "2.which type of programming does python support?\n",
    "Ans.general purpose as well as object oreinted."
   ]
  },
  {
   "cell_type": "code",
   "execution_count": null,
   "id": "7a561e60-62de-42a2-a9ad-a38747edcf50",
   "metadata": {},
   "outputs": [],
   "source": [
    "3.is python case sensiive when dealing with identifiers?\n",
    "Ans.yes"
   ]
  },
  {
   "cell_type": "code",
   "execution_count": null,
   "id": "e510773a-5535-4c3a-908c-d23a6649d6dd",
   "metadata": {},
   "outputs": [],
   "source": [
    "4.what is correct extension of python file?\n",
    "Ans. .py"
   ]
  },
  {
   "cell_type": "code",
   "execution_count": null,
   "id": "697262dd-98fc-4bba-9318-9090766a7b94",
   "metadata": {},
   "outputs": [],
   "source": [
    "5.is python code compiled or interpreted?\n",
    "Ans.Python is a “COMPILED INTERPRETED” language.\n",
    "\n",
    "This means when the Python program is run,\n",
    "\n",
    "First Python checks for program syntax\n",
    "Compiles and converts it to bytecode, and directly bytecode is loaded in system memory.\n",
    "Then compiled bytecode interpreted from memory to execute it.\n",
    "Whereas other languages like c convert programs to machine code and save them as executables in the disk. And then the user can run it as a.out\n",
    "\n",
    "We usually call Python an interpreted language because the compilation happens behind the scene and when we run the python code through:\n",
    "\n",
    "python Hello.py -> directly executes the code, and we can see the output provided that code is syntactically correct\n",
    "\n",
    "python Hello.py -> it looks like it directly executes, but it first generates the bytecode that the interpreter interprets to produce the native code for the execution purpose.\n",
    "\n",
    "CPython takes the responsibility of both compilation and interpretation."
   ]
  },
  {
   "cell_type": "code",
   "execution_count": null,
   "id": "db8a3e80-6d10-477d-884e-56fb5ee03f9d",
   "metadata": {},
   "outputs": [],
   "source": [
    "6.name a few blocks of code used to define in python language?\n",
    "Ans.for loop,if-else condition etc"
   ]
  },
  {
   "cell_type": "code",
   "execution_count": null,
   "id": "a0bc1b3b-4301-43ee-b66d-2c59046cb7d9",
   "metadata": {},
   "outputs": [],
   "source": [
    "7.state a character use to give single-line comment?\n",
    "Ans.# hello pwskills, i'm sk student of 3rd year of CSE departement"
   ]
  },
  {
   "cell_type": "code",
   "execution_count": null,
   "id": "a6174b6c-38b4-43f0-9e3e-2df0fb08142f",
   "metadata": {},
   "outputs": [],
   "source": [
    "8.mention a function which can help us to find the version of python that we are currently working on?\n",
    "Ans Sys.version\n",
    "    \n",
    "    import sys  \n",
    "    print(\"Version\")  \n",
    "    print(sys.version) "
   ]
  },
  {
   "cell_type": "code",
   "execution_count": null,
   "id": "7f58b20d-a6b1-4830-95f4-64c084a86efa",
   "metadata": {},
   "outputs": [],
   "source": [
    "9. python support the creation of anonymous function at runtime , using a contruct called______?\n",
    "Ans.lambda function"
   ]
  },
  {
   "cell_type": "code",
   "execution_count": null,
   "id": "54f136b7-c68a-4d0a-a71f-285163f00a54",
   "metadata": {},
   "outputs": [],
   "source": [
    "10.what does pip stands for python?\n",
    "Ans. Preferred Installer Program"
   ]
  },
  {
   "cell_type": "code",
   "execution_count": null,
   "id": "c1e3f480-e8cb-42a7-a6a4-31a5e47dfe7a",
   "metadata": {},
   "outputs": [],
   "source": [
    "11.mention a few built-in function in python?\n",
    "Ans. abs() -> returns the absolute value of a number.A negative value’s absolute is that value is positive.\n",
    "     all() -> returns True if all values in a python iterable have a Boolean value of True.\n",
    "     any() -> returns True if, even one value in the iterable has a Boolean value of True.\n",
    "     bin() -> convert integer to binary.\n",
    "     complex() -> function creates a complex number."
   ]
  },
  {
   "cell_type": "code",
   "execution_count": null,
   "id": "0b9b8cc1-278f-438c-81f5-5fca80c380f0",
   "metadata": {},
   "outputs": [],
   "source": [
    "12.what are the maximum possible length of an identifier in python?\n",
    "Ans. infinite. there is restriction of length."
   ]
  },
  {
   "cell_type": "code",
   "execution_count": null,
   "id": "c705be5d-f67c-4123-ac2d-a9fd5f1994c6",
   "metadata": {},
   "outputs": [],
   "source": [
    "13.what are the benefits of using python?\n",
    "Ans. free and open source.\n",
    "     easy and simple to learn.\n",
    "     lots of standard library.\n",
    "     portable and dynamically typed.\n",
    "    improved productivity."
   ]
  },
  {
   "cell_type": "code",
   "execution_count": null,
   "id": "5f75476a-f799-484c-a531-fef3500b4a3d",
   "metadata": {},
   "outputs": [],
   "source": [
    "14.how is memory managed in python?\n",
    "Ans.In Python memory allocation and deallocation method is automatic as the Python developers created a garbage collector for Python so that the user does not have to do manual garbage collection.Garbage collection is a process in which the interpreter frees up the memory when not in use to make it available for other objects."
   ]
  },
  {
   "cell_type": "code",
   "execution_count": null,
   "id": "09690a2a-1c00-47c4-8d48-65d89216a5e2",
   "metadata": {},
   "outputs": [],
   "source": [
    "15.how to install python on windows and set path variable?\n",
    "Ans.step1 -> go to browser write python download ,click python download and simple it downloading start.\n",
    "    step2 -> after download go to the download folder and click on and install it.\n",
    "    step3 -> after installation go to cmd and write python -v if python version comes then python is installed in your computer.\n",
    "    step4 -> if version is not come then you have to set the path variable.\n",
    "    step5 -> click on start button and type environment.\n",
    "    step6 -> click on bottom right environment variable.\n",
    "    step7 -> go to user variable anf PATH variable and click on it.\n",
    "    step8 -> click on new and copy the python path where you python is installed.\n",
    "    step9 -> click ok or a"
   ]
  }
 ],
 "metadata": {
  "kernelspec": {
   "display_name": "Python 3 (ipykernel)",
   "language": "python",
   "name": "python3"
  },
  "language_info": {
   "codemirror_mode": {
    "name": "ipython",
    "version": 3
   },
   "file_extension": ".py",
   "mimetype": "text/x-python",
   "name": "python",
   "nbconvert_exporter": "python",
   "pygments_lexer": "ipython3",
   "version": "3.10.8"
  }
 },
 "nbformat": 4,
 "nbformat_minor": 5
}
