{
 "cells": [
  {
   "cell_type": "markdown",
   "id": "8e29341c",
   "metadata": {},
   "source": [
    "Q1. What is the difference between Ordinal Encoding and Label Encoding? Provide an example of when you\n",
    "might choose one over the other.\n",
    "\n",
    "Ordinal encoding and label encoding are two techniques used for converting categorical variables into numerical representations. The main difference between the two is the level of measurement of the categories.\n",
    "\n",
    "In ordinal encoding, categories are assigned an integer value based on their order or rank. For example, if we have a variable with the categories [\"low\", \"medium\", \"high\"], we could assign them the values [1, 2, 3] respectively. This encoding assumes that the categories have a natural order or hierarchy.\n",
    "\n",
    "In label encoding, each category is assigned a unique integer value, regardless of any order or hierarchy. For example, if we have a variable with the categories [\"red\", \"green\", \"blue\"], we could assign them the values [1, 2, 3] respectively. This encoding assumes that the categories are nominal, meaning that they have no inherent order or hierarchy.\n",
    "\n",
    "When to choose one over the other depends on the nature of the data and the problem at hand. Ordinal encoding is useful when the categories have a clear order or hierarchy, such as in rating systems (e.g., 1 star, 2 stars, 3 stars, etc.). Label encoding is useful when the categories are nominal and have no inherent order or hierarchy, such as in colors (e.g., red, green, blue).\n",
    "\n",
    "For example, in a machine learning problem where we are predicting the quality of wine based on different features such as color, aroma, and taste, we might use ordinal encoding for the color feature as it has a clear order (white, rose, red), but use label encoding for the aroma and taste features, which are nominal in nature."
   ]
  },
  {
   "cell_type": "markdown",
   "id": "c64780ad",
   "metadata": {},
   "source": [
    "Q2. Explain how Target Guided Ordinal Encoding works and provide an example of when you might use it in\n",
    "a machine learning project.\n",
    "\n",
    "Target Guided Ordinal Encoding is a technique used for encoding categorical variables based on their relationship with the target variable in a way that preserves the ordering of the categories. This technique can be used when the number of categories is high and one-hot encoding is not feasible or when there is a strong correlation between the categories and the target variable.\n",
    "\n",
    "The basic steps for Target Guided Ordinal Encoding are as follows:\n",
    "\n",
    "Calculate the mean of the target variable for each category.\n",
    "Sort the categories based on their mean target value.\n",
    "Assign an integer value to each category based on its position in the sorted list."
   ]
  },
  {
   "cell_type": "code",
   "execution_count": 1,
   "id": "dbdc5ed1",
   "metadata": {},
   "outputs": [
    {
     "name": "stdout",
     "output_type": "stream",
     "text": [
      "  category  target  category_ordinal\n",
      "0        A       1                 4\n",
      "1        B       0                 0\n",
      "2        C       0                 1\n",
      "3        D       1                 5\n",
      "4        E       1                 6\n",
      "5        F       1                 7\n",
      "6        G       0                 2\n",
      "7        H       1                 8\n",
      "8        I       0                 3\n",
      "9        J       1                 9\n"
     ]
    }
   ],
   "source": [
    "import pandas as pd\n",
    "import numpy as np\n",
    "\n",
    "# create a sample dataset with a categorical variable and a target variable\n",
    "df = pd.DataFrame({\n",
    "    'category': ['A', 'B', 'C', 'D', 'E', 'F', 'G', 'H', 'I', 'J'],\n",
    "    'target': [1, 0, 0, 1, 1, 1, 0, 1, 0, 1]\n",
    "})\n",
    "\n",
    "# calculate the mean target value for each category\n",
    "mean_target = df.groupby('category')['target'].mean().to_dict()\n",
    "\n",
    "# sort the categories based on their mean target value\n",
    "sorted_categories = sorted(mean_target, key=mean_target.get)\n",
    "\n",
    "# assign an integer value to each category based on its position in the sorted list\n",
    "ordinal_mapping = {k: i for i, k in enumerate(sorted_categories, 0)}\n",
    "\n",
    "# apply the ordinal mapping to the categorical variable\n",
    "df['category_ordinal'] = df['category'].map(ordinal_mapping)\n",
    "\n",
    "print(df)\n"
   ]
  },
  {
   "cell_type": "markdown",
   "id": "ee25bcbf",
   "metadata": {},
   "source": [
    "Q3. Define covariance and explain why it is important in statistical analysis. How is covariance calculated?\n",
    "\n",
    "Covariance is a statistical measure that describes the relationship between two variables. Specifically, covariance measures how much two variables change together, and it provides information about the direction and strength of their relationship.\n",
    "\n",
    "In statistical analysis, covariance is important because it helps to identify the degree to which two variables are related to each other. If two variables have a positive covariance, it means that they tend to increase or decrease together, whereas if they have a negative covariance, it means that they tend to move in opposite directions. Covariance can also help to identify outliers or unusual observations that are not consistent with the general pattern of the data.\n",
    "\n",
    "The formula for covariance is:\n",
    "\n",
    "cov(X,Y) = E[(X - E[X])(Y - E[Y])]\n",
    "\n",
    "where X and Y are two random variables, E[X] and E[Y] are their respective expected values, and cov(X,Y) is the covariance between X and Y.\n",
    "\n",
    "To calculate covariance, we first calculate the mean or expected value of each variable. We then calculate the difference between each observation and its respective expected value for both variables, multiply the differences together, and take the average of all these products. The resulting value is the covariance between the two variables.\n",
    "\n",
    "Covariance can be calculated using a variety of software packages, including Excel, Python, R, and many others. In Python, for example, the numpy.cov function can be used to calculate the covariance matrix between two or more variables."
   ]
  },
  {
   "cell_type": "markdown",
   "id": "505ab921",
   "metadata": {},
   "source": [
    "Q4. For a dataset with the following categorical variables: Color (red, green, blue), Size (small, medium,\n",
    "large), and Material (wood, metal, plastic), perform label encoding using Python's scikit-learn library.\n",
    "Show your code and explain the output.\n"
   ]
  },
  {
   "cell_type": "code",
   "execution_count": 2,
   "id": "40479067",
   "metadata": {},
   "outputs": [
    {
     "name": "stdout",
     "output_type": "stream",
     "text": [
      "   Color    Size Material  Color_encoded  Size_encoded  Material_encoded\n",
      "0    red  medium     wood              2             1                 2\n",
      "1  green   small    metal              1             2                 0\n",
      "2   blue   large  plastic              0             0                 1\n",
      "3    red   small     wood              2             2                 2\n",
      "4  green  medium    metal              1             1                 0\n",
      "5   blue   large  plastic              0             0                 1\n"
     ]
    }
   ],
   "source": [
    "from sklearn.preprocessing import LabelEncoder\n",
    "import pandas as pd\n",
    "\n",
    "# create a sample dataset\n",
    "data = {\n",
    "    'Color': ['red', 'green', 'blue', 'red', 'green', 'blue'],\n",
    "    'Size': ['medium', 'small', 'large', 'small', 'medium', 'large'],\n",
    "    'Material': ['wood', 'metal', 'plastic', 'wood', 'metal', 'plastic']\n",
    "}\n",
    "df = pd.DataFrame(data)\n",
    "\n",
    "# create an instance of the LabelEncoder class\n",
    "le = LabelEncoder()\n",
    "\n",
    "# apply label encoding to each column of the dataframe\n",
    "df['Color_encoded'] = le.fit_transform(df['Color'])\n",
    "df['Size_encoded'] = le.fit_transform(df['Size'])\n",
    "df['Material_encoded'] = le.fit_transform(df['Material'])\n",
    "\n",
    "print(df)\n"
   ]
  },
  {
   "cell_type": "markdown",
   "id": "6b8c2e95",
   "metadata": {},
   "source": [
    "Q5. Calculate the covariance matrix for the following variables in a dataset: Age, Income, and Education\n",
    "level. Interpret the results."
   ]
  },
  {
   "cell_type": "code",
   "execution_count": 3,
   "id": "be6dac6d",
   "metadata": {},
   "outputs": [
    {
     "name": "stdout",
     "output_type": "stream",
     "text": [
      "[[2.29166667e+02 2.29166667e+05 9.16666667e+01]\n",
      " [2.29166667e+05 2.29166667e+08 9.16666667e+04]\n",
      " [9.16666667e+01 9.16666667e+04 3.66666667e+01]]\n"
     ]
    }
   ],
   "source": [
    "import numpy as np\n",
    "\n",
    "# create a sample dataset with Age, Income, and Education level\n",
    "age = [25, 30, 35, 40, 45, 50, 55, 60, 65, 70]\n",
    "income = [20000, 25000, 30000, 35000, 40000, 45000, 50000, 55000, 60000, 65000]\n",
    "edu_level = [10, 12, 14, 16, 18, 20, 22, 24, 26, 28]\n",
    "\n",
    "# stack the variables into a 2D array\n",
    "data = np.stack((age, income, edu_level), axis=0)\n",
    "\n",
    "# calculate the covariance matrix\n",
    "cov_matrix = np.cov(data)\n",
    "\n",
    "print(cov_matrix)\n"
   ]
  },
  {
   "cell_type": "markdown",
   "id": "64206be0",
   "metadata": {},
   "source": [
    "Q6. You are working on a machine learning project with a dataset containing several categorical\n",
    "variables, including \"Gender\" (Male/Female), \"Education Level\" (High School/Bachelor's/Master's/PhD),\n",
    "and \"Employment Status\" (Unemployed/Part-Time/Full-Time). Which encoding method would you use for\n",
    "each variable, and why?"
   ]
  },
  {
   "cell_type": "markdown",
   "id": "1d923230",
   "metadata": {},
   "source": [
    "For the \"Gender\" variable, which has only two categories (Male and Female), we can use a simple binary encoding method, such as Label Encoding, where we map Male to 0 and Female to 1. Alternatively, we can use One-Hot Encoding to create a binary column for each category, but in this case, we would end up with just one binary column.\n",
    "\n",
    "For the \"Education Level\" variable, which has more than two categories, we can use One-Hot Encoding. One-Hot Encoding creates a binary column for each category, where 1 indicates that the observation belongs to that category, and 0 indicates that it does not. This method ensures that the model treats each category equally, and avoids creating any ordinal relationships between categories.\n",
    "\n",
    "For the \"Employment Status\" variable, which also has more than two categories, we can use Ordinal Encoding or Target Guided Ordinal Encoding. Ordinal Encoding assigns a unique integer to each category, and can be used when there is an inherent ordinal relationship between categories (e.g., part-time < full-time < unemployed). On the other hand, Target Guided Ordinal Encoding takes into account the target variable (i.e., the variable we are trying to predict) and assigns an integer to each category based on the mean of the target variable for each category. This method can be useful when there is a strong relationship between the target variable and the categorical variable, and can potentially improve the model's performance.\n",
    "\n",
    "Overall, the choice of encoding method depends on the specific dataset, the number of categories in each variable, and the relationship between the variables and the target variable. It is important to choose an encoding method that preserves the information in the data and does not introduce any biases or distortions."
   ]
  },
  {
   "cell_type": "markdown",
   "id": "cb6c34c0",
   "metadata": {},
   "source": [
    "Q7. You are analyzing a dataset with two continuous variables, \"Temperature\" and \"Humidity\", and two\n",
    "categorical variables, \"Weather Condition\" (Sunny/Cloudy/Rainy) and \"Wind Direction\" (North/South/\n",
    "East/West). Calculate the covariance between each pair of variables and interpret the results."
   ]
  },
  {
   "cell_type": "code",
   "execution_count": 4,
   "id": "e7cd32db",
   "metadata": {},
   "outputs": [
    {
     "name": "stdout",
     "output_type": "stream",
     "text": [
      "             Temperature  Humidity\n",
      "Temperature         62.5     125.0\n",
      "Humidity           125.0     250.0\n"
     ]
    }
   ],
   "source": [
    "import pandas as pd\n",
    "\n",
    "# create a sample dataframe\n",
    "data = {'Temperature': [20, 25, 30, 35, 40],\n",
    "        'Humidity': [40, 50, 60, 70, 80],\n",
    "        'Weather Condition': ['Sunny', 'Cloudy', 'Rainy', 'Rainy', 'Sunny'],\n",
    "        'Wind Direction': ['North', 'South', 'East', 'West', 'North']}\n",
    "df = pd.DataFrame(data)\n",
    "\n",
    "# calculate the covariance matrix\n",
    "cov_matrix = df.cov()\n",
    "\n",
    "# print the covariance matrix\n",
    "print(cov_matrix)\n"
   ]
  },
  {
   "cell_type": "code",
   "execution_count": null,
   "id": "355ce602",
   "metadata": {},
   "outputs": [],
   "source": []
  }
 ],
 "metadata": {
  "kernelspec": {
   "display_name": "Python 3 (ipykernel)",
   "language": "python",
   "name": "python3"
  },
  "language_info": {
   "codemirror_mode": {
    "name": "ipython",
    "version": 3
   },
   "file_extension": ".py",
   "mimetype": "text/x-python",
   "name": "python",
   "nbconvert_exporter": "python",
   "pygments_lexer": "ipython3",
   "version": "3.9.13"
  }
 },
 "nbformat": 4,
 "nbformat_minor": 5
}
