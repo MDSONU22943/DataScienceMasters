{
 "cells": [
  {
   "cell_type": "markdown",
   "id": "acc8885e",
   "metadata": {},
   "source": [
    "Q1, Create a vehicle class with an init method having instance variables as name_of_vehicle, max_speed\n",
    "and average_of_vehicle."
   ]
  },
  {
   "cell_type": "code",
   "execution_count": 1,
   "id": "85c83494",
   "metadata": {},
   "outputs": [],
   "source": [
    "class Vehicle:\n",
    "    def __init__(self,name_of_vehicle,max_speed,average_of_vehicle):\n",
    "        self.name_of_vehicle=name_of_vehicle\n",
    "        self.max_speed=max_speed\n",
    "        self.average_of_vehicle=average_of_vehicle\n",
    "\n",
    "bmw=Vehicle(\"BMW\",300,10)        \n",
    "        \n",
    "    "
   ]
  },
  {
   "cell_type": "markdown",
   "id": "74b50a0c",
   "metadata": {},
   "source": [
    "Q2. Create a child class car from the vehicle class created in Que 1, which will inherit the vehicle class.\n",
    "Create a method named seating_capacity which takes capacity as an argument and returns the name of\n",
    "the vehicle and its seating capacity."
   ]
  },
  {
   "cell_type": "code",
   "execution_count": 6,
   "id": "7d4c5faf",
   "metadata": {},
   "outputs": [
    {
     "data": {
      "text/plain": [
       "(5, 'vitara breeza')"
      ]
     },
     "execution_count": 6,
     "metadata": {},
     "output_type": "execute_result"
    }
   ],
   "source": [
    "class Vitara_Breeza(Vehicle):\n",
    "    \n",
    "    def seating_capacity(self,capacity):\n",
    "        self.capacity=capacity\n",
    "        return self.capacity,self.name_of_vehicle\n",
    "\n",
    "vm=Vitara_Breeza(\"vitara breeza\",180,40)\n",
    "vm.seating_capacity(5)"
   ]
  },
  {
   "cell_type": "markdown",
   "id": "28d2ffb5",
   "metadata": {},
   "source": [
    "Q3. What is multiple inheritance? Write a python code to demonstrate multiple inheritance."
   ]
  },
  {
   "cell_type": "markdown",
   "id": "46346a6d",
   "metadata": {},
   "source": [
    "Multiple Inheritance \n",
    "When a class is derived from more than one base class it is called multiple Inheritance.\n",
    "The derived class inherits all the features of the base case."
   ]
  },
  {
   "cell_type": "code",
   "execution_count": 8,
   "id": "21fd59db",
   "metadata": {},
   "outputs": [
    {
     "name": "stdout",
     "output_type": "stream",
     "text": [
      "In Class1\n"
     ]
    }
   ],
   "source": [
    "class Class1():\n",
    "    def m(self):\n",
    "        print(\"In Class1\")\n",
    "        \n",
    "class Class2():\n",
    "    def m(self):\n",
    "        print(\"In Class2\") \n",
    "        \n",
    "class Class3(Class1, Class2):\n",
    "    pass  \n",
    "     \n",
    "obj = Class3()\n",
    "obj.m()"
   ]
  },
  {
   "cell_type": "markdown",
   "id": "9b76b7fc",
   "metadata": {},
   "source": [
    "Q4. What are getter and setter in python? Create a class and create a getter and a setter method in this\n",
    "class."
   ]
  },
  {
   "cell_type": "markdown",
   "id": "7bca9c67",
   "metadata": {},
   "source": [
    "For the purpose of data encapsulation, most object oriented languages use getters and setters method.\n",
    "This is because we want to hide the attributes of a object class from other classes so that no accidental\n",
    "modification of the data happens by methods in other classes.\n",
    "\n",
    "As the name suggests, getters are the methods which help access the private attributes or get the value of the\n",
    "private attributes and setters are the methods which help change or set the value of private attributes."
   ]
  },
  {
   "cell_type": "code",
   "execution_count": 12,
   "id": "18bf9e45",
   "metadata": {},
   "outputs": [
    {
     "name": "stdout",
     "output_type": "stream",
     "text": [
      "21\n"
     ]
    }
   ],
   "source": [
    "class Geek:\n",
    "    def __init__(self, age = 0):\n",
    "        self._age = age\n",
    "\n",
    "    # getter method\n",
    "    def get_age(self):\n",
    "        return self._age\n",
    "\n",
    "    # setter method\n",
    "    def set_age(self, x):\n",
    "        self._age = x\n",
    "\n",
    "raj = Geek()\n",
    "\n",
    "raj.set_age(21)\n",
    "\n",
    "\n",
    "print(raj.get_age())\n",
    "\n"
   ]
  },
  {
   "cell_type": "markdown",
   "id": "89209295",
   "metadata": {},
   "source": [
    "Q5.What is method overriding in python? Write a python code to demonstrate method overriding."
   ]
  },
  {
   "cell_type": "markdown",
   "id": "52a86a26",
   "metadata": {},
   "source": [
    "Method overriding is an ability of any object-oriented programming language that allows a subclass or child class to\n",
    "provide a specific implementation of a method that is already provided by one of its super-classes or parent classes.\n",
    "When a method in a subclass has the same name, same parameters or signature and same return type(or sub-type) as a\n",
    "method in its super-class, then the method in the subclass is said to override the method in the super-class."
   ]
  },
  {
   "cell_type": "code",
   "execution_count": 2,
   "id": "52651324",
   "metadata": {},
   "outputs": [
    {
     "name": "stdout",
     "output_type": "stream",
     "text": [
      "Inside Child\n"
     ]
    }
   ],
   "source": [
    "\n",
    "class Parent1():\n",
    "\n",
    "\n",
    "    def show(self):\n",
    "        print(\"Inside Parent1\")\n",
    "\n",
    "\n",
    "\n",
    "class Child(Parent1):\n",
    "\n",
    "\n",
    "     def show(self):\n",
    "        print(\"Inside Child\")\n",
    "\n",
    "obj = Child()\n",
    "\n",
    "obj.show()\n"
   ]
  },
  {
   "cell_type": "code",
   "execution_count": null,
   "id": "1f6a254f",
   "metadata": {},
   "outputs": [],
   "source": []
  }
 ],
 "metadata": {
  "kernelspec": {
   "display_name": "Python 3 (ipykernel)",
   "language": "python",
   "name": "python3"
  },
  "language_info": {
   "codemirror_mode": {
    "name": "ipython",
    "version": 3
   },
   "file_extension": ".py",
   "mimetype": "text/x-python",
   "name": "python",
   "nbconvert_exporter": "python",
   "pygments_lexer": "ipython3",
   "version": "3.9.13"
  }
 },
 "nbformat": 4,
 "nbformat_minor": 5
}
