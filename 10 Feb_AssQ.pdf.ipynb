{
 "cells": [
  {
   "cell_type": "markdown",
   "id": "25836749",
   "metadata": {},
   "source": [
    "Q1. Which function is used to open a file? What are the different modes of opening a file? Explain each mode\n",
    "of file opening."
   ]
  },
  {
   "cell_type": "markdown",
   "id": "3142e735",
   "metadata": {},
   "source": [
    "open() is used to open file in python.\n",
    "\n",
    "\n",
    "There are 6 access modes in python.\n",
    "\n",
    "Read Only (‘r’): Open text file for reading. The handle is positioned at the beginning of the file. If the file does not exist,\n",
    "raises an I/O error. This is also the default mode in which the file is opened.\n",
    "\n",
    "Read and Write (‘r+’): Open the file for reading and writing. The handle is positioned at the beginning of the file. Raises\n",
    "I/O error if the file does not exist.\n",
    "\n",
    "Write Only (‘w’): Open the file for writing. For the existing files, the data is truncated and over-written. The handle is\n",
    "positioned at the beginning of the file. Creates the file if the file does not exist.\n",
    "\n",
    "Write and Read (‘w+’): Open the file for reading and writing. For existing files, data is truncated and over-written. The\n",
    "handle is positioned at the beginning of the file.\n",
    "\n",
    "Append Only (‘a’): Open the file for writing. The file is created if it does not exist. The handle is positioned at the end\n",
    "of the file. The data being written will be inserted at the end, after the existing data.\n",
    "\n",
    "Append and Read (‘a+’): Open the file for reading and writing. The file is created if it does not exist. The handle is\n",
    "positioned at the end of the file. The data being written will be inserted at the end, after the existing data.\n",
    "\n",
    "Read Only in Binary format(‘rb’):  It lets the user open the file for reading in binary format.\n",
    "    \n",
    "Read and Write in Binary Format(‘rb+’): It lets the user open the file for reading and writing in binary format.\n",
    "    \n",
    "Write Only in Binary Format(‘wb’): It lets the user open the file for writing in binary format. When a file gets opened\n",
    "in this mode, there are two things that can happen mostly. A new file gets created if the file does not exist. The content\n",
    "within the file will get overwritten if the file exists and has some data stored in it. \n",
    "\n",
    "Write and Read in Binary Format(‘wb+’):  It lets the user open the file for reading as well as writing in binary format.\n",
    "When a file gets opened in this mode, there are two things that can mostly happen. A new file gets created for writing and\n",
    "reading if the file does not exist. The content within the file will get overwritten if the file exists and has some data\n",
    "stored in it. \n",
    "\n",
    "Append only in Binary Format(‘ab’): It lets the user open the file for appending in binary format. A new file gets created\n",
    "if there is no file. The data will be inserted at the end if the file exists and has some data stored in it. \n",
    "Append and Read in Binary Format(‘ab+’): It lets the user open the file for appending and reading in binary format. A new\n",
    "file will be created for reading and appending if the file does not exist. We can read and append if the file exists and\n",
    "has some data stored in it.  "
   ]
  },
  {
   "cell_type": "code",
   "execution_count": null,
   "id": "7c7eaf1a",
   "metadata": {},
   "outputs": [],
   "source": [
    "#1: Opening a file in read mode in Python. \n",
    "file1 = open(\"myfile.txt\")\n",
    "\n",
    "print(file1.read())\n",
    "\n",
    "file1.close()\n"
   ]
  },
  {
   "cell_type": "code",
   "execution_count": null,
   "id": "9e5b0320",
   "metadata": {},
   "outputs": [],
   "source": [
    "#2: Adding data to the existing file in Python \n",
    "file1 = open(\"myfile.txt\" , \"a\" )\n",
    " \n",
    "file1.write(\"\\nWriting to file:)\" )\n",
    "file1.close()"
   ]
  },
  {
   "cell_type": "code",
   "execution_count": null,
   "id": "4fad0ab7",
   "metadata": {},
   "outputs": [],
   "source": [
    "#Open the file \"demofile2.txt\" and append content to the file:\n",
    "f = open(\"demofile2.txt\", \"a\")\n",
    "f.write(\"Now the file has more content!\")\n",
    "f.close()"
   ]
  },
  {
   "cell_type": "markdown",
   "id": "37ca24a3",
   "metadata": {},
   "source": [
    "Q2. Why close() function is used? Why is it important to close a file?"
   ]
  },
  {
   "cell_type": "code",
   "execution_count": null,
   "id": "1d98247e",
   "metadata": {},
   "outputs": [],
   "source": [
    "close function is used to close the open file.\n",
    "\n"
   ]
  },
  {
   "cell_type": "markdown",
   "id": "6c50ad14",
   "metadata": {},
   "source": [
    "Q3. Write a python program to create a text file. Write ‘I want to become a Data Scientist’ in that file. Then\n",
    "close the file. Open this file and read the content of the file."
   ]
  },
  {
   "cell_type": "code",
   "execution_count": 1,
   "id": "385d689a",
   "metadata": {},
   "outputs": [],
   "source": [
    "f=open('text.txt','w')\n",
    "f.write('I want to become a Data Scientist')\n",
    "f.close()"
   ]
  },
  {
   "cell_type": "code",
   "execution_count": 2,
   "id": "d042c300",
   "metadata": {},
   "outputs": [],
   "source": [
    "f1=open('text.txt','r')\n",
    "val=f1.read()\n",
    "f1.close()"
   ]
  },
  {
   "cell_type": "code",
   "execution_count": 3,
   "id": "458c0005",
   "metadata": {},
   "outputs": [
    {
     "data": {
      "text/plain": [
       "'I want to become a Data Scientist'"
      ]
     },
     "execution_count": 3,
     "metadata": {},
     "output_type": "execute_result"
    }
   ],
   "source": [
    "val"
   ]
  },
  {
   "cell_type": "markdown",
   "id": "dd31b4e9",
   "metadata": {},
   "source": [
    "Q4. Explain the following with python code: read(), readline() and readlines()."
   ]
  },
  {
   "cell_type": "markdown",
   "id": "1111c630",
   "metadata": {},
   "source": [
    "read() reads the entire file and returns a string,\n",
    "readline() reads just one line from a file,\n",
    "readlines() returns a list of strings representing the lines of the file."
   ]
  },
  {
   "cell_type": "code",
   "execution_count": 5,
   "id": "8105d1cc",
   "metadata": {},
   "outputs": [],
   "source": [
    "with open(\"text.txt\") as f:\n",
    "    content = f.read()"
   ]
  },
  {
   "cell_type": "code",
   "execution_count": 6,
   "id": "c864a55d",
   "metadata": {},
   "outputs": [
    {
     "data": {
      "text/plain": [
       "'I want to become a Data Scientist'"
      ]
     },
     "execution_count": 6,
     "metadata": {},
     "output_type": "execute_result"
    }
   ],
   "source": [
    "content"
   ]
  },
  {
   "cell_type": "code",
   "execution_count": 7,
   "id": "bf3823c7",
   "metadata": {},
   "outputs": [
    {
     "name": "stdout",
     "output_type": "stream",
     "text": [
      "False\n"
     ]
    }
   ],
   "source": [
    "string = \"word\"\n",
    "in_file = False\n",
    "\n",
    "with open(\"text.txt\",\"r\") as f:\n",
    "    if string in f.read():\n",
    "        in_file = True\n",
    "\n",
    "print(in_file)\n",
    "\n"
   ]
  },
  {
   "cell_type": "code",
   "execution_count": 8,
   "id": "edf638f3",
   "metadata": {},
   "outputs": [],
   "source": [
    "with open(\"text.txt\") as f:\n",
    "    lines = f.readlines()"
   ]
  },
  {
   "cell_type": "code",
   "execution_count": 9,
   "id": "4e6b1693",
   "metadata": {},
   "outputs": [
    {
     "data": {
      "text/plain": [
       "['I want to become a Data Scientist']"
      ]
     },
     "execution_count": 9,
     "metadata": {},
     "output_type": "execute_result"
    }
   ],
   "source": [
    "lines"
   ]
  },
  {
   "cell_type": "code",
   "execution_count": 10,
   "id": "3ebaa565",
   "metadata": {},
   "outputs": [],
   "source": [
    "with open(\"text.txt\") as f:\n",
    "    first_line = f.readline()"
   ]
  },
  {
   "cell_type": "code",
   "execution_count": 11,
   "id": "24563920",
   "metadata": {},
   "outputs": [
    {
     "data": {
      "text/plain": [
       "'I want to become a Data Scientist'"
      ]
     },
     "execution_count": 11,
     "metadata": {},
     "output_type": "execute_result"
    }
   ],
   "source": [
    "first_line"
   ]
  },
  {
   "cell_type": "markdown",
   "id": "b77d3038",
   "metadata": {},
   "source": [
    "Q5. Explain why with statement is used with open(). What is the advantage of using with statement and\n",
    "open() together?"
   ]
  },
  {
   "cell_type": "markdown",
   "id": "50031776",
   "metadata": {},
   "source": [
    "with open ('output.txt', 'w') as f:\n",
    "    f.write ('Hi there!')\n",
    "The above with statement will automatically close the file after the nested block of code.A nd if 'output.txt' is not present in\n",
    "our directory the it will create a file automatically eith given filename.\n",
    "The advantage of using a with statement is that it is guaranteed to close the file no matter how the nested block exits."
   ]
  },
  {
   "cell_type": "markdown",
   "id": "6751bfce",
   "metadata": {},
   "source": [
    "Q6. Explain the write() and writelines() functions. Give a suitable example."
   ]
  },
  {
   "cell_type": "code",
   "execution_count": 13,
   "id": "83aed2e6",
   "metadata": {},
   "outputs": [
    {
     "name": "stdout",
     "output_type": "stream",
     "text": [
      "Enter the name of the employee: sudh\n",
      "Enter the name of the employee: krish\n",
      "Enter the name of the employee: anurag\n",
      "Data is written into the file.\n"
     ]
    }
   ],
   "source": [
    "# write() function\n",
    "# The write() function will write the content in the file without adding any extra characters.\n",
    "\n",
    "file = open(\"Employees.txt\", \"w\")\n",
    "\n",
    "for i in range(3):\n",
    "    name = input(\"Enter the name of the employee: \")\n",
    "    file.write(name)\n",
    "    file.write(\"\\n\")\n",
    "\n",
    "file.close()\n",
    "\n",
    "print(\"Data is written into the file.\")\n",
    "\n",
    "\n"
   ]
  },
  {
   "cell_type": "code",
   "execution_count": 14,
   "id": "eace9b16",
   "metadata": {},
   "outputs": [
    {
     "name": "stdout",
     "output_type": "stream",
     "text": [
      "Enter the name of the employee: sk\n",
      "Enter the name of the employee: pk\n",
      "Enter the name of the employee: dk\n",
      "Data is written into the file.\n"
     ]
    }
   ],
   "source": [
    "# writelines() function\n",
    "# This function writes the content of a list to a file.\n",
    "\n",
    "file1 = open(\"Employees.txt\", \"w\")\n",
    "lst = []\n",
    "for i in range(3):\n",
    "    name = input(\"Enter the name of the employee: \")\n",
    "    lst.append(name + '\\n')\n",
    "\n",
    "file1.writelines(lst)\n",
    "file1.close()\n",
    "print(\"Data is written into the file.\")\n"
   ]
  },
  {
   "cell_type": "markdown",
   "id": "01aa0d87",
   "metadata": {},
   "source": [
    "The only difference between the write() and writelines() is that write() is used to write a string to an already opened file\n",
    "while writelines() method is used to write a list of strings in an opened file."
   ]
  },
  {
   "cell_type": "code",
   "execution_count": null,
   "id": "31f7da83",
   "metadata": {},
   "outputs": [],
   "source": []
  }
 ],
 "metadata": {
  "kernelspec": {
   "display_name": "Python 3 (ipykernel)",
   "language": "python",
   "name": "python3"
  },
  "language_info": {
   "codemirror_mode": {
    "name": "ipython",
    "version": 3
   },
   "file_extension": ".py",
   "mimetype": "text/x-python",
   "name": "python",
   "nbconvert_exporter": "python",
   "pygments_lexer": "ipython3",
   "version": "3.9.13"
  }
 },
 "nbformat": 4,
 "nbformat_minor": 5
}
