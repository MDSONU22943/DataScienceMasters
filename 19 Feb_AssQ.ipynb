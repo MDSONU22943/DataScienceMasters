{
 "cells": [
  {
   "cell_type": "markdown",
   "id": "d2e0d5c1",
   "metadata": {},
   "source": [
    "Q1. What is Flask Framework? What are the advantages of Flask Framework?\n",
    "\n",
    "Flask is a web framework that provides libraries to build lightweight web applications in python. It is developed by \n",
    "Armin Ronacher who leads an international group of python enthusiasts (POCCO). It is based on WSGI toolkit and jinja2 template\n",
    "engine. Flask is considered as a micro framework.\n",
    "\n",
    "Advantages of Python Flask\n",
    "1. It is a lightweight and modular design\n",
    "2. Contains a built-in development server and a fast debugger.\n",
    "3. Provides integrated unit testing support\n",
    "4. RESTful request dispatching.\n",
    "5. Jinja2 Template.\n",
    "6. Provides support for secure cookies."
   ]
  },
  {
   "cell_type": "code",
   "execution_count": null,
   "id": "53cc11d0",
   "metadata": {},
   "outputs": [],
   "source": [
    "Q2. Create a simple Flask application to display ‘Hello World!!’. Attach the screenshot of the output in\n",
    "Jupyter Notebook.\n",
    "\n",
    "\n",
    "from flask import Flask\n",
    "  \n",
    "app = Flask(__name__)\n",
    "\n",
    "@app.route('/')\n",
    "def hello_world():\n",
    "    return \"<h1>Hello World!!</h1>\"\n",
    "\n",
    "if __name__ == '__main__':\n",
    "    app.run(debug=True)"
   ]
  },
  {
   "cell_type": "markdown",
   "id": "20e4cf3e",
   "metadata": {},
   "source": [
    "Q3. What is App routing in Flask? Why do we use app routes?"
   ]
  },
  {
   "cell_type": "markdown",
   "id": "a2bb1ecd",
   "metadata": {},
   "source": [
    "App Routing means mapping the URLs to a specific function that will handle the logic for that URL. Modern web frameworks use\n",
    "more meaningful URLs to help users remember the URLs and make navigation simpler. \n",
    "\n",
    "Example: In our application, the URL (“/”) is associated with the root URL. So if our site’s domain was www.example.org and\n",
    "we want to add routing to “www.example.com/test”, we would use “/hello”. \n",
    "\n",
    "To bind a function to an URL path we use the app.route decorator."
   ]
  },
  {
   "cell_type": "code",
   "execution_count": null,
   "id": "540436f1",
   "metadata": {},
   "outputs": [],
   "source": [
    "Q4. Create a “/welcome” route to display the welcome message “Welcome to ABC Corporation” and a “/”\n",
    "route to show the following details:\n",
    "Company Name: ABC Corporation\n",
    "Location: India\n",
    "Contact Detail: 999-999-9999\n",
    "    \n",
    "\n",
    "from flask import Flask\n",
    "  \n",
    "app = Flask(__name__)\n",
    "\n",
    "@app.route('/')\n",
    "def details():\n",
    "    Company Name=\"ABC Corporation\"\n",
    "    Location=\"India\"\n",
    "    ContactDetail=999-999-9999\n",
    "    return \"The company details is {} {} {}\".format(Company Name,Location,ContactDetail) \n",
    "\n",
    "@app.route('/welcome')\n",
    "def welcome():\n",
    "    return \"<h1>Welcome to my company</h1>\"\n",
    "\n",
    "\n",
    "if __name__ == '__main__':\n",
    "    app.run(debug=True)"
   ]
  },
  {
   "cell_type": "code",
   "execution_count": null,
   "id": "bd549cca",
   "metadata": {},
   "outputs": [],
   "source": [
    "Q5. What function is used in Flask for URL Building? Write a Python code to demonstrate the working of the\n",
    "url_for() function.\n",
    "\n",
    "The url_for() function is used to build a URL.\n",
    "\n",
    "\n",
    "from flask import Flask,redirect,url_for\n",
    "\n",
    "app=Flask(__name__)\n",
    "\n",
    "@app.route('/')\n",
    "def welcome():\n",
    "    return \"welcome to my duniya\"\n",
    "\n",
    "\n",
    "\n",
    "@app.route('/student')\n",
    "def student():\n",
    "    return \"wlcm beta\"\n",
    "\n",
    "@app.route('/faculty')\n",
    "def faculty():\n",
    "    return \"wlcm sir\"\n",
    "\n",
    "@app.route('/user/<name>')\n",
    "def user(name):\n",
    "    if name==student:\n",
    "        return redirect(url_for('student'))\n",
    "    if name==faculty:\n",
    "        return redirect(url_for('faculty'))\n",
    "\n",
    "\n",
    "if __name__ == '__main__':\n",
    "    app.run(debug=True)"
   ]
  }
 ],
 "metadata": {
  "kernelspec": {
   "display_name": "Python 3 (ipykernel)",
   "language": "python",
   "name": "python3"
  },
  "language_info": {
   "codemirror_mode": {
    "name": "ipython",
    "version": 3
   },
   "file_extension": ".py",
   "mimetype": "text/x-python",
   "name": "python",
   "nbconvert_exporter": "python",
   "pygments_lexer": "ipython3",
   "version": "3.9.13"
  }
 },
 "nbformat": 4,
 "nbformat_minor": 5
}
