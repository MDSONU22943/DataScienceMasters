{
 "cells": [
  {
   "cell_type": "markdown",
   "id": "6f6580f2-cf42-4703-a409-5ff2b4ac2e63",
   "metadata": {},
   "source": [
    "Q1. Write a Python function that takes in two arrays of data and calculates the F-value for a variance ratio\n",
    "test. The function should return the F-value and the corresponding p-value for the test."
   ]
  },
  {
   "cell_type": "code",
   "execution_count": 1,
   "id": "be72e1d6-b116-4f34-a805-a86a8086cfae",
   "metadata": {},
   "outputs": [
    {
     "name": "stdout",
     "output_type": "stream",
     "text": [
      "F-value: 2.280, p-value: 0.222\n"
     ]
    }
   ],
   "source": [
    "import numpy as np\n",
    "from scipy import stats\n",
    "\n",
    "def calculate_f_value_and_p_value(data1, data2):\n",
    "    # Calculate the variances of the two datasets\n",
    "    var1 = np.var(data1, ddof=1)\n",
    "    var2 = np.var(data2, ddof=1)\n",
    "    \n",
    "    # Calculate the F-value\n",
    "    f_value = var1 / var2\n",
    "    \n",
    "    # Degrees of freedom\n",
    "    df1 = len(data1) - 1\n",
    "    df2 = len(data2) - 1\n",
    "    \n",
    "    # Calculate the p-value for the F-value\n",
    "    p_value = 1 - stats.f.cdf(f_value, df1, df2)\n",
    "    \n",
    "    return f_value, p_value\n",
    "\n",
    "# Example usage\n",
    "data1 = [23, 21, 18, 24, 20]\n",
    "data2 = [30, 32, 28, 29, 31]\n",
    "f_value, p_value = calculate_f_value_and_p_value(data1, data2)\n",
    "print(f\"F-value: {f_value:.3f}, p-value: {p_value:.3f}\")\n"
   ]
  },
  {
   "cell_type": "markdown",
   "id": "77cb53f4-5dec-437a-af28-a867458899f1",
   "metadata": {},
   "source": [
    "Q2. Given a significance level of 0.05 and the degrees of freedom for the numerator and denominator of an\n",
    "F-distribution, write a Python function that returns the critical F-value for a two-tailed test."
   ]
  },
  {
   "cell_type": "code",
   "execution_count": 2,
   "id": "8b1027d9-ae33-4f3c-815c-9e530075df74",
   "metadata": {},
   "outputs": [
    {
     "name": "stdout",
     "output_type": "stream",
     "text": [
      "Critical F-value: 4.236\n"
     ]
    }
   ],
   "source": [
    "from scipy import stats\n",
    "\n",
    "def critical_f_value(alpha, df1, df2):\n",
    "    \"\"\"\n",
    "    Compute the critical F-value for a two-tailed test given a significance level\n",
    "    and degrees of freedom for the numerator and denominator.\n",
    "\n",
    "    Parameters:\n",
    "    alpha (float): Significance level for the test (e.g., 0.05).\n",
    "    df1 (int): Degrees of freedom for the numerator.\n",
    "    df2 (int): Degrees of freedom for the denominator.\n",
    "\n",
    "    Returns:\n",
    "    float: Critical F-value for the given significance level.\n",
    "    \"\"\"\n",
    "    # For a two-tailed test, the critical value corresponds to the upper tail\n",
    "    # with alpha/2 probability. Hence, the critical value for the two-tailed test is\n",
    "    # the (1 - alpha/2) quantile of the F-distribution.\n",
    "    critical_value = stats.f.ppf(1 - alpha / 2, df1, df2)\n",
    "    return critical_value\n",
    "\n",
    "# Example usage\n",
    "alpha = 0.05\n",
    "df1 = 5  # Degrees of freedom for the numerator\n",
    "df2 = 10 # Degrees of freedom for the denominator\n",
    "critical_value = critical_f_value(alpha, df1, df2)\n",
    "print(f\"Critical F-value: {critical_value:.3f}\")\n"
   ]
  },
  {
   "cell_type": "markdown",
   "id": "5b32912a-84f1-4c8e-8762-d1271fc57ec8",
   "metadata": {},
   "source": [
    "Q3. Write a Python program that generates random samples from two normal distributions with known\n",
    "\n",
    "variances and uses an F-test to determine if the variances are equal. The program should output the F-\n",
    "value, degrees of freedom, and p-value for the test."
   ]
  },
  {
   "cell_type": "code",
   "execution_count": 3,
   "id": "919dbf2e-2d0d-4f0c-ae59-55d999f21265",
   "metadata": {},
   "outputs": [
    {
     "name": "stdout",
     "output_type": "stream",
     "text": [
      "F-value: 0.401\n",
      "Degrees of freedom (df1, df2): (29, 29)\n",
      "P-value: 0.992\n"
     ]
    }
   ],
   "source": [
    "import numpy as np\n",
    "from scipy import stats\n",
    "\n",
    "def generate_samples(mean1, var1, mean2, var2, size1, size2):\n",
    "    \"\"\"\n",
    "    Generate random samples from two normal distributions with given parameters.\n",
    "\n",
    "    Parameters:\n",
    "    mean1 (float): Mean of the first normal distribution.\n",
    "    var1 (float): Variance of the first normal distribution.\n",
    "    mean2 (float): Mean of the second normal distribution.\n",
    "    var2 (float): Variance of the second normal distribution.\n",
    "    size1 (int): Number of samples to generate for the first distribution.\n",
    "    size2 (int): Number of samples to generate for the second distribution.\n",
    "\n",
    "    Returns:\n",
    "    tuple: Two arrays of generated samples.\n",
    "    \"\"\"\n",
    "    samples1 = np.random.normal(loc=mean1, scale=np.sqrt(var1), size=size1)\n",
    "    samples2 = np.random.normal(loc=mean2, scale=np.sqrt(var2), size=size2)\n",
    "    return samples1, samples2\n",
    "\n",
    "def perform_f_test(samples1, samples2):\n",
    "    \"\"\"\n",
    "    Perform an F-test to compare the variances of two samples.\n",
    "\n",
    "    Parameters:\n",
    "    samples1 (array-like): The first sample of data.\n",
    "    samples2 (array-like): The second sample of data.\n",
    "\n",
    "    Returns:\n",
    "    tuple: F-value, degrees of freedom (df1, df2), and p-value of the F-test.\n",
    "    \"\"\"\n",
    "    # Calculate variances of the two samples\n",
    "    var1 = np.var(samples1, ddof=1)\n",
    "    var2 = np.var(samples2, ddof=1)\n",
    "    \n",
    "    # Calculate the F-value\n",
    "    f_value = var1 / var2\n",
    "    \n",
    "    # Degrees of freedom\n",
    "    df1 = len(samples1) - 1\n",
    "    df2 = len(samples2) - 1\n",
    "    \n",
    "    # Calculate the p-value for the F-value\n",
    "    p_value = 1 - stats.f.cdf(f_value, df1, df2)\n",
    "    \n",
    "    return f_value, df1, df2, p_value\n",
    "\n",
    "# Parameters for generating random samples\n",
    "mean1 = 0\n",
    "var1 = 1\n",
    "mean2 = 0\n",
    "var2 = 2\n",
    "size1 = 30\n",
    "size2 = 30\n",
    "\n",
    "# Generate samples\n",
    "samples1, samples2 = generate_samples(mean1, var1, mean2, var2, size1, size2)\n",
    "\n",
    "# Perform F-test\n",
    "f_value, df1, df2, p_value = perform_f_test(samples1, samples2)\n",
    "\n",
    "# Output results\n",
    "print(f\"F-value: {f_value:.3f}\")\n",
    "print(f\"Degrees of freedom (df1, df2): ({df1}, {df2})\")\n",
    "print(f\"P-value: {p_value:.3f}\")\n"
   ]
  },
  {
   "cell_type": "markdown",
   "id": "479a58bb-36e0-461e-af27-f75a0e0e813d",
   "metadata": {},
   "source": [
    "Q4.The variances of two populations are known to be 10 and 15. A sample of 12 observations is taken from\n",
    "each population. Conduct an F-test at the 5% significance level to determine if the variances are\n",
    "significantly different."
   ]
  },
  {
   "cell_type": "code",
   "execution_count": 4,
   "id": "59e8620c-b44b-4a49-a991-c2a06d1ca664",
   "metadata": {},
   "outputs": [
    {
     "name": "stdout",
     "output_type": "stream",
     "text": [
      "F-value: 0.667\n",
      "Critical F-value: 2.818\n",
      "P-value: 0.744\n",
      "Fail to reject the null hypothesis: The variances are not significantly different.\n"
     ]
    }
   ],
   "source": [
    "from scipy import stats\n",
    "\n",
    "def perform_f_test_known_variances(var1, var2, size1, size2, alpha):\n",
    "    \"\"\"\n",
    "    Perform an F-test to compare the variances of two populations with known variances.\n",
    "\n",
    "    Parameters:\n",
    "    var1 (float): Variance of the first population.\n",
    "    var2 (float): Variance of the second population.\n",
    "    size1 (int): Sample size from the first population.\n",
    "    size2 (int): Sample size from the second population.\n",
    "    alpha (float): Significance level for the test.\n",
    "\n",
    "    Returns:\n",
    "    tuple: F-value, critical F-value, and p-value of the F-test.\n",
    "    \"\"\"\n",
    "    # Calculate the F-value\n",
    "    f_value = var1 / var2\n",
    "    \n",
    "    # Degrees of freedom\n",
    "    df1 = size1 - 1\n",
    "    df2 = size2 - 1\n",
    "    \n",
    "    # Critical F-value for the given alpha level\n",
    "    critical_value = stats.f.ppf(1 - alpha, df1, df2)\n",
    "    \n",
    "    # Calculate the p-value for the F-value\n",
    "    p_value = 1 - stats.f.cdf(f_value, df1, df2)\n",
    "    \n",
    "    return f_value, critical_value, p_value\n",
    "\n",
    "# Known variances and sample sizes\n",
    "var1 = 10\n",
    "var2 = 15\n",
    "size1 = 12\n",
    "size2 = 12\n",
    "alpha = 0.05\n",
    "\n",
    "# Perform the F-test\n",
    "f_value, critical_value, p_value = perform_f_test_known_variances(var1, var2, size1, size2, alpha)\n",
    "\n",
    "# Output results\n",
    "print(f\"F-value: {f_value:.3f}\")\n",
    "print(f\"Critical F-value: {critical_value:.3f}\")\n",
    "print(f\"P-value: {p_value:.3f}\")\n",
    "\n",
    "# Decision\n",
    "if f_value > critical_value:\n",
    "    print(\"Reject the null hypothesis: The variances are significantly different.\")\n",
    "else:\n",
    "    print(\"Fail to reject the null hypothesis: The variances are not significantly different.\")\n"
   ]
  },
  {
   "cell_type": "markdown",
   "id": "e4bb4187-bba9-40c8-b4bf-843c4b822360",
   "metadata": {},
   "source": [
    "Q5. A manufacturer claims that the variance of the diameter of a certain product is 0.005. A sample of 25\n",
    "products is taken, and the sample variance is found to be 0.006. Conduct an F-test at the 1% significance\n",
    "level to determine if the claim is justified."
   ]
  },
  {
   "cell_type": "code",
   "execution_count": 5,
   "id": "a436a0a9-60e6-470d-a8b2-c5149a81bcaa",
   "metadata": {},
   "outputs": [
    {
     "name": "stdout",
     "output_type": "stream",
     "text": [
      "F-value: 1.200\n",
      "Critical F-values: Lower = 0.337, Upper = 2.967\n",
      "P-value: 0.659\n",
      "Fail to reject the null hypothesis: The variance is not significantly different from the claimed variance.\n"
     ]
    }
   ],
   "source": [
    "from scipy import stats\n",
    "\n",
    "def perform_f_test_claimed_variance(sample_var, claimed_var, sample_size, alpha):\n",
    "    \"\"\"\n",
    "    Perform an F-test to compare a sample variance with a claimed variance.\n",
    "\n",
    "    Parameters:\n",
    "    sample_var (float): Sample variance.\n",
    "    claimed_var (float): Claimed population variance.\n",
    "    sample_size (int): Sample size.\n",
    "    alpha (float): Significance level for the test.\n",
    "\n",
    "    Returns:\n",
    "    tuple: F-value, critical F-values (lower and upper), and p-value of the F-test.\n",
    "    \"\"\"\n",
    "    # Calculate the F-value\n",
    "    f_value = sample_var / claimed_var\n",
    "    \n",
    "    # Degrees of freedom\n",
    "    df1 = sample_size - 1\n",
    "    df2 = df1  # The denominator degrees of freedom for the F-distribution is df1 in a one-sample test\n",
    "    \n",
    "    # Critical F-values for the given alpha level (two-tailed test)\n",
    "    critical_value_upper = stats.f.ppf(1 - alpha / 2, df1, df2)\n",
    "    critical_value_lower = stats.f.ppf(alpha / 2, df1, df2)\n",
    "    \n",
    "    # Calculate the p-value for the F-value\n",
    "    p_value = 2 * min(stats.f.cdf(f_value, df1, df2), 1 - stats.f.cdf(f_value, df1, df2))\n",
    "    \n",
    "    return f_value, critical_value_lower, critical_value_upper, p_value\n",
    "\n",
    "# Parameters\n",
    "claimed_var = 0.005\n",
    "sample_var = 0.006\n",
    "sample_size = 25\n",
    "alpha = 0.01\n",
    "\n",
    "# Perform the F-test\n",
    "f_value, critical_value_lower, critical_value_upper, p_value = perform_f_test_claimed_variance(sample_var, claimed_var, sample_size, alpha)\n",
    "\n",
    "# Output results\n",
    "print(f\"F-value: {f_value:.3f}\")\n",
    "print(f\"Critical F-values: Lower = {critical_value_lower:.3f}, Upper = {critical_value_upper:.3f}\")\n",
    "print(f\"P-value: {p_value:.3f}\")\n",
    "\n",
    "# Decision\n",
    "if f_value < critical_value_lower or f_value > critical_value_upper:\n",
    "    print(\"Reject the null hypothesis: The variance is significantly different from the claimed variance.\")\n",
    "else:\n",
    "    print(\"Fail to reject the null hypothesis: The variance is not significantly different from the claimed variance.\")\n"
   ]
  },
  {
   "cell_type": "markdown",
   "id": "9b834e56-e15f-49a4-857a-9aa0a33234d5",
   "metadata": {},
   "source": [
    "Q6. Write a Python function that takes in the degrees of freedom for the numerator and denominator of an\n",
    "F-distribution and calculates the mean and variance of the distribution. The function should return the\n",
    "mean and variance as a tuple."
   ]
  },
  {
   "cell_type": "code",
   "execution_count": 6,
   "id": "e233800d-8ab9-4465-9403-e90a9a61cf6c",
   "metadata": {},
   "outputs": [
    {
     "name": "stdout",
     "output_type": "stream",
     "text": [
      "Mean: 1.25, Variance: 1.3541666666666667\n"
     ]
    }
   ],
   "source": [
    "def f_distribution_mean_variance(d1, d2):\n",
    "    \"\"\"\n",
    "    Calculate the mean and variance of an F-distribution.\n",
    "\n",
    "    Parameters:\n",
    "    d1 (int): Degrees of freedom for the numerator.\n",
    "    d2 (int): Degrees of freedom for the denominator.\n",
    "\n",
    "    Returns:\n",
    "    tuple: A tuple containing the mean and variance of the F-distribution.\n",
    "    \"\"\"\n",
    "    if d2 <= 2:\n",
    "        raise ValueError(\"Degrees of freedom for the denominator must be greater than 2 to calculate mean.\")\n",
    "    \n",
    "    mean = d2 / (d2 - 2)\n",
    "    \n",
    "    if d2 <= 4:\n",
    "        raise ValueError(\"Degrees of freedom for the denominator must be greater than 4 to calculate variance.\")\n",
    "    \n",
    "    variance = (2 * d2**2 * (d2 + d1 - 2)) / (d1 * (d2 - 2)**2 * (d2 - 4))\n",
    "    \n",
    "    return (mean, variance)\n",
    "\n",
    "# Example usage\n",
    "d1 = 5\n",
    "d2 = 10\n",
    "mean, variance = f_distribution_mean_variance(d1, d2)\n",
    "print(f\"Mean: {mean}, Variance: {variance}\")\n"
   ]
  },
  {
   "cell_type": "markdown",
   "id": "0e093593-5559-4d57-883c-f9b2f55bbe38",
   "metadata": {},
   "source": [
    "Q7. A random sample of 10 measurements is taken from a normal population with unknown variance. The\n",
    "sample variance is found to be 25. Another random sample of 15 measurements is taken from another\n",
    "normal population with unknown variance, and the sample variance is found to be 20. Conduct an F-test\n",
    "at the 10% significance level to determine if the variances are significantly different."
   ]
  },
  {
   "cell_type": "code",
   "execution_count": 7,
   "id": "f81b4297-447b-42b8-9be8-4a5a10da96a4",
   "metadata": {},
   "outputs": [
    {
     "name": "stdout",
     "output_type": "stream",
     "text": [
      "F-statistic: 1.25\n",
      "Critical value (two-tailed, alpha = 0.1): 2.6457907352338195\n",
      "Do not reject the null hypothesis: variances are not significantly different.\n"
     ]
    }
   ],
   "source": [
    "from scipy.stats import f\n",
    "\n",
    "# Given values\n",
    "s1_squared = 25\n",
    "s2_squared = 20\n",
    "n1 = 10\n",
    "n2 = 15\n",
    "alpha = 0.10\n",
    "\n",
    "# Degrees of freedom\n",
    "df1 = n1 - 1\n",
    "df2 = n2 - 1\n",
    "\n",
    "# F-statistic\n",
    "F = s1_squared / s2_squared\n",
    "\n",
    "# Critical value for two-tailed test\n",
    "F_critical = f.ppf(1 - alpha / 2, df1, df2)\n",
    "\n",
    "# Decision\n",
    "print(f\"F-statistic: {F}\")\n",
    "print(f\"Critical value (two-tailed, alpha = {alpha}): {F_critical}\")\n",
    "\n",
    "if F > F_critical:\n",
    "    print(\"Reject the null hypothesis: variances are significantly different.\")\n",
    "else:\n",
    "    print(\"Do not reject the null hypothesis: variances are not significantly different.\")\n"
   ]
  },
  {
   "cell_type": "markdown",
   "id": "313e3db2-7542-47ad-bcfd-3e465c33c205",
   "metadata": {},
   "source": [
    "Q8. The following data represent the waiting times in minutes at two different restaurants on a Saturday\n",
    "night: Restaurant A: 24, 25, 28, 23, 22, 20, 27; Restaurant B: 31, 33, 35, 30, 32, 36. Conduct an F-test at the 5%\n",
    "significance level to determine if the variances are significantly different."
   ]
  },
  {
   "cell_type": "code",
   "execution_count": 8,
   "id": "5357295a-139d-4a63-8b18-21e14d2b9d3d",
   "metadata": {},
   "outputs": [
    {
     "name": "stdout",
     "output_type": "stream",
     "text": [
      "Sample Variance A: 7.80952380952381\n",
      "Sample Variance B: 5.366666666666667\n",
      "F-statistic: 1.4551907719609583\n",
      "Critical value (alpha = 0.05): 6.977701858535566\n",
      "Do not reject the null hypothesis: variances are not significantly different.\n"
     ]
    }
   ],
   "source": [
    "import numpy as np\n",
    "from scipy.stats import f\n",
    "\n",
    "# Data\n",
    "data_A = np.array([24, 25, 28, 23, 22, 20, 27])\n",
    "data_B = np.array([31, 33, 35, 30, 32, 36])\n",
    "\n",
    "# Sample variances\n",
    "var_A = np.var(data_A, ddof=1)  # ddof=1 for sample variance\n",
    "var_B = np.var(data_B, ddof=1)\n",
    "\n",
    "# Sample sizes\n",
    "n_A = len(data_A)\n",
    "n_B = len(data_B)\n",
    "\n",
    "# Degrees of freedom\n",
    "df_A = n_A - 1\n",
    "df_B = n_B - 1\n",
    "\n",
    "# F-statistic\n",
    "F = var_A / var_B if var_A > var_B else var_B / var_A\n",
    "\n",
    "# Critical value for F-distribution\n",
    "alpha = 0.05\n",
    "F_critical = f.ppf(1 - alpha / 2, df_A, df_B)\n",
    "\n",
    "# Decision\n",
    "print(f\"Sample Variance A: {var_A}\")\n",
    "print(f\"Sample Variance B: {var_B}\")\n",
    "print(f\"F-statistic: {F}\")\n",
    "print(f\"Critical value (alpha = {alpha}): {F_critical}\")\n",
    "\n",
    "if F > F_critical:\n",
    "    print(\"Reject the null hypothesis: variances are significantly different.\")\n",
    "else:\n",
    "    print(\"Do not reject the null hypothesis: variances are not significantly different.\")\n"
   ]
  },
  {
   "cell_type": "markdown",
   "id": "77593531-f676-4c76-89b6-07b90e9010bc",
   "metadata": {},
   "source": [
    "Q9. The following data represent the test scores of two groups of students: Group A: 80, 85, 90, 92, 87, 83;\n",
    "Group B: 75, 78, 82, 79, 81, 84. Conduct an F-test at the 1% significance level to determine if the variances\n",
    "are significantly different."
   ]
  },
  {
   "cell_type": "code",
   "execution_count": 9,
   "id": "c7b5c297-f3cf-4f5e-b5c7-8e6d43dffa6c",
   "metadata": {},
   "outputs": [
    {
     "name": "stdout",
     "output_type": "stream",
     "text": [
      "Sample Variance A: 19.76666666666667\n",
      "Sample Variance B: 10.166666666666666\n",
      "F-statistic: 1.9442622950819677\n",
      "Critical value (alpha = 0.01): 14.939605459912219\n",
      "Do not reject the null hypothesis: variances are not significantly different.\n"
     ]
    }
   ],
   "source": [
    "import numpy as np\n",
    "from scipy.stats import f\n",
    "\n",
    "# Data\n",
    "data_A = np.array([80, 85, 90, 92, 87, 83])\n",
    "data_B = np.array([75, 78, 82, 79, 81, 84])\n",
    "\n",
    "# Sample variances\n",
    "var_A = np.var(data_A, ddof=1)  # ddof=1 for sample variance\n",
    "var_B = np.var(data_B, ddof=1)\n",
    "\n",
    "# Sample sizes\n",
    "n_A = len(data_A)\n",
    "n_B = len(data_B)\n",
    "\n",
    "# Degrees of freedom\n",
    "df_A = n_A - 1\n",
    "df_B = n_B - 1\n",
    "\n",
    "# F-statistic\n",
    "F = var_A / var_B if var_A > var_B else var_B / var_A\n",
    "\n",
    "# Critical value for F-distribution at 1% significance level\n",
    "alpha = 0.01\n",
    "F_critical = f.ppf(1 - alpha / 2, df_A, df_B)\n",
    "\n",
    "# Decision\n",
    "print(f\"Sample Variance A: {var_A}\")\n",
    "print(f\"Sample Variance B: {var_B}\")\n",
    "print(f\"F-statistic: {F}\")\n",
    "print(f\"Critical value (alpha = {alpha}): {F_critical}\")\n",
    "\n",
    "if F > F_critical:\n",
    "    print(\"Reject the null hypothesis: variances are significantly different.\")\n",
    "else:\n",
    "    print(\"Do not reject the null hypothesis: variances are not significantly different.\")\n"
   ]
  },
  {
   "cell_type": "code",
   "execution_count": null,
   "id": "16d4ad6d-c80b-46fe-8e0a-2eb88dd39fb4",
   "metadata": {},
   "outputs": [],
   "source": []
  }
 ],
 "metadata": {
  "kernelspec": {
   "display_name": "Python 3 (ipykernel)",
   "language": "python",
   "name": "python3"
  },
  "language_info": {
   "codemirror_mode": {
    "name": "ipython",
    "version": 3
   },
   "file_extension": ".py",
   "mimetype": "text/x-python",
   "name": "python",
   "nbconvert_exporter": "python",
   "pygments_lexer": "ipython3",
   "version": "3.12.3"
  }
 },
 "nbformat": 4,
 "nbformat_minor": 5
}
