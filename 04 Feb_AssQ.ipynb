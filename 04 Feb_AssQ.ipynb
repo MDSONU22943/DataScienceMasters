{
 "cells": [
  {
   "cell_type": "markdown",
   "id": "660edc48",
   "metadata": {},
   "source": [
    "1.create a python program to sort the given list of tuples based on integer value using a lambda function."
   ]
  },
  {
   "cell_type": "code",
   "execution_count": 29,
   "id": "5c760830",
   "metadata": {},
   "outputs": [
    {
     "name": "stdout",
     "output_type": "stream",
     "text": [
      "[('Virat Kohli', 24936), ('Jack Kallis', 25534), ('Ricky Ponting', 27483), ('Sachin Tendulkar', 34357)]\n"
     ]
    }
   ],
   "source": [
    "l=[('Sachin Tendulkar', 34357), ('Ricky Ponting', 27483), ('Jack Kallis', 25534), ('Virat Kohli', 24936)]\n",
    "l.sort(key=lambda x:x[1])\n",
    "print(l)\n",
    "\n"
   ]
  },
  {
   "cell_type": "markdown",
   "id": "7052d47c",
   "metadata": {},
   "source": [
    "2.write a python program to find the square of all the numbers in the given list of integers using lambda and map function"
   ]
  },
  {
   "cell_type": "code",
   "execution_count": 2,
   "id": "4502f880",
   "metadata": {},
   "outputs": [
    {
     "data": {
      "text/plain": [
       "[1, 4, 9, 16, 25, 36, 49, 64, 81, 100]"
      ]
     },
     "execution_count": 2,
     "metadata": {},
     "output_type": "execute_result"
    }
   ],
   "source": [
    "l=[1,2,3,4,5,6,7,8,9,10]\n",
    "list(map(lambda x:x**2,l))"
   ]
  },
  {
   "cell_type": "markdown",
   "id": "af36b412",
   "metadata": {},
   "source": [
    "3.write a python program to convert the given list of integers into a tuple of strings.use map and lambda function"
   ]
  },
  {
   "cell_type": "code",
   "execution_count": 6,
   "id": "e8acbfdf",
   "metadata": {},
   "outputs": [
    {
     "data": {
      "text/plain": [
       "('1', '2', '3', '4', '5', '6', '7', '8', '9', '10')"
      ]
     },
     "execution_count": 6,
     "metadata": {},
     "output_type": "execute_result"
    }
   ],
   "source": [
    "l=[1,2,3,4,5,6,7,8,9,10]\n",
    "tuple(map(lambda x:str(x),l))"
   ]
  },
  {
   "cell_type": "markdown",
   "id": "fb6c1265",
   "metadata": {},
   "source": [
    "4.write a python program using reduce function to compute the product of a list containing numbers from 1 tp 25."
   ]
  },
  {
   "cell_type": "code",
   "execution_count": 12,
   "id": "7fda96b9",
   "metadata": {},
   "outputs": [
    {
     "data": {
      "text/plain": [
       "15511210043330985984000000"
      ]
     },
     "execution_count": 12,
     "metadata": {},
     "output_type": "execute_result"
    }
   ],
   "source": [
    "from functools import reduce\n",
    "l=list(range(1,26))\n",
    "reduce(lambda x,y:x*y,l)"
   ]
  },
  {
   "cell_type": "markdown",
   "id": "e5bb4fdd",
   "metadata": {},
   "source": [
    "5.write a python program to filter the givem number in a list that are divisible by 2 and 3 using filter function"
   ]
  },
  {
   "cell_type": "code",
   "execution_count": 17,
   "id": "11ee3b62",
   "metadata": {},
   "outputs": [
    {
     "data": {
      "text/plain": [
       "[6, 60, 90, 120]"
      ]
     },
     "execution_count": 17,
     "metadata": {},
     "output_type": "execute_result"
    }
   ],
   "source": [
    "l=[2,3,6,9,27,60,90,120,55,46]\n",
    "list(filter(lambda x:x%2==0 and x%3==0,l))"
   ]
  },
  {
   "cell_type": "markdown",
   "id": "1689755c",
   "metadata": {},
   "source": [
    "6.write a python program to find the palindrome in the given list of string using lambda and filter function"
   ]
  },
  {
   "cell_type": "code",
   "execution_count": 26,
   "id": "56b06e43",
   "metadata": {},
   "outputs": [
    {
     "data": {
      "text/plain": [
       "['php', 'aba', 'radar', 'level']"
      ]
     },
     "execution_count": 26,
     "metadata": {},
     "output_type": "execute_result"
    }
   ],
   "source": [
    "l=[\"python\", \"php\",\"aba\",\"radar\",\"level\"]\n",
    "list(filter(lambda x:(x==\"\".join(reversed(x))),l))"
   ]
  },
  {
   "cell_type": "code",
   "execution_count": null,
   "id": "7187cbaf",
   "metadata": {},
   "outputs": [],
   "source": []
  }
 ],
 "metadata": {
  "kernelspec": {
   "display_name": "Python 3 (ipykernel)",
   "language": "python",
   "name": "python3"
  },
  "language_info": {
   "codemirror_mode": {
    "name": "ipython",
    "version": 3
   },
   "file_extension": ".py",
   "mimetype": "text/x-python",
   "name": "python",
   "nbconvert_exporter": "python",
   "pygments_lexer": "ipython3",
   "version": "3.9.13"
  }
 },
 "nbformat": 4,
 "nbformat_minor": 5
}
