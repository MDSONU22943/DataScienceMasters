{
 "cells": [
  {
   "cell_type": "markdown",
   "id": "69fb912c",
   "metadata": {},
   "source": [
    "Q1. What is an API? Give an example, where an API is used in real life.\n",
    "\n",
    "Application Programming Interface (API) is a software interface that allows two applications to interact with each other\n",
    "without any user intervention. API is a collection of software functions and procedures. In simple terms, API means a\n",
    "software code that can be accessed or executed. API is defined as a code that helps two different software’s to communicate\n",
    "and exchange data with each other.\n",
    "It offers products or services to communicate with other products and services without having to know how they’re implemented.\n",
    "\n",
    "Example: Travel Booking,Log-in using xyz etc."
   ]
  },
  {
   "cell_type": "markdown",
   "id": "4991a739",
   "metadata": {},
   "source": [
    "Q2. Give advantages and disadvantages of using API.\n",
    "\n",
    "Advantages of APIs \n",
    "\n",
    "Efficiency: API produces efficient, quicker, and more reliable results than the outputs produced by human beings in an\n",
    "organization.\n",
    "\n",
    "Flexible delivery of services: API provides fast and flexible delivery of services according to developers’ requirements.\n",
    "    \n",
    "Integration: The best feature of API is that it allows the movement of data between various sites and thus enhances the\n",
    "integrated user experience.\n",
    "\n",
    "Automation: As API makes use of robotic computers rather than humans, it produces better and more automated results.\n",
    "    \n",
    "New functionality: While using API the developers find new tools and functionality for API exchanges.\n",
    "    \n",
    "Disadvantages of APIs \n",
    "\n",
    "Cost: Developing and implementing API is costly at times and requires high maintenance and support from developers.\n",
    "    \n",
    "Security issues: Using API adds another layer of surface which is then prone to attacks, and hence the security risk\n",
    "problem is common in APIs."
   ]
  },
  {
   "cell_type": "markdown",
   "id": "0f2b89dd",
   "metadata": {},
   "source": [
    "Q3. What is a Web API? Differentiate between API and Web API.\n",
    "\n",
    "A Web API also called Web Services is an extensively used API over the web and can be easily accessed using the HTTP protocols.\n",
    "A Web API is an open-source interface and can be used by a large number of clients through their phones, tablets, or PCs. \n",
    "\n",
    "Web service is a collection of open source protocols and standards used for exchanging data between systems or applications,\n",
    "whereas API is a software interface that allows two applications to interact with each other without any user involvement.\n",
    "\n",
    "Web service is used for REST, SOAP, and XML-RPC for communication, while API is used for any style of communication.\n",
    "\n",
    "Web service supports only HTTP protocol, whereas API supports HTTP/HTTPS protocol.\n",
    "\n",
    "Web service supports XML, while API supports XML and JSON.\n",
    "\n",
    "All Web services are APIs, but all APIs are not web services.\n"
   ]
  },
  {
   "cell_type": "markdown",
   "id": "d4537282",
   "metadata": {},
   "source": [
    "Q4. Explain REST and SOAP Architecture. Mention shortcomings of SOAP.\n",
    "\n",
    "SOAP stands for Simple Object Access Protocol is a network platform used in a web service to exchange or communicate data\n",
    "between two different machines on a network. It uses the XML format of data to transfer messages over the HTTP protocol.\n",
    "In Web services, SOAP allows the user request to interact with other programming languages. In this way, it provides a way\n",
    "to communicate between applications running on different platforms (Operating system), with programming languages and \n",
    "technologies used in web service.\n",
    "\n",
    "\n",
    "REST stands for REpresentational State Transfer. It is an architectural style that provides standards between computer systems\n",
    "on a web service. It is a set of constraints used to create a lightweight, scalable, and maintainable web service that \n",
    "facilitates easy communication. It is a set of constraints used to create a lightweight, scalable and maintainable web service\n",
    "that makes easy communication with each other. All web services are based on the REST; hence it is called a RESTful service.\n",
    "The purpose of developing a RESTful web service is to make the web service more effective. The Roy Fielding develops it in 2000,\n",
    "who also developed the HTTP protocol. It does not depend on a specific protocol to use, but it's used HTTP/HTTPS."
   ]
  },
  {
   "cell_type": "code",
   "execution_count": null,
   "id": "680ac927",
   "metadata": {},
   "outputs": [],
   "source": [
    "Q5. Differentiate between REST and SOAP.\n",
    "\n",
    "SOAP is a protocol.\tREST is an architectural style.\n",
    "\n",
    "SOAP stands for Simple Object Access Protocol.\tREST stands for REpresentational State Transfer.\n",
    "\n",
    "SOAP can't use REST because it is a protocol.\tREST can use SOAP web services because it is a concept and can use any protocol\n",
    "like HTTP, SOAP.\n",
    "\n",
    "SOAP defines standards to be strictly followed.\tREST does not define too much standards like SOAP.\n",
    "\n",
    "\n",
    "SOAP requires more bandwidth and resource than REST.REST requires less bandwidth and resource than SOAP.\n",
    "\n",
    "SOAP defines its own security.\tRESTful web services inherits security measures from the underlying transport."
   ]
  }
 ],
 "metadata": {
  "kernelspec": {
   "display_name": "Python 3 (ipykernel)",
   "language": "python",
   "name": "python3"
  },
  "language_info": {
   "codemirror_mode": {
    "name": "ipython",
    "version": 3
   },
   "file_extension": ".py",
   "mimetype": "text/x-python",
   "name": "python",
   "nbconvert_exporter": "python",
   "pygments_lexer": "ipython3",
   "version": "3.9.13"
  }
 },
 "nbformat": 4,
 "nbformat_minor": 5
}
