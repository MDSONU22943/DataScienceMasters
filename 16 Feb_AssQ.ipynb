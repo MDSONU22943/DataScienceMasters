{
 "cells": [
  {
   "cell_type": "markdown",
   "id": "31585cc6",
   "metadata": {},
   "source": [
    "Q1. What is a database? Differentiate between SQL and NoSQL databases."
   ]
  },
  {
   "cell_type": "markdown",
   "id": "3a1fe2d1",
   "metadata": {},
   "source": [
    "Database is an organized collection od data,so that it can be easily accessed and managed.\n",
    "The main purpose of database is to operate a large amount of information by storing ,retrieving,and managing data."
   ]
  },
  {
   "cell_type": "markdown",
   "id": "3951b9bd",
   "metadata": {},
   "source": [
    "SQL:\n",
    "    1.SQL is a relational database.i.e RDBMS\n",
    "    2.SQL databses have fixed or predefined schema.\n",
    "    3.SQL databases display data in form of tables.\n",
    "    4.SQL is used 'structured Query Language' to define and manipulate the data.\n",
    "    5.SQL database is best suited for complex queries.\n",
    "    6.Ex:Oracle,MYSQL,PostgreSQL etc.\n",
    "\n",
    "NOSQL:\n",
    "    1.NoSQl database are non-relational database.\n",
    "    2.NoSQL database have dynamic scchema.\n",
    "    3.NoSQL database dispaly data as collection of key-value pair.documents etc.\n",
    "    4.NoSQL databases is not so good for complex queries.\n",
    "    5.Ex: MongoDb,Cassandra etc."
   ]
  },
  {
   "cell_type": "markdown",
   "id": "3c9a2d1b",
   "metadata": {},
   "source": [
    "Q2. What is DDL? Explain why CREATE, DROP, ALTER, and TRUNCATE are used with an example.\n",
    "\n",
    "DDL stands for 'Data Definition language',DDL command is used to create or modify the table.\n",
    "\n",
    "CREATE:\n",
    "    This command is to create a new table in SQL.\n",
    "    syntax:\n",
    "        create table table_name(\n",
    "        column_1 datatype,\n",
    "            ...\n",
    "        );\n",
    "\n",
    "DROP:\n",
    "    This command is to remove existing table along with its structure from the database.\n",
    "    syntax:\n",
    "        drop table table_name;\n",
    "        \n",
    "ALTER:        \n",
    "     This command is used to add,delete or change columns in the existing table.the user should the name of existing table name.\n",
    "     syntax:\n",
    "        alter table table_name\n",
    "        add column_name datatype\n",
    "\n",
    "TRUNCATE:\n",
    "    This command is used to remove all rows from the table ,but the structure of the table still exist.\n",
    "    syntax:\n",
    "        truncate table table_name;"
   ]
  },
  {
   "cell_type": "markdown",
   "id": "1984f757",
   "metadata": {},
   "source": [
    "Q3. What is DML? Explain INSERT, UPDATE, and DELETE with an example."
   ]
  },
  {
   "cell_type": "markdown",
   "id": "e37e280b",
   "metadata": {},
   "source": [
    "DML is stands for 'Data Manipulation Language'.DML command is used to change the data present in sql database.\n",
    "we can easily access,store,modify,update,and delete the existing record from the database using DML command.\n",
    "\n",
    "\n",
    "INSERT:\n",
    "    INSERT command is uset to insert the data in the existing table.\n",
    "    Example:\n",
    "        insert into student(stu_id,stu_name) values(001,\"bhanu\");\n",
    "\n",
    "UPDATE:\n",
    "    update command is used to update existing data within a table.\n",
    "    Example:\n",
    "        update student set stu_name=\"ram\" where stu_id=001;\n",
    "        \n",
    "DELETE:\n",
    "    delete command is used to delete records from a database table.\n",
    "    Example:\n",
    "        delete from student where stu_id=001;"
   ]
  },
  {
   "cell_type": "markdown",
   "id": "3ae8ef3b",
   "metadata": {},
   "source": [
    "Q4. What is DQL? Explain SELECT with an example.\n",
    "\n",
    "DQL stands for 'Data Query Language'.This command allows getting the data out from the database to perform operation\n",
    "Example:\n",
    "    select emp_name from employee where age>20;"
   ]
  },
  {
   "cell_type": "markdown",
   "id": "41395b89",
   "metadata": {},
   "source": [
    "Q5. Explain Primary Key and Foreign Key.\n",
    "\n",
    "Primary key:A Primary is unique key in table that ensure data in the specific column is unique.This column cannot have NULL\n",
    "values.\n",
    "\n",
    "Foreign Key: A foreign key is a column or group of column in a relational database table that provides a link between data in\n",
    "    two tables."
   ]
  },
  {
   "cell_type": "code",
   "execution_count": null,
   "id": "63830729",
   "metadata": {},
   "outputs": [],
   "source": [
    "Q6. Write a python code to connect MySQL to python. Explain the cursor() and execute() method.\n",
    "\n",
    "import musql.connector\n",
    "mydb=mysql.connector.connect(\n",
    "      host-'localhost',\n",
    "      user='abc',\n",
    "      password='password')\n",
    "\n",
    "print(mydb)\n",
    "\n",
    "cursor-mydb.cursor()\n",
    "\n",
    "cursor.execute(\"show databses\")\n",
    "\n",
    "for i in cursor:\n",
    "    print(i)"
   ]
  },
  {
   "cell_type": "markdown",
   "id": "6994b63d",
   "metadata": {},
   "source": [
    "cursor()->cursor() method is used to execute statement to communicate with the MySql database.\n",
    "execute()-> this method accepts a mysql query as a parameter and executes the given query."
   ]
  },
  {
   "cell_type": "code",
   "execution_count": 4,
   "id": "fc14b2c5",
   "metadata": {},
   "outputs": [
    {
     "ename": "SyntaxError",
     "evalue": "invalid syntax (1877909820.py, line 1)",
     "output_type": "error",
     "traceback": [
      "\u001b[1;36m  File \u001b[1;32m\"C:\\Users\\MD SONU\\AppData\\Local\\Temp\\ipykernel_7692\\1877909820.py\"\u001b[1;36m, line \u001b[1;32m1\u001b[0m\n\u001b[1;33m    Q7. Give the order of execution of SQL clauses in an SQL query.\u001b[0m\n\u001b[1;37m             ^\u001b[0m\n\u001b[1;31mSyntaxError\u001b[0m\u001b[1;31m:\u001b[0m invalid syntax\n"
     ]
    }
   ],
   "source": [
    "Q7. Give the order of execution of SQL clauses in an SQL query.\n",
    "\n",
    "step1: from\n",
    "step2:where\n",
    "step3:group by\n",
    "step4:having\n",
    "step5:select\n",
    "step6:    "
   ]
  },
  {
   "cell_type": "code",
   "execution_count": null,
   "id": "b389c0e9",
   "metadata": {},
   "outputs": [],
   "source": [
    "\n"
   ]
  }
 ],
 "metadata": {
  "kernelspec": {
   "display_name": "Python 3 (ipykernel)",
   "language": "python",
   "name": "python3"
  },
  "language_info": {
   "codemirror_mode": {
    "name": "ipython",
    "version": 3
   },
   "file_extension": ".py",
   "mimetype": "text/x-python",
   "name": "python",
   "nbconvert_exporter": "python",
   "pygments_lexer": "ipython3",
   "version": "3.9.13"
  }
 },
 "nbformat": 4,
 "nbformat_minor": 5
}
