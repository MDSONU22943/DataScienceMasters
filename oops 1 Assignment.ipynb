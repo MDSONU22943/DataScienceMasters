{
 "cells": [
  {
   "cell_type": "markdown",
   "id": "6224394f",
   "metadata": {},
   "source": [
    "Q1. Explain Class and Object with respect to Object-Oriented Programming. Give a suitable example."
   ]
  },
  {
   "cell_type": "markdown",
   "id": "1288b311",
   "metadata": {},
   "source": [
    "Ans : class->A class is a user-defined data type. It consists of data members and member functions, which can be accessed and\n",
    "             used by creating an instance of that class.\n",
    "             It represents the set of properties or methods that are common to all objects of one type.\n",
    "             A class is like a blueprint for an object.\n",
    "    \n",
    "   object ->It is a basic unit of Object-Oriented Programming and represents the real-life entities. An Object is an instance\n",
    "           of a Class.\n",
    "    When a class is defined, no memory is allocated but when it is instantiated (i.e. an object is created) memory is allocated.\n",
    "    An object has an identity, state, and behavior. Each object contains data and code to manipulate the data. \n",
    "    Objects can interact without having to know details of each other’s data or code, \n",
    "    it is sufficient to know the type of message accepted and type of response returned by the objects. \n",
    "    For example “Dog” is a real-life Object, which has some characteristics like color, Breed, Bark, Sleep, and Eats."
   ]
  },
  {
   "cell_type": "code",
   "execution_count": 3,
   "id": "6f6ab2c7",
   "metadata": {},
   "outputs": [
    {
     "name": "stdout",
     "output_type": "stream",
     "text": [
      "I'm a mammal\n",
      "I'm a dog\n"
     ]
    }
   ],
   "source": [
    "class dog:\n",
    "    attr1=\"mammal\"\n",
    "    attr2=\"dog\"\n",
    "    def fun(self):\n",
    "        print(\"I'm a\", self.attr1)\n",
    "        print(\"I'm a\", self.attr2)\n",
    " \n",
    "pitbull=dog()\n",
    "pitbull.fun()"
   ]
  },
  {
   "cell_type": "markdown",
   "id": "38386da8",
   "metadata": {},
   "source": [
    "Q2. Name the four pillars of OOPs."
   ]
  },
  {
   "cell_type": "markdown",
   "id": "76fe4bb8",
   "metadata": {},
   "source": [
    "Ans :The four pillars of object-oriented programming are:\n",
    "Abstraction\n",
    "Encapsulation\n",
    "Inheritance\n",
    "Polymorphism"
   ]
  },
  {
   "cell_type": "markdown",
   "id": "0310247a",
   "metadata": {},
   "source": [
    "Q3. Explain why the __init__() function is used. Give a suitable example."
   ]
  },
  {
   "cell_type": "markdown",
   "id": "6378e681",
   "metadata": {},
   "source": [
    "Ans : The __init__() is a constructor.Constructors are used to initializing the object’s state.\n",
    "    The task of constructors is to initialize(assign values) to the data members of the class when an object of the class is\n",
    "    created. Like methods, a constructor also contains a collection of statements(i.e. instructions) that are executed at\n",
    "    the time of Object creation. It is run as soon as an object of a class is instantiated."
   ]
  },
  {
   "cell_type": "code",
   "execution_count": 6,
   "id": "a0e82d65",
   "metadata": {},
   "outputs": [
    {
     "name": "stdout",
     "output_type": "stream",
     "text": [
      "Hello, my name is Nikhil\n"
     ]
    }
   ],
   "source": [
    "class Person:\n",
    "    def __init__(self, name):\n",
    "        self.name = name\n",
    "    def say_hi(self):\n",
    "        print('Hello, my name is', self.name)\n",
    "        \n",
    "p = Person('Nikhil')\n",
    "p.say_hi()        "
   ]
  },
  {
   "cell_type": "markdown",
   "id": "06056999",
   "metadata": {},
   "source": [
    "Q4. Why self is used in OOPs?"
   ]
  },
  {
   "cell_type": "markdown",
   "id": "60929e90",
   "metadata": {},
   "source": [
    "Ans: self represents the instance of the class. By using the “self”  we can access the attributes and methods of the \n",
    "    class in python. It binds the attributes with the given arguments."
   ]
  },
  {
   "cell_type": "markdown",
   "id": "2eaf52c2",
   "metadata": {},
   "source": [
    "Q5. What is inheritance? Give an example for each type of inheritance."
   ]
  },
  {
   "cell_type": "markdown",
   "id": "0dde4934",
   "metadata": {},
   "source": [
    "Ans :Inheritance is the ability of one class to inherit another class. Inheritance provides reusability of code and allows us\n",
    "    to create complex and real-world-like relationships among objects.\n",
    "    syntax : class SubClass(SuperClass):\n",
    "    Types of Inheritance:\n",
    "        1.single level inheritance\n",
    "        2.multiple inheritance\n",
    "        3.multi-level inheritance\n",
    "        4.Hierarchical Inheritance \n",
    "       \n",
    "        "
   ]
  },
  {
   "cell_type": "code",
   "execution_count": 10,
   "id": "2a7d4ede",
   "metadata": {},
   "outputs": [
    {
     "name": "stdout",
     "output_type": "stream",
     "text": [
      "('John', 30)\n"
     ]
    }
   ],
   "source": [
    "# single inheritance\n",
    "class Person:\n",
    "    def __init__(self, name, age):\n",
    "        self.name = name\n",
    "        self.age = age\n",
    "class Professor(Person):\n",
    "    def isProfessor(self):\n",
    "        return self.name,self.age\n",
    "sir = Professor(\"John\", 30)\n",
    "print(sir.isProfessor())"
   ]
  },
  {
   "cell_type": "code",
   "execution_count": 11,
   "id": "3ccb4246",
   "metadata": {},
   "outputs": [
    {
     "name": "stdout",
     "output_type": "stream",
     "text": [
      "8\n"
     ]
    }
   ],
   "source": [
    "# multiple inheritance\n",
    "class SuperClass1:\n",
    "    num1 = 3\n",
    "class SuperClass2:\n",
    "    num2 = 5\n",
    "class SubClass( SuperClass1, SuperClass2):\n",
    "    def addition(self):\n",
    "        return self.num1 + self.num2\n",
    "obj = SubClass()\n",
    "print(obj.addition())"
   ]
  },
  {
   "cell_type": "code",
   "execution_count": 12,
   "id": "78be4397",
   "metadata": {},
   "outputs": [
    {
     "name": "stdout",
     "output_type": "stream",
     "text": [
      "Pythondata\n"
     ]
    }
   ],
   "source": [
    "# multi-level inheritance\n",
    "class Parent:\n",
    "    str1 = \"Python\"\n",
    "class Child(Parent):\n",
    "    str2 = \"data\"\n",
    "class GrandChild(Child):\n",
    "    def get_str(self):\n",
    "        print(self.str1 + self.str2)\n",
    "person = GrandChild()\n",
    "person.get_str()"
   ]
  },
  {
   "cell_type": "code",
   "execution_count": 13,
   "id": "8b9b94f1",
   "metadata": {},
   "outputs": [
    {
     "name": "stdout",
     "output_type": "stream",
     "text": [
      "3 3 3\n"
     ]
    }
   ],
   "source": [
    "# Hierarchical Inheritance \n",
    "class SuperClass:\n",
    "    x = 3\n",
    "class SubClass1(SuperClass):\n",
    "    pass\n",
    "class SubClass2(SuperClass):\n",
    "    pass\n",
    "class SubClass3(SuperClass):\n",
    "    pass\n",
    "a = SubClass1()\n",
    "b = SubClass2()\n",
    "c = SubClass3()\n",
    "print(a.x, b.x, c.x)"
   ]
  }
 ],
 "metadata": {
  "kernelspec": {
   "display_name": "Python 3 (ipykernel)",
   "language": "python",
   "name": "python3"
  },
  "language_info": {
   "codemirror_mode": {
    "name": "ipython",
    "version": 3
   },
   "file_extension": ".py",
   "mimetype": "text/x-python",
   "name": "python",
   "nbconvert_exporter": "python",
   "pygments_lexer": "ipython3",
   "version": "3.9.13"
  }
 },
 "nbformat": 4,
 "nbformat_minor": 5
}
