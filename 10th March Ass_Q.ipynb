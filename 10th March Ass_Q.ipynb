{
 "cells": [
  {
   "cell_type": "code",
   "execution_count": null,
   "id": "19c57721",
   "metadata": {},
   "outputs": [],
   "source": [
    "Q1: What is Estimation Statistics? Explain point estimate and interval estimate."
   ]
  },
  {
   "cell_type": "markdown",
   "id": "e51a645f",
   "metadata": {},
   "source": [
    "Estimation statistics is a branch of statistics that deals with estimating population parameters based on sample data. It involves making inferences about the characteristics of a population based on a sample from that population.\n",
    "\n",
    "Point estimate is a single value that is used to estimate an unknown population parameter. For example, if we want to estimate the mean height of all people in a certain town, we can take a sample of heights from the town and calculate the mean of that sample. This mean is a point estimate of the true population mean.\n",
    "\n",
    "Interval estimate is a range of values within which the true population parameter is likely to lie. It is typically expressed as a confidence interval, which is a range of values that has a specified level of confidence associated with it. For example, if we calculate a 95% confidence interval for the mean height of all people in a certain town, this interval will contain the true population mean in 95% of all possible samples taken from the population.\n",
    "\n",
    "Interval estimates are typically preferred over point estimates because they provide more information about the uncertainty of the estimate. A confidence interval gives an idea of how much the estimate might vary from sample to sample, whereas a point estimate only gives a single value with no indication of the range of possible values."
   ]
  },
  {
   "cell_type": "code",
   "execution_count": null,
   "id": "9564076c",
   "metadata": {},
   "outputs": [],
   "source": [
    "Q2. Write a Python function to estimate the population mean using a sample mean and standard\n",
    "deviation."
   ]
  },
  {
   "cell_type": "code",
   "execution_count": 1,
   "id": "2007efe4",
   "metadata": {},
   "outputs": [],
   "source": [
    "def estimate_population_mean(sample_mean, sample_std_dev, sample_size):\n",
    "    import math\n",
    "    # calculate the standard error of the mean\n",
    "    std_error = sample_std_dev / math.sqrt(sample_size)\n",
    "    # calculate the margin of error at the 95% confidence level\n",
    "    margin_of_error = 1.96 * std_error\n",
    "    # calculate the lower and upper bounds of the confidence interval\n",
    "    lower_bound = sample_mean - margin_of_error\n",
    "    upper_bound = sample_mean + margin_of_error\n",
    "    # return the estimated population mean and the 95% confidence interval\n",
    "    return (sample_mean, lower_bound, upper_bound)\n"
   ]
  },
  {
   "cell_type": "code",
   "execution_count": null,
   "id": "5a633b09",
   "metadata": {},
   "outputs": [],
   "source": [
    "Q3: What is Hypothesis testing? Why is it used? State the importance of Hypothesis testing."
   ]
  },
  {
   "cell_type": "markdown",
   "id": "6091045b",
   "metadata": {},
   "source": [
    "Hypothesis testing is a statistical method that is used to make decisions or inferences about a population parameter based on sample data. The basic idea behind hypothesis testing is to determine whether a certain hypothesis about the population parameter is supported by the available evidence from the sample data or not.\n",
    "\n",
    "The hypothesis testing process involves formulating a null hypothesis (H0) and an alternative hypothesis (Ha) based on the research question or problem at hand. The null hypothesis is the default assumption that there is no significant difference or relationship between the population parameter and the sample data, while the alternative hypothesis is the opposite of the null hypothesis.\n",
    "\n",
    "The importance of hypothesis testing lies in its ability to provide a framework for making objective and data-driven decisions in scientific research and other fields where statistical analysis is necessary. Hypothesis testing allows researchers to evaluate the evidence for or against a particular hypothesis and to draw conclusions about the population parameter with a certain level of confidence.\n",
    "\n",
    "In addition, hypothesis testing helps to minimize the risk of making false or erroneous conclusions by providing a systematic and rigorous approach to statistical analysis. It also allows researchers to control for various sources of bias and to ensure that the results are reliable and replicable.\n",
    "\n",
    "Overall, hypothesis testing is an essential tool in scientific research, data analysis, and decision-making processes, as it allows researchers and practitioners to make informed and evidence-based decisions with a high degree of confidence."
   ]
  },
  {
   "cell_type": "code",
   "execution_count": null,
   "id": "6c817d3c",
   "metadata": {},
   "outputs": [],
   "source": [
    "Q4. Create a hypothesis that states whether the average weight of male college students is greater than\n",
    "the average weight of female college students."
   ]
  },
  {
   "cell_type": "markdown",
   "id": "65a33ded",
   "metadata": {},
   "source": [
    "Hypothesis: The average weight of male college students is greater than the average weight of female college students.\n",
    "\n",
    "This hypothesis can be tested by collecting data on the weights of male and female college students and calculating the mean weight for each group. Then, a statistical test such as a t-test or z-test can be used to determine whether there is a significant difference between the means of the two groups."
   ]
  },
  {
   "cell_type": "code",
   "execution_count": null,
   "id": "b6402b62",
   "metadata": {},
   "outputs": [],
   "source": [
    "Q5. Write a Python script to conduct a hypothesis test on the difference between two population means,\n",
    "given a sample from each population."
   ]
  },
  {
   "cell_type": "code",
   "execution_count": 2,
   "id": "5cca90f7",
   "metadata": {},
   "outputs": [
    {
     "name": "stdout",
     "output_type": "stream",
     "text": [
      "Reject the null hypothesis\n",
      "t-statistic: -4.0680\n",
      "p-value: 0.0001\n"
     ]
    }
   ],
   "source": [
    "import numpy as np\n",
    "from scipy.stats import ttest_ind\n",
    "\n",
    "# Generate two samples from populations with different means and variances\n",
    "sample1 = np.random.normal(loc=10, scale=2, size=50)\n",
    "sample2 = np.random.normal(loc=12, scale=3, size=50)\n",
    "\n",
    "# Conduct a two-sample t-test assuming unequal variances\n",
    "t_stat, p_value = ttest_ind(sample1, sample2, equal_var=False)\n",
    "\n",
    "# Set the significance level for the test (alpha)\n",
    "alpha = 0.05\n",
    "\n",
    "# Determine whether to reject or fail to reject the null hypothesis\n",
    "if p_value < alpha:\n",
    "    print(\"Reject the null hypothesis\")\n",
    "else:\n",
    "    print(\"Fail to reject the null hypothesis\")\n",
    "    \n",
    "# Print the test statistic and p-value\n",
    "print(f\"t-statistic: {t_stat:.4f}\")\n",
    "print(f\"p-value: {p_value:.4f}\")\n"
   ]
  },
  {
   "cell_type": "code",
   "execution_count": null,
   "id": "667d04e9",
   "metadata": {},
   "outputs": [],
   "source": [
    "Q6: What is a null and alternative hypothesis? Give some examples."
   ]
  },
  {
   "cell_type": "markdown",
   "id": "4d8cc4ad",
   "metadata": {},
   "source": [
    "In statistical hypothesis testing, a null hypothesis (H0) is a statement about the population parameter(s) that is assumed to be true unless there is sufficient evidence to reject it. An alternative hypothesis (HA) is a statement that contradicts the null hypothesis and represents the research question or hypothesis we want to test.\n",
    "\n",
    "Here are some examples of null and alternative hypotheses:\n",
    "\n",
    "A company claims that the mean time it takes to resolve a customer complaint is 24 hours. We want to test whether this claim is supported by the data.\n",
    "Null hypothesis (H0): The mean time to resolve a customer complaint is equal to 24 hours.\n",
    "Alternative hypothesis (HA): The mean time to resolve a customer complaint is not equal to 24 hours.\n",
    "\n",
    "A researcher wants to investigate whether a new drug reduces blood pressure. The current standard drug reduces blood pressure by an average of 10 mmHg.\n",
    "Null hypothesis (H0): The mean reduction in blood pressure with the new drug is equal to 10 mmHg.\n",
    "Alternative hypothesis (HA): The mean reduction in blood pressure with the new drug is different from 10 mmHg.\n",
    "\n",
    "A university claims that the pass rate for their statistics course is at least 75%. We want to test whether this claim is supported by the data.\n",
    "Null hypothesis (H0): The pass rate for the statistics course is equal to 75% or less.\n",
    "Alternative hypothesis (HA): The pass rate for the statistics course is greater than 75%.\n",
    "\n",
    "In each of these examples, the null hypothesis represents the status quo or current understanding, while the alternative hypothesis represents the research question or hypothesis that we want to test. By collecting and analyzing data, we can determine whether there is sufficient evidence to reject the null hypothesis in favor of the alternative hypothesis."
   ]
  },
  {
   "cell_type": "code",
   "execution_count": null,
   "id": "3ed6139a",
   "metadata": {},
   "outputs": [],
   "source": [
    "Q7: Write down the steps involved in hypothesis testing."
   ]
  },
  {
   "cell_type": "markdown",
   "id": "5e92281e",
   "metadata": {},
   "source": [
    "The steps involved in hypothesis testing are as follows:\n",
    "\n",
    "State the null and alternative hypotheses:\n",
    "\n",
    "Null hypothesis (H0): a statement about the population parameter(s) that is assumed to be true unless there is sufficient evidence to reject it.\n",
    "Alternative hypothesis (HA): a statement that contradicts the null hypothesis and represents the research question or hypothesis we want to test.\n",
    "Determine the level of significance (alpha) for the test:\n",
    "\n",
    "The significance level (alpha) is the probability of rejecting the null hypothesis when it is actually true. It is typically set to 0.05, which corresponds to a 5% chance of making a Type I error (rejecting the null hypothesis when it is true).\n",
    "Choose the appropriate test statistic:\n",
    "\n",
    "The test statistic is a value calculated from the sample data that is used to determine the likelihood of observing the data if the null hypothesis is true. The choice of test statistic depends on the type of hypothesis being tested, the nature of the data, and the sample size.\n",
    "Calculate the p-value:\n",
    "\n",
    "The p-value is the probability of observing a test statistic as extreme as or more extreme than the one calculated from the sample data, assuming the null hypothesis is true. A small p-value (less than the significance level) provides evidence against the null hypothesis, while a large p-value fails to provide evidence against the null hypothesis.\n",
    "Compare the p-value to the significance level:\n",
    "\n",
    "If the p-value is less than the significance level, reject the null hypothesis in favor of the alternative hypothesis.\n",
    "If the p-value is greater than the significance level, fail to reject the null hypothesis.\n",
    "Draw conclusions and make inferences:\n",
    "\n",
    "If the null hypothesis is rejected, it suggests that there is sufficient evidence to support the alternative hypothesis. In this case, we can make inferences about the population parameter(s) based on the sample data.\n",
    "If the null hypothesis is not rejected, it suggests that there is not enough evidence to support the alternative hypothesis. In this case, we cannot make strong inferences about the population parameter(s) based on the sample data alone."
   ]
  },
  {
   "cell_type": "code",
   "execution_count": null,
   "id": "00372da5",
   "metadata": {},
   "outputs": [],
   "source": [
    "Q8. Define p-value and explain its significance in hypothesis testing."
   ]
  },
  {
   "cell_type": "markdown",
   "id": "3f115ea2",
   "metadata": {},
   "source": [
    "In hypothesis testing, the p-value is the probability of observing a test statistic as extreme as or more extreme than the one calculated from the sample data, assuming the null hypothesis is true. It is used to determine the strength of evidence against the null hypothesis and helps us make decisions about whether to reject or fail to reject the null hypothesis.\n",
    "\n",
    "The p-value represents the probability of obtaining the observed sample data or more extreme data, assuming that the null hypothesis is true. A small p-value (typically less than 0.05) indicates that the observed data is unlikely to have occurred by chance alone, and provides evidence against the null hypothesis. Conversely, a large p-value (greater than 0.05) suggests that the observed data is likely to have occurred by chance alone, and fails to provide evidence against the null hypothesis.\n",
    "\n",
    "If the p-value is less than the chosen level of significance (usually set to 0.05), we reject the null hypothesis in favor of the alternative hypothesis. This means that the observed sample data is unlikely to have occurred by chance alone, and we have sufficient evidence to support the alternative hypothesis. On the other hand, if the p-value is greater than the level of significance, we fail to reject the null hypothesis. This means that the observed sample data is likely to have occurred by chance alone, and we do not have enough evidence to support the alternative hypothesis.\n",
    "\n",
    "Therefore, the p-value is a crucial component in hypothesis testing as it provides a measure of the strength of evidence against the null hypothesis. It helps us make decisions about whether to accept or reject the null hypothesis and allows us to draw conclusions about the population parameter(s) based on the sample data.\n",
    "\n",
    "\n",
    "\n"
   ]
  },
  {
   "cell_type": "code",
   "execution_count": null,
   "id": "e3c0fa80",
   "metadata": {},
   "outputs": [],
   "source": [
    "Q9. Generate a Student's t-distribution plot using Python's matplotlib library, with the degrees of freedom\n",
    "parameter set to 10."
   ]
  },
  {
   "cell_type": "code",
   "execution_count": 3,
   "id": "82d5aed3",
   "metadata": {},
   "outputs": [
    {
     "data": {
      "image/png": "[encoded data removed]",
      "text/plain": [
       "<Figure size 640x480 with 1 Axes>"
      ]
     },
     "metadata": {},
     "output_type": "display_data"
    }
   ],
   "source": [
    "import matplotlib.pyplot as plt\n",
    "import numpy as np\n",
    "from scipy.stats import t\n",
    "\n",
    "# Set degrees of freedom\n",
    "df = 10\n",
    "\n",
    "# Define range for x-axis\n",
    "x = np.linspace(-5, 5, 500)\n",
    "\n",
    "# Calculate t-distribution for given degrees of freedom\n",
    "y = t.pdf(x, df)\n",
    "\n",
    "# Create plot\n",
    "fig, ax = plt.subplots()\n",
    "ax.plot(x, y, 'b-', linewidth=2)\n",
    "\n",
    "# Add title and axis labels\n",
    "ax.set_title(\"Student's t-Distribution (df=10)\")\n",
    "ax.set_xlabel('x')\n",
    "ax.set_ylabel('PDF')\n",
    "\n",
    "plt.show()\n"
   ]
  },
  {
   "cell_type": "code",
   "execution_count": null,
   "id": "e55e72e9",
   "metadata": {},
   "outputs": [],
   "source": [
    "Q10. Write a Python program to calculate the two-sample t-test for independent samples, given two\n",
    "random samples of equal size and a null hypothesis that the population means are equal."
   ]
  },
  {
   "cell_type": "code",
   "execution_count": 4,
   "id": "c417f157",
   "metadata": {},
   "outputs": [
    {
     "name": "stdout",
     "output_type": "stream",
     "text": [
      "Null Hypothesis: The population means of two groups are equal\n",
      "Sample 1 Mean: 9.65\n",
      "Sample 2 Mean: 11.75\n",
      "T-Statistic: -4.91\n",
      "P-Value: 0.0000\n"
     ]
    }
   ],
   "source": [
    "import numpy as np\n",
    "from scipy.stats import ttest_ind\n",
    "\n",
    "# Create two random samples of equal size\n",
    "sample1 = np.random.normal(loc=10, scale=2, size=50)\n",
    "sample2 = np.random.normal(loc=12, scale=2, size=50)\n",
    "\n",
    "# Set null hypothesis that the population means are equal\n",
    "null_hypothesis = \"The population means of two groups are equal\"\n",
    "\n",
    "# Calculate t-statistic and p-value for two-sample t-test\n",
    "t_statistic, p_value = ttest_ind(sample1, sample2)\n",
    "\n",
    "# Print results\n",
    "print(\"Null Hypothesis: {}\".format(null_hypothesis))\n",
    "print(\"Sample 1 Mean: {:.2f}\".format(sample1.mean()))\n",
    "print(\"Sample 2 Mean: {:.2f}\".format(sample2.mean()))\n",
    "print(\"T-Statistic: {:.2f}\".format(t_statistic))\n",
    "print(\"P-Value: {:.4f}\".format(p_value))\n"
   ]
  },
  {
   "cell_type": "code",
   "execution_count": null,
   "id": "b99e3e27",
   "metadata": {},
   "outputs": [],
   "source": [
    "Q11: What is Student’s t distribution? When to use the t-Distribution."
   ]
  },
  {
   "cell_type": "markdown",
   "id": "3dd91891",
   "metadata": {},
   "source": [
    "Student's t-distribution is a probability distribution that is used to model the uncertainty associated with a sample mean when the sample size is small (typically n < 30) and the population standard deviation is unknown. It was introduced by William Gosset (who wrote under the pseudonym \"Student\") in 1908.\n",
    "\n",
    "The t-distribution is similar to the standard normal distribution but has heavier tails, which means it has more probability mass in the tails of the distribution than the normal distribution. As the sample size increases, the t-distribution becomes more similar to the normal distribution. The t-distribution is parameterized by its degrees of freedom (df), which is the sample size minus one.\n",
    "\n",
    "The t-distribution is commonly used in hypothesis testing when the sample size is small and the population standard deviation is unknown. It is used to calculate confidence intervals, test hypotheses about population means, and determine whether two sample means are statistically different from each other.\n",
    "\n",
    "In summary, the t-distribution is used when the sample size is small and the population standard deviation is unknown, and is used in statistical inference to make probabilistic statements about population parameters based on sample data."
   ]
  },
  {
   "cell_type": "code",
   "execution_count": null,
   "id": "41f6bb1e",
   "metadata": {},
   "outputs": [],
   "source": [
    "Q12: What is t-statistic? State the formula for t-statistic."
   ]
  },
  {
   "cell_type": "markdown",
   "id": "032af422",
   "metadata": {},
   "source": [
    "The t-statistic is a test statistic that is used in hypothesis testing to determine whether the mean of a sample is significantly different from a known or hypothesized population mean. It is calculated as the difference between the sample mean and the population mean (or hypothesized mean) divided by the standard error of the sample mean.\n",
    "\n",
    "The formula for t-statistic is:\n",
    "\n",
    "t = (x̄ - μ) / (s / sqrt(n))\n",
    "\n",
    "where:\n",
    "\n",
    "x̄ is the sample mean\n",
    "μ is the population mean or hypothesized mean\n",
    "s is the standard deviation of the sample\n",
    "n is the sample size.\n",
    "The t-statistic measures the number of standard errors between the sample mean and the hypothesized population mean. If the absolute value of the t-statistic is large (i.e., greater than the critical value), then it provides evidence against the null hypothesis that the sample mean is equal to the population mean (or hypothesized mean) and supports the alternative hypothesis that the sample mean is significantly different from the population mean."
   ]
  },
  {
   "cell_type": "code",
   "execution_count": null,
   "id": "4bfb9415",
   "metadata": {},
   "outputs": [],
   "source": [
    "Q13. A coffee shop owner wants to estimate the average daily revenue for their shop. They take a random\n",
    "sample of 50 days and find the sample mean revenue to be $500 with a standard deviation of $50.\n",
    "Estimate the population mean revenue with a 95% confidence interval."
   ]
  },
  {
   "cell_type": "markdown",
   "id": "029a4375",
   "metadata": {},
   "source": [
    "To estimate the population mean revenue with a 95% confidence interval, we can use the following formula:\n",
    "\n",
    "CI = x̄ ± t*(s/√n)\n",
    "\n",
    "where:\n",
    "\n",
    "x̄ is the sample mean revenue\n",
    "s is the sample standard deviation\n",
    "n is the sample size\n",
    "t is the critical value of the t-distribution with n-1 degrees of freedom and a 95% confidence level.\n",
    "First, we need to find the critical value of t for a 95% confidence level and 49 degrees of freedom (n-1). We can use a t-distribution table or a statistical software to find this value. For a two-tailed test, the critical value of t is approximately 2.01.\n",
    "\n",
    "Substituting the values into the formula, we get:\n",
    "\n",
    "CI = 500 ± 2.01*(50/√50)\n",
    "\n",
    "Simplifying the expression, we get:\n",
    "\n",
    "CI = 500 ± 14.14\n",
    "\n",
    "Therefore, we can estimate with 95% confidence that the population mean revenue for the coffee shop falls within the interval of $485.86 to $514.14."
   ]
  },
  {
   "cell_type": "code",
   "execution_count": null,
   "id": "60d89f61",
   "metadata": {},
   "outputs": [],
   "source": [
    "Q14. A researcher hypothesizes that a new drug will decrease blood pressure by 10 mmHg. They conduct a\n",
    "clinical trial with 100 patients and find that the sample mean decrease in blood pressure is 8 mmHg with a\n",
    "standard deviation of 3 mmHg. Test the hypothesis with a significance level of 0.05."
   ]
  },
  {
   "cell_type": "markdown",
   "id": "48587eb8",
   "metadata": {},
   "source": [
    "To test the hypothesis that the new drug decreases blood pressure by 10 mmHg, we can use a one-sample t-test with the following null and alternative hypotheses:\n",
    "\n",
    "H0: µ = 10 (The new drug does not decrease blood pressure by 10 mmHg)\n",
    "Ha: µ < 10 (The new drug decreases blood pressure by less than 10 mmHg)\n",
    "\n",
    "We can use a significance level of 0.05, which means that we will reject the null hypothesis if the p-value is less than 0.05.\n",
    "\n",
    "The t-statistic for this test is calculated as:\n",
    "\n",
    "t = (x̄ - µ) / (s/√n)\n",
    "\n",
    "where:\n",
    "\n",
    "x̄ is the sample mean decrease in blood pressure\n",
    "µ is the hypothesized decrease in blood pressure (10 mmHg)\n",
    "s is the sample standard deviation\n",
    "n is the sample size.\n",
    "Substituting the values into the formula, we get:\n",
    "\n",
    "t = (8 - 10) / (3/√100) = -2.82\n",
    "\n",
    "The degrees of freedom for this test are n-1 = 99. We can use a t-distribution table or a statistical software to find the p-value associated with this t-statistic.\n",
    "\n",
    "Using a t-distribution table with 99 degrees of freedom, we find that the p-value for a one-tailed test with a t-statistic of -2.82 is approximately 0.002. Since the p-value is less than 0.05, we can reject the null hypothesis and conclude that the new drug decreases blood pressure by less than 10 mmHg with a significance level of 0.05.\n",
    "\n",
    "Therefore, the clinical trial provides evidence to support the researcher's hypothesis that the new drug decreases blood pressure, but the magnitude of the decrease is less than 10 mmHg."
   ]
  },
  {
   "cell_type": "code",
   "execution_count": null,
   "id": "1277ebfe",
   "metadata": {},
   "outputs": [],
   "source": [
    "Q15. An electronics company produces a certain type of product with a mean weight of 5 pounds and a\n",
    "standard deviation of 0.5 pounds. A random sample of 25 products is taken, and the sample mean weight\n",
    "is found to be 4.8 pounds. Test the hypothesis that the true mean weight of the products is less than 5\n",
    "pounds with a significance level of 0.01."
   ]
  },
  {
   "cell_type": "markdown",
   "id": "accff3a2",
   "metadata": {},
   "source": [
    "To test the hypothesis that the true mean weight of the products is less than 5 pounds, we can use a one-sample t-test with the following null and alternative hypotheses:\n",
    "\n",
    "H0: µ = 5 (The true mean weight is equal to 5 pounds)\n",
    "Ha: µ < 5 (The true mean weight is less than 5 pounds)\n",
    "\n",
    "We can use a significance level of 0.01, which means that we will reject the null hypothesis if the p-value is less than 0.01.\n",
    "\n",
    "The t-statistic for this test is calculated as:\n",
    "\n",
    "t = (x̄ - µ) / (s/√n)\n",
    "\n",
    "where:\n",
    "\n",
    "x̄ is the sample mean weight\n",
    "µ is the hypothesized true mean weight (5 pounds)\n",
    "s is the sample standard deviation\n",
    "n is the sample size.\n",
    "Substituting the values into the formula, we get:\n",
    "\n",
    "t = (4.8 - 5) / (0.5/√25) = -2\n",
    "\n",
    "The degrees of freedom for this test are n-1 = 24. We can use a t-distribution table or a statistical software to find the p-value associated with this t-statistic.\n",
    "\n",
    "Using a t-distribution table with 24 degrees of freedom, we find that the p-value for a one-tailed test with a t-statistic of -2 is approximately 0.029. Since the p-value is less than 0.01, we can reject the null hypothesis and conclude that the true mean weight of the products is less than 5 pounds with a significance level of 0.01.\n",
    "\n",
    "Therefore, the sample provides evidence to support the hypothesis that the true mean weight of the products is less than 5 pounds.\n",
    "\n",
    "\n",
    "\n"
   ]
  },
  {
   "cell_type": "code",
   "execution_count": null,
   "id": "8b83256c",
   "metadata": {},
   "outputs": [],
   "source": [
    "Q16. Two groups of students are given different study materials to prepare for a test. The first group (n1 =\n",
    "30) has a mean score of 80 with a standard deviation of 10, and the second group (n2 = 40) has a mean\n",
    "score of 75 with a standard deviation of 8. Test the hypothesis that the population means for the two\n",
    "groups are equal with a significance level of 0.01."
   ]
  },
  {
   "cell_type": "markdown",
   "id": "ba9c6423",
   "metadata": {},
   "source": [
    "To test the hypothesis that the population means for the two groups are equal, we can use a two-sample t-test for independent samples with equal variances, with the following null and alternative hypotheses:\n",
    "\n",
    "H0: µ1 = µ2 (The population means are equal)\n",
    "Ha: µ1 ≠ µ2 (The population means are not equal)\n",
    "\n",
    "We can use a significance level of 0.01, which means that we will reject the null hypothesis if the p-value is less than 0.01.\n",
    "\n",
    "The test statistic for this test is calculated as:\n",
    "\n",
    "t = (x̄1 - x̄2) / (s_p * √(1/n1 + 1/n2))\n",
    "\n",
    "where:\n",
    "\n",
    "x̄1 and x̄2 are the sample means for the two groups\n",
    "s_p is the pooled standard deviation, calculated as:\n",
    "s_p = √(((n1-1)*s1^2 + (n2-1)*s2^2)/(n1+n2-2))\n",
    "\n",
    "where s1 and s2 are the sample standard deviations for the two groups\n",
    "\n",
    "n1 and n2 are the sample sizes.\n",
    "Substituting the values into the formula, we get:\n",
    "\n",
    "s1 = 10, s2 = 8, n1 = 30, n2 = 40, x̄1 = 80, x̄2 = 75\n",
    "\n",
    "s_p = √(((30-1)*10^2 + (40-1)*8^2)/(30+40-2)) = 9.038\n",
    "\n",
    "t = (80 - 75) / (9.038 * √(1/30 + 1/40)) = 2.62\n",
    "\n",
    "The degrees of freedom for this test are (n1 + n2 - 2) = 68. We can use a t-distribution table or a statistical software to find the p-value associated with this t-statistic.\n",
    "\n",
    "Using a t-distribution table with 68 degrees of freedom, we find that the p-value for a two-tailed test with a t-statistic of 2.62 is approximately 0.01. Since the p-value is less than 0.01, we can reject the null hypothesis and conclude that the population means for the two groups are not equal with a significance level of 0.01.\n",
    "\n",
    "Therefore, the sample provides evidence to support the hypothesis that the population means for the two groups are not equal."
   ]
  },
  {
   "cell_type": "code",
   "execution_count": null,
   "id": "65fc3d1d",
   "metadata": {},
   "outputs": [],
   "source": [
    "Q17. A marketing company wants to estimate the average number of ads watched by viewers during a TV\n",
    "program. They take a random sample of 50 viewers and find that the sample mean is 4 with a standard\n",
    "deviation of 1.5. Estimate the population mean with a 99% confidence interval."
   ]
  },
  {
   "cell_type": "markdown",
   "id": "55dd6c81",
   "metadata": {},
   "source": [
    "To estimate the population mean with a 99% confidence interval, we can use the following formula:\n",
    "\n",
    "CI = X̄ ± z*(σ/√n)\n",
    "\n",
    "Where:\n",
    "\n",
    "X̄ = sample mean (4)\n",
    "z = z-score corresponding to the confidence level (99%)\n",
    "σ = population standard deviation (1.5)\n",
    "n = sample size (50)\n",
    "\n",
    "To find the z-score, we can use a standard normal distribution table. For a 99% confidence level, the z-score is\n",
    "\n",
    "z-score = 2.576.\n",
    "\n",
    "Plugging in the values, we get:\n",
    "\n",
    "CI = 4 ± 2.576*(1.5/√50)\n",
    "CI = 4 ± 0.665\n",
    "\n",
    "Therefore, the 99% confidence interval for the population mean of the number of ads watched by viewers during a TV program is (3.335, 4.665). We are 99% confident that the true population mean falls within this interval."
   ]
  },
  {
   "cell_type": "code",
   "execution_count": null,
   "id": "d08e699f",
   "metadata": {},
   "outputs": [],
   "source": []
  },
  {
   "cell_type": "code",
   "execution_count": null,
   "id": "7ef16f97",
   "metadata": {},
   "outputs": [],
   "source": []
  },
  {
   "cell_type": "code",
   "execution_count": null,
   "id": "d144e4c8",
   "metadata": {},
   "outputs": [],
   "source": []
  }
 ],
 "metadata": {
  "kernelspec": {
   "display_name": "Python 3 (ipykernel)",
   "language": "python",
   "name": "python3"
  },
  "language_info": {
   "codemirror_mode": {
    "name": "ipython",
    "version": 3
   },
   "file_extension": ".py",
   "mimetype": "text/x-python",
   "name": "python",
   "nbconvert_exporter": "python",
   "pygments_lexer": "ipython3",
   "version": "3.9.13"
  }
 },
 "nbformat": 4,
 "nbformat_minor": 5
}
