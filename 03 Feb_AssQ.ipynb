{
 "cells": [
  {
   "cell_type": "markdown",
   "id": "c5aeca44",
   "metadata": {},
   "source": [
    "Q1. Which keyword is used to create a function? Create a function to return a list of odd numbers in the\n",
    "range of 1 to 25."
   ]
  },
  {
   "cell_type": "markdown",
   "id": "1a374070",
   "metadata": {},
   "source": [
    "Ans. def keyword is used to create a function in python."
   ]
  },
  {
   "cell_type": "code",
   "execution_count": 3,
   "id": "fca88013",
   "metadata": {},
   "outputs": [
    {
     "data": {
      "text/plain": [
       "[1, 3, 5, 7, 9, 11, 13, 15, 17, 19, 21, 23, 25]"
      ]
     },
     "execution_count": 3,
     "metadata": {},
     "output_type": "execute_result"
    }
   ],
   "source": [
    "l=list(range(1,26))\n",
    "def odd(l):\n",
    "    l1=[]\n",
    "    for i in l:\n",
    "        if i%2!=0:\n",
    "            l1.append(i)\n",
    "    return l1 \n",
    "\n",
    "odd(l)\n",
    "            "
   ]
  },
  {
   "cell_type": "markdown",
   "id": "2119c99f",
   "metadata": {},
   "source": [
    "Q2. Why *args and **kwargs is used in some functions? Create a function each for *args and **kwargs\n",
    "to demonstrate their use."
   ]
  },
  {
   "cell_type": "markdown",
   "id": "4249f3d3",
   "metadata": {},
   "source": [
    "Ans. when we don't know how much argument have been user passed in that case we use *args and **kwargs.*args is generally used\n",
    "     list,tuple, string ,int etc and **kwargs is used with dictionary which contain key ,value pair."
   ]
  },
  {
   "cell_type": "code",
   "execution_count": 9,
   "id": "9cf6a149",
   "metadata": {},
   "outputs": [
    {
     "data": {
      "text/plain": [
       "{'a': [1, 2, 3, 4, 5], 'b': 'sudh', 'c': 23.45}"
      ]
     },
     "execution_count": 9,
     "metadata": {},
     "output_type": "execute_result"
    }
   ],
   "source": [
    "def test(*args,a):\n",
    "    return args,a\n",
    "\n",
    "test(1,2,3,4,5,a=12)\n",
    "\n",
    "\n",
    "def test2(**kwargs):\n",
    "    return kwargs\n",
    "\n",
    "test2(a=[1,2,3,4,5],b=\"sudh\",c=23.45)"
   ]
  },
  {
   "cell_type": "markdown",
   "id": "20318c7b",
   "metadata": {},
   "source": [
    "Q3. What is an iterator in python? Name the method used to initialise the iterator object and the method\n",
    "used for iteration. Use these methods to print the first five elements of the given list [2, 4, 6, 8, 10, 12, 14,\n",
    "16, 18, 20]."
   ]
  },
  {
   "cell_type": "markdown",
   "id": "22afa587",
   "metadata": {},
   "source": [
    "Ans.Iterator in Python is an object that is used to iterate over iterable objects like lists, tuples, dicts,and sets.\n",
    "    The iterator object is initialized using the iter() method. It uses the next() method for iteration."
   ]
  },
  {
   "cell_type": "code",
   "execution_count": 14,
   "id": "80f7b000",
   "metadata": {},
   "outputs": [
    {
     "name": "stdout",
     "output_type": "stream",
     "text": [
      "2\n",
      "4\n",
      "6\n",
      "8\n",
      "10\n",
      "12\n",
      "14\n",
      "16\n",
      "18\n",
      "20\n"
     ]
    }
   ],
   "source": [
    "l=[2, 4, 6, 8, 10, 12, 14, 16, 18, 20]\n",
    "i=iter(l)\n",
    "for j in range(len(l)):\n",
    "    print(next(i))"
   ]
  },
  {
   "cell_type": "markdown",
   "id": "949f238e",
   "metadata": {},
   "source": [
    "Q4. What is a generator function in python? Why yield keyword is used? Give an example of a generator\n",
    "function."
   ]
  },
  {
   "cell_type": "markdown",
   "id": "87edd86d",
   "metadata": {},
   "source": [
    "Ans. Generators are the functions that return the traversal object and used to create iterators. It traverses the entire items\n",
    "     at once.\n",
    "     The yield statement is responsible for controlling the flow of the generator function. It pauses the function \n",
    "     execution by saving all states and yielded to the caller. Later it resumes execution when a successive function is called.\n",
    "    "
   ]
  },
  {
   "cell_type": "code",
   "execution_count": 7,
   "id": "9e94d239",
   "metadata": {},
   "outputs": [
    {
     "name": "stdout",
     "output_type": "stream",
     "text": [
      "0\n",
      "1\n",
      "2\n"
     ]
    }
   ],
   "source": [
    "def my_generator(n):\n",
    "    value = 0\n",
    "    while value < n:\n",
    "        yield value\n",
    "        value += 1\n",
    "\n",
    "\n",
    "for value in my_generator(3):\n",
    "    print(value)"
   ]
  },
  {
   "cell_type": "markdown",
   "id": "0d7526e0",
   "metadata": {},
   "source": [
    "Q5. Create a generator function for prime numbers less than 1000. Use the next() method to print the\n",
    "first 20 prime numbers."
   ]
  },
  {
   "cell_type": "code",
   "execution_count": 15,
   "id": "702fa484",
   "metadata": {},
   "outputs": [
    {
     "name": "stdout",
     "output_type": "stream",
     "text": [
      "2\n",
      "3\n",
      "5\n",
      "7\n",
      "11\n",
      "13\n",
      "17\n",
      "19\n",
      "23\n",
      "29\n",
      "31\n",
      "37\n",
      "41\n",
      "43\n",
      "47\n",
      "53\n",
      "59\n",
      "61\n",
      "67\n",
      "71\n"
     ]
    }
   ],
   "source": [
    "def primes():\n",
    "    \"\"\"Create a generator function for prime numbers less than 1000.\"\"\"\n",
    "    yield 2\n",
    "    primes_list = [2]\n",
    "    for i in range(3, 1000):\n",
    "        is_prime = True\n",
    "        for prime in primes_list:\n",
    "            if i % prime == 0:\n",
    "                is_prime = False\n",
    "                break\n",
    "        if is_prime:\n",
    "            primes_list.append(i)\n",
    "            yield i\n",
    "\n",
    "prime_gen = primes()\n",
    "# the next() method to print the first 20 prime numbers.\n",
    "for i in range(20):\n",
    "    print(next(prime_gen))"
   ]
  },
  {
   "cell_type": "markdown",
   "id": "9fc70195",
   "metadata": {},
   "source": [
    "Q6. Write a python program to print the first 10 Fibonacci numbers using a while loop."
   ]
  },
  {
   "cell_type": "code",
   "execution_count": 6,
   "id": "c4f454bd",
   "metadata": {},
   "outputs": [
    {
     "name": "stdout",
     "output_type": "stream",
     "text": [
      "0\n",
      "1\n",
      "1\n",
      "2\n",
      "3\n",
      "5\n",
      "8\n",
      "13\n",
      "21\n",
      "34\n"
     ]
    }
   ],
   "source": [
    "n=10\n",
    "a,b=0,1\n",
    "while n>0:\n",
    "    print(a)\n",
    "    c=a+b\n",
    "    a=b\n",
    "    b=c\n",
    "    n=n-1\n",
    "    "
   ]
  },
  {
   "cell_type": "markdown",
   "id": "8e6ee366",
   "metadata": {},
   "source": [
    "Q7. Write a List Comprehension to iterate through the given string: ‘pwskills’."
   ]
  },
  {
   "cell_type": "code",
   "execution_count": 4,
   "id": "27d529ed",
   "metadata": {},
   "outputs": [
    {
     "data": {
      "text/plain": [
       "['p', 'w', 's', 'k', 'i', 'l', 'l', 's']"
      ]
     },
     "execution_count": 4,
     "metadata": {},
     "output_type": "execute_result"
    }
   ],
   "source": [
    "l=[i for i in \"pwskills\"]\n",
    "l"
   ]
  },
  {
   "cell_type": "markdown",
   "id": "8f6a73b9",
   "metadata": {},
   "source": [
    "Q8. Write a python program to check whether a given number is Palindrome or not using a while loop."
   ]
  },
  {
   "cell_type": "code",
   "execution_count": 1,
   "id": "54e0291e",
   "metadata": {},
   "outputs": [
    {
     "name": "stdout",
     "output_type": "stream",
     "text": [
      "Enter the number:121\n",
      "The reverse of  121 is  121\n",
      "The number  121 is Palindrome\n"
     ]
    }
   ],
   "source": [
    "num = int (input(\"Enter the number:\"))\n",
    "org = num\n",
    "rev = 0\n",
    "\n",
    "while num > 0:\n",
    "    rem = num % 10\n",
    "    rev = rev * 10 + rem\n",
    "    num = num // 10\n",
    "    \n",
    "print (\"The reverse of \", org, \"is \", rev)\n",
    "if rev == org:\n",
    "    print (\"The number \", org, \"is Palindrome\")\n",
    "else:\n",
    "    print (\"The number \", org, \"is not a Palindrome\")"
   ]
  },
  {
   "cell_type": "markdown",
   "id": "8bcf0b4b",
   "metadata": {},
   "source": [
    "Q9. Write a code to print odd numbers from 1 to 100 using list comprehension."
   ]
  },
  {
   "cell_type": "code",
   "execution_count": 7,
   "id": "fa22cade",
   "metadata": {},
   "outputs": [
    {
     "name": "stdout",
     "output_type": "stream",
     "text": [
      "[1, 3, 5, 7, 9, 11, 13, 15, 17, 19, 21, 23, 25, 27, 29, 31, 33, 35, 37, 39, 41, 43, 45, 47, 49, 51, 53, 55, 57, 59, 61, 63, 65, 67, 69, 71, 73, 75, 77, 79, 81, 83, 85, 87, 89, 91, 93, 95, 97, 99]\n"
     ]
    }
   ],
   "source": [
    "l=[ i for i in range(1,100) if i%2!=0 ]\n",
    "print(l)"
   ]
  },
  {
   "cell_type": "code",
   "execution_count": null,
   "id": "dec930f5",
   "metadata": {},
   "outputs": [],
   "source": []
  }
 ],
 "metadata": {
  "kernelspec": {
   "display_name": "Python 3 (ipykernel)",
   "language": "python",
   "name": "python3"
  },
  "language_info": {
   "codemirror_mode": {
    "name": "ipython",
    "version": 3
   },
   "file_extension": ".py",
   "mimetype": "text/x-python",
   "name": "python",
   "nbconvert_exporter": "python",
   "pygments_lexer": "ipython3",
   "version": "3.9.13"
  }
 },
 "nbformat": 4,
 "nbformat_minor": 5
}
